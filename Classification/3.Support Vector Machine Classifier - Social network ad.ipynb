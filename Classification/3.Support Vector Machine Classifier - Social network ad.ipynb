{
 "cells": [
  {
   "cell_type": "code",
   "execution_count": 1,
   "id": "9b99fff8",
   "metadata": {},
   "outputs": [],
   "source": [
    "#import library\n",
    "import pandas as pd\n",
    "import matplotlib.pyplot as plt\n",
    "import numpy as np"
   ]
  },
  {
   "cell_type": "code",
   "execution_count": 2,
   "id": "75fd444c",
   "metadata": {},
   "outputs": [
    {
     "data": {
      "text/html": [
       "<div>\n",
       "<style scoped>\n",
       "    .dataframe tbody tr th:only-of-type {\n",
       "        vertical-align: middle;\n",
       "    }\n",
       "\n",
       "    .dataframe tbody tr th {\n",
       "        vertical-align: top;\n",
       "    }\n",
       "\n",
       "    .dataframe thead th {\n",
       "        text-align: right;\n",
       "    }\n",
       "</style>\n",
       "<table border=\"1\" class=\"dataframe\">\n",
       "  <thead>\n",
       "    <tr style=\"text-align: right;\">\n",
       "      <th></th>\n",
       "      <th>User ID</th>\n",
       "      <th>Gender</th>\n",
       "      <th>Age</th>\n",
       "      <th>EstimatedSalary</th>\n",
       "      <th>Purchased</th>\n",
       "    </tr>\n",
       "  </thead>\n",
       "  <tbody>\n",
       "    <tr>\n",
       "      <th>0</th>\n",
       "      <td>15624510</td>\n",
       "      <td>Male</td>\n",
       "      <td>19</td>\n",
       "      <td>19000</td>\n",
       "      <td>0</td>\n",
       "    </tr>\n",
       "    <tr>\n",
       "      <th>1</th>\n",
       "      <td>15810944</td>\n",
       "      <td>Male</td>\n",
       "      <td>35</td>\n",
       "      <td>20000</td>\n",
       "      <td>0</td>\n",
       "    </tr>\n",
       "    <tr>\n",
       "      <th>2</th>\n",
       "      <td>15668575</td>\n",
       "      <td>Female</td>\n",
       "      <td>26</td>\n",
       "      <td>43000</td>\n",
       "      <td>0</td>\n",
       "    </tr>\n",
       "    <tr>\n",
       "      <th>3</th>\n",
       "      <td>15603246</td>\n",
       "      <td>Female</td>\n",
       "      <td>27</td>\n",
       "      <td>57000</td>\n",
       "      <td>0</td>\n",
       "    </tr>\n",
       "    <tr>\n",
       "      <th>4</th>\n",
       "      <td>15804002</td>\n",
       "      <td>Male</td>\n",
       "      <td>19</td>\n",
       "      <td>76000</td>\n",
       "      <td>0</td>\n",
       "    </tr>\n",
       "    <tr>\n",
       "      <th>...</th>\n",
       "      <td>...</td>\n",
       "      <td>...</td>\n",
       "      <td>...</td>\n",
       "      <td>...</td>\n",
       "      <td>...</td>\n",
       "    </tr>\n",
       "    <tr>\n",
       "      <th>395</th>\n",
       "      <td>15691863</td>\n",
       "      <td>Female</td>\n",
       "      <td>46</td>\n",
       "      <td>41000</td>\n",
       "      <td>1</td>\n",
       "    </tr>\n",
       "    <tr>\n",
       "      <th>396</th>\n",
       "      <td>15706071</td>\n",
       "      <td>Male</td>\n",
       "      <td>51</td>\n",
       "      <td>23000</td>\n",
       "      <td>1</td>\n",
       "    </tr>\n",
       "    <tr>\n",
       "      <th>397</th>\n",
       "      <td>15654296</td>\n",
       "      <td>Female</td>\n",
       "      <td>50</td>\n",
       "      <td>20000</td>\n",
       "      <td>1</td>\n",
       "    </tr>\n",
       "    <tr>\n",
       "      <th>398</th>\n",
       "      <td>15755018</td>\n",
       "      <td>Male</td>\n",
       "      <td>36</td>\n",
       "      <td>33000</td>\n",
       "      <td>0</td>\n",
       "    </tr>\n",
       "    <tr>\n",
       "      <th>399</th>\n",
       "      <td>15594041</td>\n",
       "      <td>Female</td>\n",
       "      <td>49</td>\n",
       "      <td>36000</td>\n",
       "      <td>1</td>\n",
       "    </tr>\n",
       "  </tbody>\n",
       "</table>\n",
       "<p>400 rows × 5 columns</p>\n",
       "</div>"
      ],
      "text/plain": [
       "      User ID  Gender  Age  EstimatedSalary  Purchased\n",
       "0    15624510    Male   19            19000          0\n",
       "1    15810944    Male   35            20000          0\n",
       "2    15668575  Female   26            43000          0\n",
       "3    15603246  Female   27            57000          0\n",
       "4    15804002    Male   19            76000          0\n",
       "..        ...     ...  ...              ...        ...\n",
       "395  15691863  Female   46            41000          1\n",
       "396  15706071    Male   51            23000          1\n",
       "397  15654296  Female   50            20000          1\n",
       "398  15755018    Male   36            33000          0\n",
       "399  15594041  Female   49            36000          1\n",
       "\n",
       "[400 rows x 5 columns]"
      ]
     },
     "execution_count": 2,
     "metadata": {},
     "output_type": "execute_result"
    }
   ],
   "source": [
    "#load the dataset\n",
    "dataset = pd.read_csv(\"Social_Network_Ads.csv\")\n",
    "dataset"
   ]
  },
  {
   "cell_type": "code",
   "execution_count": 3,
   "id": "fa08ea67",
   "metadata": {},
   "outputs": [
    {
     "data": {
      "text/html": [
       "<div>\n",
       "<style scoped>\n",
       "    .dataframe tbody tr th:only-of-type {\n",
       "        vertical-align: middle;\n",
       "    }\n",
       "\n",
       "    .dataframe tbody tr th {\n",
       "        vertical-align: top;\n",
       "    }\n",
       "\n",
       "    .dataframe thead th {\n",
       "        text-align: right;\n",
       "    }\n",
       "</style>\n",
       "<table border=\"1\" class=\"dataframe\">\n",
       "  <thead>\n",
       "    <tr style=\"text-align: right;\">\n",
       "      <th></th>\n",
       "      <th>User ID</th>\n",
       "      <th>Age</th>\n",
       "      <th>EstimatedSalary</th>\n",
       "      <th>Purchased</th>\n",
       "      <th>Gender_Male</th>\n",
       "    </tr>\n",
       "  </thead>\n",
       "  <tbody>\n",
       "    <tr>\n",
       "      <th>0</th>\n",
       "      <td>15624510</td>\n",
       "      <td>19</td>\n",
       "      <td>19000</td>\n",
       "      <td>0</td>\n",
       "      <td>1</td>\n",
       "    </tr>\n",
       "    <tr>\n",
       "      <th>1</th>\n",
       "      <td>15810944</td>\n",
       "      <td>35</td>\n",
       "      <td>20000</td>\n",
       "      <td>0</td>\n",
       "      <td>1</td>\n",
       "    </tr>\n",
       "    <tr>\n",
       "      <th>2</th>\n",
       "      <td>15668575</td>\n",
       "      <td>26</td>\n",
       "      <td>43000</td>\n",
       "      <td>0</td>\n",
       "      <td>0</td>\n",
       "    </tr>\n",
       "    <tr>\n",
       "      <th>3</th>\n",
       "      <td>15603246</td>\n",
       "      <td>27</td>\n",
       "      <td>57000</td>\n",
       "      <td>0</td>\n",
       "      <td>0</td>\n",
       "    </tr>\n",
       "    <tr>\n",
       "      <th>4</th>\n",
       "      <td>15804002</td>\n",
       "      <td>19</td>\n",
       "      <td>76000</td>\n",
       "      <td>0</td>\n",
       "      <td>1</td>\n",
       "    </tr>\n",
       "    <tr>\n",
       "      <th>...</th>\n",
       "      <td>...</td>\n",
       "      <td>...</td>\n",
       "      <td>...</td>\n",
       "      <td>...</td>\n",
       "      <td>...</td>\n",
       "    </tr>\n",
       "    <tr>\n",
       "      <th>395</th>\n",
       "      <td>15691863</td>\n",
       "      <td>46</td>\n",
       "      <td>41000</td>\n",
       "      <td>1</td>\n",
       "      <td>0</td>\n",
       "    </tr>\n",
       "    <tr>\n",
       "      <th>396</th>\n",
       "      <td>15706071</td>\n",
       "      <td>51</td>\n",
       "      <td>23000</td>\n",
       "      <td>1</td>\n",
       "      <td>1</td>\n",
       "    </tr>\n",
       "    <tr>\n",
       "      <th>397</th>\n",
       "      <td>15654296</td>\n",
       "      <td>50</td>\n",
       "      <td>20000</td>\n",
       "      <td>1</td>\n",
       "      <td>0</td>\n",
       "    </tr>\n",
       "    <tr>\n",
       "      <th>398</th>\n",
       "      <td>15755018</td>\n",
       "      <td>36</td>\n",
       "      <td>33000</td>\n",
       "      <td>0</td>\n",
       "      <td>1</td>\n",
       "    </tr>\n",
       "    <tr>\n",
       "      <th>399</th>\n",
       "      <td>15594041</td>\n",
       "      <td>49</td>\n",
       "      <td>36000</td>\n",
       "      <td>1</td>\n",
       "      <td>0</td>\n",
       "    </tr>\n",
       "  </tbody>\n",
       "</table>\n",
       "<p>400 rows × 5 columns</p>\n",
       "</div>"
      ],
      "text/plain": [
       "      User ID  Age  EstimatedSalary  Purchased  Gender_Male\n",
       "0    15624510   19            19000          0            1\n",
       "1    15810944   35            20000          0            1\n",
       "2    15668575   26            43000          0            0\n",
       "3    15603246   27            57000          0            0\n",
       "4    15804002   19            76000          0            1\n",
       "..        ...  ...              ...        ...          ...\n",
       "395  15691863   46            41000          1            0\n",
       "396  15706071   51            23000          1            1\n",
       "397  15654296   50            20000          1            0\n",
       "398  15755018   36            33000          0            1\n",
       "399  15594041   49            36000          1            0\n",
       "\n",
       "[400 rows x 5 columns]"
      ]
     },
     "execution_count": 3,
     "metadata": {},
     "output_type": "execute_result"
    }
   ],
   "source": [
    "#changing categorical value to numerical value\n",
    "dataset = pd.get_dummies(dataset, drop_first=True)\n",
    "dataset=dataset.astype(int)\n",
    "dataset"
   ]
  },
  {
   "cell_type": "code",
   "execution_count": 4,
   "id": "33bbc555",
   "metadata": {},
   "outputs": [
    {
     "data": {
      "text/plain": [
       "Purchased\n",
       "0    257\n",
       "1    143\n",
       "Name: count, dtype: int64"
      ]
     },
     "execution_count": 4,
     "metadata": {},
     "output_type": "execute_result"
    }
   ],
   "source": [
    "# to find the purchased not purchased count\n",
    "dataset['Purchased'].value_counts()"
   ]
  },
  {
   "cell_type": "code",
   "execution_count": 5,
   "id": "cb0a5693",
   "metadata": {},
   "outputs": [
    {
     "data": {
      "text/plain": [
       "Index(['User ID', 'Age', 'EstimatedSalary', 'Purchased', 'Gender_Male'], dtype='object')"
      ]
     },
     "execution_count": 5,
     "metadata": {},
     "output_type": "execute_result"
    }
   ],
   "source": [
    "dataset.columns"
   ]
  },
  {
   "cell_type": "code",
   "execution_count": 6,
   "id": "883fc31a",
   "metadata": {},
   "outputs": [],
   "source": [
    "independent = dataset[['User ID', 'Age', 'EstimatedSalary','Gender_Male']]\n",
    "dependent = dataset[['Purchased']]"
   ]
  },
  {
   "cell_type": "code",
   "execution_count": 7,
   "id": "a1c07d87",
   "metadata": {},
   "outputs": [
    {
     "data": {
      "text/plain": [
       "(400, 1)"
      ]
     },
     "execution_count": 7,
     "metadata": {},
     "output_type": "execute_result"
    }
   ],
   "source": [
    "independent.shape\n",
    "dependent.shape"
   ]
  },
  {
   "cell_type": "code",
   "execution_count": 8,
   "id": "49f58432",
   "metadata": {},
   "outputs": [],
   "source": [
    "#split model for training and testing\n",
    "from sklearn.model_selection import train_test_split\n",
    "X_train,X_test,Y_train,Y_test = train_test_split(independent, dependent, test_size=1/3, random_state=0)"
   ]
  },
  {
   "cell_type": "code",
   "execution_count": 9,
   "id": "e0f248c7",
   "metadata": {},
   "outputs": [
    {
     "name": "stderr",
     "output_type": "stream",
     "text": [
      "C:\\Anaconda3\\Lib\\site-packages\\sklearn\\utils\\validation.py:1143: DataConversionWarning: A column-vector y was passed when a 1d array was expected. Please change the shape of y to (n_samples, ), for example using ravel().\n",
      "  y = column_or_1d(y, warn=True)\n"
     ]
    },
    {
     "data": {
      "text/html": [
       "<style>#sk-container-id-1 {color: black;background-color: white;}#sk-container-id-1 pre{padding: 0;}#sk-container-id-1 div.sk-toggleable {background-color: white;}#sk-container-id-1 label.sk-toggleable__label {cursor: pointer;display: block;width: 100%;margin-bottom: 0;padding: 0.3em;box-sizing: border-box;text-align: center;}#sk-container-id-1 label.sk-toggleable__label-arrow:before {content: \"▸\";float: left;margin-right: 0.25em;color: #696969;}#sk-container-id-1 label.sk-toggleable__label-arrow:hover:before {color: black;}#sk-container-id-1 div.sk-estimator:hover label.sk-toggleable__label-arrow:before {color: black;}#sk-container-id-1 div.sk-toggleable__content {max-height: 0;max-width: 0;overflow: hidden;text-align: left;background-color: #f0f8ff;}#sk-container-id-1 div.sk-toggleable__content pre {margin: 0.2em;color: black;border-radius: 0.25em;background-color: #f0f8ff;}#sk-container-id-1 input.sk-toggleable__control:checked~div.sk-toggleable__content {max-height: 200px;max-width: 100%;overflow: auto;}#sk-container-id-1 input.sk-toggleable__control:checked~label.sk-toggleable__label-arrow:before {content: \"▾\";}#sk-container-id-1 div.sk-estimator input.sk-toggleable__control:checked~label.sk-toggleable__label {background-color: #d4ebff;}#sk-container-id-1 div.sk-label input.sk-toggleable__control:checked~label.sk-toggleable__label {background-color: #d4ebff;}#sk-container-id-1 input.sk-hidden--visually {border: 0;clip: rect(1px 1px 1px 1px);clip: rect(1px, 1px, 1px, 1px);height: 1px;margin: -1px;overflow: hidden;padding: 0;position: absolute;width: 1px;}#sk-container-id-1 div.sk-estimator {font-family: monospace;background-color: #f0f8ff;border: 1px dotted black;border-radius: 0.25em;box-sizing: border-box;margin-bottom: 0.5em;}#sk-container-id-1 div.sk-estimator:hover {background-color: #d4ebff;}#sk-container-id-1 div.sk-parallel-item::after {content: \"\";width: 100%;border-bottom: 1px solid gray;flex-grow: 1;}#sk-container-id-1 div.sk-label:hover label.sk-toggleable__label {background-color: #d4ebff;}#sk-container-id-1 div.sk-serial::before {content: \"\";position: absolute;border-left: 1px solid gray;box-sizing: border-box;top: 0;bottom: 0;left: 50%;z-index: 0;}#sk-container-id-1 div.sk-serial {display: flex;flex-direction: column;align-items: center;background-color: white;padding-right: 0.2em;padding-left: 0.2em;position: relative;}#sk-container-id-1 div.sk-item {position: relative;z-index: 1;}#sk-container-id-1 div.sk-parallel {display: flex;align-items: stretch;justify-content: center;background-color: white;position: relative;}#sk-container-id-1 div.sk-item::before, #sk-container-id-1 div.sk-parallel-item::before {content: \"\";position: absolute;border-left: 1px solid gray;box-sizing: border-box;top: 0;bottom: 0;left: 50%;z-index: -1;}#sk-container-id-1 div.sk-parallel-item {display: flex;flex-direction: column;z-index: 1;position: relative;background-color: white;}#sk-container-id-1 div.sk-parallel-item:first-child::after {align-self: flex-end;width: 50%;}#sk-container-id-1 div.sk-parallel-item:last-child::after {align-self: flex-start;width: 50%;}#sk-container-id-1 div.sk-parallel-item:only-child::after {width: 0;}#sk-container-id-1 div.sk-dashed-wrapped {border: 1px dashed gray;margin: 0 0.4em 0.5em 0.4em;box-sizing: border-box;padding-bottom: 0.4em;background-color: white;}#sk-container-id-1 div.sk-label label {font-family: monospace;font-weight: bold;display: inline-block;line-height: 1.2em;}#sk-container-id-1 div.sk-label-container {text-align: center;}#sk-container-id-1 div.sk-container {/* jupyter's `normalize.less` sets `[hidden] { display: none; }` but bootstrap.min.css set `[hidden] { display: none !important; }` so we also need the `!important` here to be able to override the default hidden behavior on the sphinx rendered scikit-learn.org. See: https://github.com/scikit-learn/scikit-learn/issues/21755 */display: inline-block !important;position: relative;}#sk-container-id-1 div.sk-text-repr-fallback {display: none;}</style><div id=\"sk-container-id-1\" class=\"sk-top-container\"><div class=\"sk-text-repr-fallback\"><pre>SVC(C=10, random_state=0)</pre><b>In a Jupyter environment, please rerun this cell to show the HTML representation or trust the notebook. <br />On GitHub, the HTML representation is unable to render, please try loading this page with nbviewer.org.</b></div><div class=\"sk-container\" hidden><div class=\"sk-item\"><div class=\"sk-estimator sk-toggleable\"><input class=\"sk-toggleable__control sk-hidden--visually\" id=\"sk-estimator-id-1\" type=\"checkbox\" checked><label for=\"sk-estimator-id-1\" class=\"sk-toggleable__label sk-toggleable__label-arrow\">SVC</label><div class=\"sk-toggleable__content\"><pre>SVC(C=10, random_state=0)</pre></div></div></div></div></div>"
      ],
      "text/plain": [
       "SVC(C=10, random_state=0)"
      ]
     },
     "execution_count": 9,
     "metadata": {},
     "output_type": "execute_result"
    }
   ],
   "source": [
    "#Model Creation\n",
    "from sklearn.svm import SVC\n",
    "classifier = SVC(C=10,kernel= 'rbf',random_state = 0)\n",
    "classifier.fit(X_train,Y_train)"
   ]
  },
  {
   "cell_type": "code",
   "execution_count": 10,
   "id": "5198e9f3",
   "metadata": {},
   "outputs": [
    {
     "data": {
      "text/plain": [
       "array([0, 0, 0, 0, 0, 0, 0, 0, 0, 0, 0, 0, 0, 0, 0, 0, 0, 0, 0, 0, 0, 0,\n",
       "       0, 0, 0, 0, 0, 0, 0, 0, 0, 0, 0, 0, 0, 0, 0, 0, 0, 0, 0, 0, 0, 0,\n",
       "       0, 0, 0, 0, 0, 0, 0, 0, 0, 0, 0, 0, 0, 0, 0, 0, 0, 0, 0, 0, 0, 0,\n",
       "       0, 0, 0, 0, 0, 0, 0, 0, 0, 0, 0, 0, 0, 0, 0, 0, 0, 0, 0, 0, 0, 0,\n",
       "       0, 0, 0, 0, 0, 0, 0, 0, 0, 0, 0, 0, 0, 0, 0, 0, 0, 0, 0, 0, 0, 0,\n",
       "       0, 0, 0, 0, 0, 0, 0, 0, 0, 0, 0, 0, 0, 0, 0, 0, 0, 0, 0, 0, 0, 0,\n",
       "       0, 0])"
      ]
     },
     "execution_count": 10,
     "metadata": {},
     "output_type": "execute_result"
    }
   ],
   "source": [
    "# to test the data\n",
    "test_Pred = classifier.predict(X_test)\n",
    "test_Pred"
   ]
  },
  {
   "cell_type": "code",
   "execution_count": 11,
   "id": "504ab98f",
   "metadata": {},
   "outputs": [
    {
     "data": {
      "text/plain": [
       "array([[85,  0],\n",
       "       [49,  0]], dtype=int64)"
      ]
     },
     "execution_count": 11,
     "metadata": {},
     "output_type": "execute_result"
    }
   ],
   "source": [
    "#Evalution using confusion matrix\n",
    "from sklearn.metrics import confusion_matrix\n",
    "con_mat = confusion_matrix(Y_test,test_Pred)\n",
    "con_mat"
   ]
  },
  {
   "cell_type": "code",
   "execution_count": 12,
   "id": "c2ab0a50",
   "metadata": {},
   "outputs": [
    {
     "name": "stdout",
     "output_type": "stream",
     "text": [
      "              precision    recall  f1-score   support\n",
      "\n",
      "           0       0.63      1.00      0.78        85\n",
      "           1       0.00      0.00      0.00        49\n",
      "\n",
      "    accuracy                           0.63       134\n",
      "   macro avg       0.32      0.50      0.39       134\n",
      "weighted avg       0.40      0.63      0.49       134\n",
      "\n"
     ]
    },
    {
     "name": "stderr",
     "output_type": "stream",
     "text": [
      "C:\\Anaconda3\\Lib\\site-packages\\sklearn\\metrics\\_classification.py:1344: UndefinedMetricWarning: Precision and F-score are ill-defined and being set to 0.0 in labels with no predicted samples. Use `zero_division` parameter to control this behavior.\n",
      "  _warn_prf(average, modifier, msg_start, len(result))\n",
      "C:\\Anaconda3\\Lib\\site-packages\\sklearn\\metrics\\_classification.py:1344: UndefinedMetricWarning: Precision and F-score are ill-defined and being set to 0.0 in labels with no predicted samples. Use `zero_division` parameter to control this behavior.\n",
      "  _warn_prf(average, modifier, msg_start, len(result))\n",
      "C:\\Anaconda3\\Lib\\site-packages\\sklearn\\metrics\\_classification.py:1344: UndefinedMetricWarning: Precision and F-score are ill-defined and being set to 0.0 in labels with no predicted samples. Use `zero_division` parameter to control this behavior.\n",
      "  _warn_prf(average, modifier, msg_start, len(result))\n"
     ]
    }
   ],
   "source": [
    "#Create an report \n",
    "from sklearn.metrics import classification_report\n",
    "class_report = classification_report(Y_test,test_Pred)\n",
    "print(class_report)"
   ]
  },
  {
   "cell_type": "raw",
   "id": "8f02f72f",
   "metadata": {},
   "source": [
    "Accuracy - \n",
    "        What is the percentage of correct classification to the total test input? - 63%\n",
    "Recall - \n",
    "        What is the correct classification of Purchased and not purchased to the test data? - Purchased 0%, Not Purchased 100%\n",
    "Precision - \n",
    "        What is the Percentage of correctly classified purchased and not purchased to the sum of correctly and wrongly classified purchased and Not purchased? Purchased - 0%, Not Purchased - 100%\n",
    "F1 score - \n",
    "        What is the overall performance of purchased and Not purchased? - Purchased - 0%, Not Purchased - 78%.\n",
    "Macro Avg - \n",
    "        What is the Avg of Precision, Recall, F1Score? - Precision - 32%, Recall - 50%, F1score - 39%.\n",
    "Weighted Avg - \n",
    "        What is the proportion of each class(Precision, Recall, F1Score)? - Precision - 40%, Recall - 63%, F1score - 49%."
   ]
  },
  {
   "cell_type": "code",
   "execution_count": 13,
   "id": "627094da",
   "metadata": {},
   "outputs": [
    {
     "name": "stdout",
     "output_type": "stream",
     "text": [
      "Enter the UserId: 45\n",
      "Enter the age: 45\n",
      "Enter the salary: 700000\n",
      "Enter the gender: 0\n"
     ]
    }
   ],
   "source": [
    "id_input=int(input(\"Enter the UserId: \"))\n",
    "age_input=int(input(\"Enter the age: \"))\n",
    "Salary= int(input(\"Enter the salary: \"))\n",
    "Gender = int(input(\"Enter the gender: \"))"
   ]
  },
  {
   "cell_type": "code",
   "execution_count": 14,
   "id": "15bfb778",
   "metadata": {},
   "outputs": [
    {
     "name": "stderr",
     "output_type": "stream",
     "text": [
      "C:\\Anaconda3\\Lib\\site-packages\\sklearn\\base.py:439: UserWarning: X does not have valid feature names, but SVC was fitted with feature names\n",
      "  warnings.warn(\n"
     ]
    },
    {
     "data": {
      "text/plain": [
       "array([0])"
      ]
     },
     "execution_count": 14,
     "metadata": {},
     "output_type": "execute_result"
    }
   ],
   "source": [
    "classifier.predict([[id_input,age_input,Salary,Gender]])"
   ]
  },
  {
   "cell_type": "code",
   "execution_count": 15,
   "id": "5a65eadd",
   "metadata": {},
   "outputs": [
    {
     "name": "stderr",
     "output_type": "stream",
     "text": [
      "C:\\Anaconda3\\Lib\\site-packages\\sklearn\\base.py:439: UserWarning: X does not have valid feature names, but SVC was fitted with feature names\n",
      "  warnings.warn(\n"
     ]
    },
    {
     "data": {
      "text/plain": [
       "array([0])"
      ]
     },
     "execution_count": 15,
     "metadata": {},
     "output_type": "execute_result"
    }
   ],
   "source": [
    "classifier.predict([[2,45,78000,1]])"
   ]
  },
  {
   "cell_type": "markdown",
   "id": "951e9f3d",
   "metadata": {},
   "source": [
    "# Grid Search CV"
   ]
  },
  {
   "cell_type": "code",
   "execution_count": 16,
   "id": "6b76ef02",
   "metadata": {},
   "outputs": [],
   "source": [
    "from sklearn.preprocessing import StandardScaler\n",
    "sc = StandardScaler()\n",
    "X_train= sc.fit_transform(X_train)\n",
    "X_test= sc.transform(X_test)"
   ]
  },
  {
   "cell_type": "code",
   "execution_count": 18,
   "id": "5e5bbe12",
   "metadata": {},
   "outputs": [
    {
     "name": "stdout",
     "output_type": "stream",
     "text": [
      "Fitting 5 folds for each of 24 candidates, totalling 120 fits\n"
     ]
    },
    {
     "name": "stderr",
     "output_type": "stream",
     "text": [
      "C:\\Anaconda3\\Lib\\site-packages\\sklearn\\utils\\validation.py:1143: DataConversionWarning: A column-vector y was passed when a 1d array was expected. Please change the shape of y to (n_samples, ), for example using ravel().\n",
      "  y = column_or_1d(y, warn=True)\n"
     ]
    },
    {
     "data": {
      "text/html": [
       "<style>#sk-container-id-2 {color: black;background-color: white;}#sk-container-id-2 pre{padding: 0;}#sk-container-id-2 div.sk-toggleable {background-color: white;}#sk-container-id-2 label.sk-toggleable__label {cursor: pointer;display: block;width: 100%;margin-bottom: 0;padding: 0.3em;box-sizing: border-box;text-align: center;}#sk-container-id-2 label.sk-toggleable__label-arrow:before {content: \"▸\";float: left;margin-right: 0.25em;color: #696969;}#sk-container-id-2 label.sk-toggleable__label-arrow:hover:before {color: black;}#sk-container-id-2 div.sk-estimator:hover label.sk-toggleable__label-arrow:before {color: black;}#sk-container-id-2 div.sk-toggleable__content {max-height: 0;max-width: 0;overflow: hidden;text-align: left;background-color: #f0f8ff;}#sk-container-id-2 div.sk-toggleable__content pre {margin: 0.2em;color: black;border-radius: 0.25em;background-color: #f0f8ff;}#sk-container-id-2 input.sk-toggleable__control:checked~div.sk-toggleable__content {max-height: 200px;max-width: 100%;overflow: auto;}#sk-container-id-2 input.sk-toggleable__control:checked~label.sk-toggleable__label-arrow:before {content: \"▾\";}#sk-container-id-2 div.sk-estimator input.sk-toggleable__control:checked~label.sk-toggleable__label {background-color: #d4ebff;}#sk-container-id-2 div.sk-label input.sk-toggleable__control:checked~label.sk-toggleable__label {background-color: #d4ebff;}#sk-container-id-2 input.sk-hidden--visually {border: 0;clip: rect(1px 1px 1px 1px);clip: rect(1px, 1px, 1px, 1px);height: 1px;margin: -1px;overflow: hidden;padding: 0;position: absolute;width: 1px;}#sk-container-id-2 div.sk-estimator {font-family: monospace;background-color: #f0f8ff;border: 1px dotted black;border-radius: 0.25em;box-sizing: border-box;margin-bottom: 0.5em;}#sk-container-id-2 div.sk-estimator:hover {background-color: #d4ebff;}#sk-container-id-2 div.sk-parallel-item::after {content: \"\";width: 100%;border-bottom: 1px solid gray;flex-grow: 1;}#sk-container-id-2 div.sk-label:hover label.sk-toggleable__label {background-color: #d4ebff;}#sk-container-id-2 div.sk-serial::before {content: \"\";position: absolute;border-left: 1px solid gray;box-sizing: border-box;top: 0;bottom: 0;left: 50%;z-index: 0;}#sk-container-id-2 div.sk-serial {display: flex;flex-direction: column;align-items: center;background-color: white;padding-right: 0.2em;padding-left: 0.2em;position: relative;}#sk-container-id-2 div.sk-item {position: relative;z-index: 1;}#sk-container-id-2 div.sk-parallel {display: flex;align-items: stretch;justify-content: center;background-color: white;position: relative;}#sk-container-id-2 div.sk-item::before, #sk-container-id-2 div.sk-parallel-item::before {content: \"\";position: absolute;border-left: 1px solid gray;box-sizing: border-box;top: 0;bottom: 0;left: 50%;z-index: -1;}#sk-container-id-2 div.sk-parallel-item {display: flex;flex-direction: column;z-index: 1;position: relative;background-color: white;}#sk-container-id-2 div.sk-parallel-item:first-child::after {align-self: flex-end;width: 50%;}#sk-container-id-2 div.sk-parallel-item:last-child::after {align-self: flex-start;width: 50%;}#sk-container-id-2 div.sk-parallel-item:only-child::after {width: 0;}#sk-container-id-2 div.sk-dashed-wrapped {border: 1px dashed gray;margin: 0 0.4em 0.5em 0.4em;box-sizing: border-box;padding-bottom: 0.4em;background-color: white;}#sk-container-id-2 div.sk-label label {font-family: monospace;font-weight: bold;display: inline-block;line-height: 1.2em;}#sk-container-id-2 div.sk-label-container {text-align: center;}#sk-container-id-2 div.sk-container {/* jupyter's `normalize.less` sets `[hidden] { display: none; }` but bootstrap.min.css set `[hidden] { display: none !important; }` so we also need the `!important` here to be able to override the default hidden behavior on the sphinx rendered scikit-learn.org. See: https://github.com/scikit-learn/scikit-learn/issues/21755 */display: inline-block !important;position: relative;}#sk-container-id-2 div.sk-text-repr-fallback {display: none;}</style><div id=\"sk-container-id-2\" class=\"sk-top-container\"><div class=\"sk-text-repr-fallback\"><pre>GridSearchCV(estimator=SVC(), n_jobs=-1,\n",
       "             param_grid={&#x27;C&#x27;: [10, 50, 100], &#x27;gamma&#x27;: [&#x27;scale&#x27;, &#x27;auto&#x27;],\n",
       "                         &#x27;kernel&#x27;: [&#x27;linear&#x27;, &#x27;poly&#x27;, &#x27;rbf&#x27;, &#x27;sigmoid&#x27;]},\n",
       "             scoring=&#x27;f1_weighted&#x27;, verbose=3)</pre><b>In a Jupyter environment, please rerun this cell to show the HTML representation or trust the notebook. <br />On GitHub, the HTML representation is unable to render, please try loading this page with nbviewer.org.</b></div><div class=\"sk-container\" hidden><div class=\"sk-item sk-dashed-wrapped\"><div class=\"sk-label-container\"><div class=\"sk-label sk-toggleable\"><input class=\"sk-toggleable__control sk-hidden--visually\" id=\"sk-estimator-id-2\" type=\"checkbox\" ><label for=\"sk-estimator-id-2\" class=\"sk-toggleable__label sk-toggleable__label-arrow\">GridSearchCV</label><div class=\"sk-toggleable__content\"><pre>GridSearchCV(estimator=SVC(), n_jobs=-1,\n",
       "             param_grid={&#x27;C&#x27;: [10, 50, 100], &#x27;gamma&#x27;: [&#x27;scale&#x27;, &#x27;auto&#x27;],\n",
       "                         &#x27;kernel&#x27;: [&#x27;linear&#x27;, &#x27;poly&#x27;, &#x27;rbf&#x27;, &#x27;sigmoid&#x27;]},\n",
       "             scoring=&#x27;f1_weighted&#x27;, verbose=3)</pre></div></div></div><div class=\"sk-parallel\"><div class=\"sk-parallel-item\"><div class=\"sk-item\"><div class=\"sk-label-container\"><div class=\"sk-label sk-toggleable\"><input class=\"sk-toggleable__control sk-hidden--visually\" id=\"sk-estimator-id-3\" type=\"checkbox\" ><label for=\"sk-estimator-id-3\" class=\"sk-toggleable__label sk-toggleable__label-arrow\">estimator: SVC</label><div class=\"sk-toggleable__content\"><pre>SVC()</pre></div></div></div><div class=\"sk-serial\"><div class=\"sk-item\"><div class=\"sk-estimator sk-toggleable\"><input class=\"sk-toggleable__control sk-hidden--visually\" id=\"sk-estimator-id-4\" type=\"checkbox\" ><label for=\"sk-estimator-id-4\" class=\"sk-toggleable__label sk-toggleable__label-arrow\">SVC</label><div class=\"sk-toggleable__content\"><pre>SVC()</pre></div></div></div></div></div></div></div></div></div></div>"
      ],
      "text/plain": [
       "GridSearchCV(estimator=SVC(), n_jobs=-1,\n",
       "             param_grid={'C': [10, 50, 100], 'gamma': ['scale', 'auto'],\n",
       "                         'kernel': ['linear', 'poly', 'rbf', 'sigmoid']},\n",
       "             scoring='f1_weighted', verbose=3)"
      ]
     },
     "execution_count": 18,
     "metadata": {},
     "output_type": "execute_result"
    }
   ],
   "source": [
    "#to develope a model\n",
    "from sklearn.svm import SVC\n",
    "from sklearn.model_selection import GridSearchCV\n",
    "parameters = {'C': [10,50,100],\n",
    "             'kernel':['linear', 'poly', 'rbf', 'sigmoid'],\n",
    "             'gamma':['scale', 'auto']}\n",
    "grid = GridSearchCV(SVC(),parameters,refit=True,verbose=3,n_jobs=-1,scoring='f1_weighted')\n",
    "grid.fit(X_train,Y_train)"
   ]
  },
  {
   "cell_type": "code",
   "execution_count": 19,
   "id": "fa4ac373",
   "metadata": {},
   "outputs": [
    {
     "name": "stdout",
     "output_type": "stream",
     "text": [
      "{'C': 10, 'gamma': 'scale', 'kernel': 'rbf'}\n"
     ]
    }
   ],
   "source": [
    "print(grid.best_params_)"
   ]
  },
  {
   "cell_type": "code",
   "execution_count": 22,
   "id": "802c3d7d",
   "metadata": {},
   "outputs": [
    {
     "name": "stdout",
     "output_type": "stream",
     "text": [
      "The value for best parameter:  {'C': 10, 'gamma': 'scale', 'kernel': 'rbf'}\n"
     ]
    }
   ],
   "source": [
    "classifier = grid.cv_results_\n",
    "# print(classifier)\n",
    "print(\"The value for best parameter: \",format(grid.best_params_))"
   ]
  },
  {
   "cell_type": "code",
   "execution_count": 23,
   "id": "e760f636",
   "metadata": {},
   "outputs": [
    {
     "data": {
      "text/html": [
       "<div>\n",
       "<style scoped>\n",
       "    .dataframe tbody tr th:only-of-type {\n",
       "        vertical-align: middle;\n",
       "    }\n",
       "\n",
       "    .dataframe tbody tr th {\n",
       "        vertical-align: top;\n",
       "    }\n",
       "\n",
       "    .dataframe thead th {\n",
       "        text-align: right;\n",
       "    }\n",
       "</style>\n",
       "<table border=\"1\" class=\"dataframe\">\n",
       "  <thead>\n",
       "    <tr style=\"text-align: right;\">\n",
       "      <th></th>\n",
       "      <th>mean_fit_time</th>\n",
       "      <th>std_fit_time</th>\n",
       "      <th>mean_score_time</th>\n",
       "      <th>std_score_time</th>\n",
       "      <th>param_C</th>\n",
       "      <th>param_gamma</th>\n",
       "      <th>param_kernel</th>\n",
       "      <th>params</th>\n",
       "      <th>split0_test_score</th>\n",
       "      <th>split1_test_score</th>\n",
       "      <th>split2_test_score</th>\n",
       "      <th>split3_test_score</th>\n",
       "      <th>split4_test_score</th>\n",
       "      <th>mean_test_score</th>\n",
       "      <th>std_test_score</th>\n",
       "      <th>rank_test_score</th>\n",
       "    </tr>\n",
       "  </thead>\n",
       "  <tbody>\n",
       "    <tr>\n",
       "      <th>0</th>\n",
       "      <td>0.020189</td>\n",
       "      <td>8.173942e-03</td>\n",
       "      <td>0.020269</td>\n",
       "      <td>4.597817e-03</td>\n",
       "      <td>10</td>\n",
       "      <td>scale</td>\n",
       "      <td>linear</td>\n",
       "      <td>{'C': 10, 'gamma': 'scale', 'kernel': 'linear'}</td>\n",
       "      <td>0.822092</td>\n",
       "      <td>0.787284</td>\n",
       "      <td>0.721794</td>\n",
       "      <td>0.905069</td>\n",
       "      <td>0.865054</td>\n",
       "      <td>0.820259</td>\n",
       "      <td>0.063223</td>\n",
       "      <td>7</td>\n",
       "    </tr>\n",
       "    <tr>\n",
       "      <th>1</th>\n",
       "      <td>0.022161</td>\n",
       "      <td>7.808542e-03</td>\n",
       "      <td>0.015626</td>\n",
       "      <td>3.894332e-06</td>\n",
       "      <td>10</td>\n",
       "      <td>scale</td>\n",
       "      <td>poly</td>\n",
       "      <td>{'C': 10, 'gamma': 'scale', 'kernel': 'poly'}</td>\n",
       "      <td>0.799620</td>\n",
       "      <td>0.765553</td>\n",
       "      <td>0.805463</td>\n",
       "      <td>0.818941</td>\n",
       "      <td>0.862442</td>\n",
       "      <td>0.810404</td>\n",
       "      <td>0.031411</td>\n",
       "      <td>13</td>\n",
       "    </tr>\n",
       "    <tr>\n",
       "      <th>2</th>\n",
       "      <td>0.006250</td>\n",
       "      <td>7.654773e-03</td>\n",
       "      <td>0.019129</td>\n",
       "      <td>6.299269e-03</td>\n",
       "      <td>10</td>\n",
       "      <td>scale</td>\n",
       "      <td>rbf</td>\n",
       "      <td>{'C': 10, 'gamma': 'scale', 'kernel': 'rbf'}</td>\n",
       "      <td>0.887346</td>\n",
       "      <td>0.849057</td>\n",
       "      <td>0.832483</td>\n",
       "      <td>0.886792</td>\n",
       "      <td>0.885265</td>\n",
       "      <td>0.868188</td>\n",
       "      <td>0.023003</td>\n",
       "      <td>1</td>\n",
       "    </tr>\n",
       "    <tr>\n",
       "      <th>3</th>\n",
       "      <td>0.016186</td>\n",
       "      <td>1.015566e-03</td>\n",
       "      <td>0.015254</td>\n",
       "      <td>8.775877e-04</td>\n",
       "      <td>10</td>\n",
       "      <td>scale</td>\n",
       "      <td>sigmoid</td>\n",
       "      <td>{'C': 10, 'gamma': 'scale', 'kernel': 'sigmoid'}</td>\n",
       "      <td>0.749046</td>\n",
       "      <td>0.701618</td>\n",
       "      <td>0.672275</td>\n",
       "      <td>0.759493</td>\n",
       "      <td>0.715207</td>\n",
       "      <td>0.719528</td>\n",
       "      <td>0.031752</td>\n",
       "      <td>20</td>\n",
       "    </tr>\n",
       "    <tr>\n",
       "      <th>4</th>\n",
       "      <td>0.015623</td>\n",
       "      <td>3.200142e-06</td>\n",
       "      <td>0.028119</td>\n",
       "      <td>6.248331e-03</td>\n",
       "      <td>10</td>\n",
       "      <td>auto</td>\n",
       "      <td>linear</td>\n",
       "      <td>{'C': 10, 'gamma': 'auto', 'kernel': 'linear'}</td>\n",
       "      <td>0.822092</td>\n",
       "      <td>0.787284</td>\n",
       "      <td>0.721794</td>\n",
       "      <td>0.905069</td>\n",
       "      <td>0.865054</td>\n",
       "      <td>0.820259</td>\n",
       "      <td>0.063223</td>\n",
       "      <td>7</td>\n",
       "    </tr>\n",
       "    <tr>\n",
       "      <th>5</th>\n",
       "      <td>0.015621</td>\n",
       "      <td>7.629395e-07</td>\n",
       "      <td>0.015621</td>\n",
       "      <td>7.629395e-07</td>\n",
       "      <td>10</td>\n",
       "      <td>auto</td>\n",
       "      <td>poly</td>\n",
       "      <td>{'C': 10, 'gamma': 'auto', 'kernel': 'poly'}</td>\n",
       "      <td>0.799620</td>\n",
       "      <td>0.765553</td>\n",
       "      <td>0.805463</td>\n",
       "      <td>0.818941</td>\n",
       "      <td>0.841025</td>\n",
       "      <td>0.806120</td>\n",
       "      <td>0.024783</td>\n",
       "      <td>16</td>\n",
       "    </tr>\n",
       "    <tr>\n",
       "      <th>6</th>\n",
       "      <td>0.009373</td>\n",
       "      <td>7.652865e-03</td>\n",
       "      <td>0.021869</td>\n",
       "      <td>7.652942e-03</td>\n",
       "      <td>10</td>\n",
       "      <td>auto</td>\n",
       "      <td>rbf</td>\n",
       "      <td>{'C': 10, 'gamma': 'auto', 'kernel': 'rbf'}</td>\n",
       "      <td>0.887346</td>\n",
       "      <td>0.849057</td>\n",
       "      <td>0.832483</td>\n",
       "      <td>0.886792</td>\n",
       "      <td>0.885265</td>\n",
       "      <td>0.868188</td>\n",
       "      <td>0.023003</td>\n",
       "      <td>1</td>\n",
       "    </tr>\n",
       "    <tr>\n",
       "      <th>7</th>\n",
       "      <td>0.009373</td>\n",
       "      <td>7.652942e-03</td>\n",
       "      <td>0.018746</td>\n",
       "      <td>6.248760e-03</td>\n",
       "      <td>10</td>\n",
       "      <td>auto</td>\n",
       "      <td>sigmoid</td>\n",
       "      <td>{'C': 10, 'gamma': 'auto', 'kernel': 'sigmoid'}</td>\n",
       "      <td>0.749046</td>\n",
       "      <td>0.701618</td>\n",
       "      <td>0.672275</td>\n",
       "      <td>0.740593</td>\n",
       "      <td>0.735849</td>\n",
       "      <td>0.719876</td>\n",
       "      <td>0.028756</td>\n",
       "      <td>19</td>\n",
       "    </tr>\n",
       "    <tr>\n",
       "      <th>8</th>\n",
       "      <td>0.028117</td>\n",
       "      <td>6.248546e-03</td>\n",
       "      <td>0.025439</td>\n",
       "      <td>8.681647e-03</td>\n",
       "      <td>50</td>\n",
       "      <td>scale</td>\n",
       "      <td>linear</td>\n",
       "      <td>{'C': 50, 'gamma': 'scale', 'kernel': 'linear'}</td>\n",
       "      <td>0.822092</td>\n",
       "      <td>0.787284</td>\n",
       "      <td>0.721794</td>\n",
       "      <td>0.905069</td>\n",
       "      <td>0.865054</td>\n",
       "      <td>0.820259</td>\n",
       "      <td>0.063223</td>\n",
       "      <td>7</td>\n",
       "    </tr>\n",
       "    <tr>\n",
       "      <th>9</th>\n",
       "      <td>0.022703</td>\n",
       "      <td>8.687277e-03</td>\n",
       "      <td>0.019094</td>\n",
       "      <td>7.592010e-03</td>\n",
       "      <td>50</td>\n",
       "      <td>scale</td>\n",
       "      <td>poly</td>\n",
       "      <td>{'C': 50, 'gamma': 'scale', 'kernel': 'poly'}</td>\n",
       "      <td>0.804764</td>\n",
       "      <td>0.765553</td>\n",
       "      <td>0.787943</td>\n",
       "      <td>0.801281</td>\n",
       "      <td>0.844370</td>\n",
       "      <td>0.800782</td>\n",
       "      <td>0.025776</td>\n",
       "      <td>17</td>\n",
       "    </tr>\n",
       "    <tr>\n",
       "      <th>10</th>\n",
       "      <td>0.012806</td>\n",
       "      <td>2.939943e-03</td>\n",
       "      <td>0.015671</td>\n",
       "      <td>6.097638e-03</td>\n",
       "      <td>50</td>\n",
       "      <td>scale</td>\n",
       "      <td>rbf</td>\n",
       "      <td>{'C': 50, 'gamma': 'scale', 'kernel': 'rbf'}</td>\n",
       "      <td>0.847141</td>\n",
       "      <td>0.850809</td>\n",
       "      <td>0.832483</td>\n",
       "      <td>0.849057</td>\n",
       "      <td>0.901744</td>\n",
       "      <td>0.856247</td>\n",
       "      <td>0.023660</td>\n",
       "      <td>3</td>\n",
       "    </tr>\n",
       "    <tr>\n",
       "      <th>11</th>\n",
       "      <td>0.010685</td>\n",
       "      <td>7.335629e-03</td>\n",
       "      <td>0.017550</td>\n",
       "      <td>7.045564e-03</td>\n",
       "      <td>50</td>\n",
       "      <td>scale</td>\n",
       "      <td>sigmoid</td>\n",
       "      <td>{'C': 50, 'gamma': 'scale', 'kernel': 'sigmoid'}</td>\n",
       "      <td>0.753889</td>\n",
       "      <td>0.681255</td>\n",
       "      <td>0.587326</td>\n",
       "      <td>0.722205</td>\n",
       "      <td>0.735849</td>\n",
       "      <td>0.696105</td>\n",
       "      <td>0.059419</td>\n",
       "      <td>24</td>\n",
       "    </tr>\n",
       "    <tr>\n",
       "      <th>12</th>\n",
       "      <td>0.030067</td>\n",
       "      <td>1.134295e-02</td>\n",
       "      <td>0.017001</td>\n",
       "      <td>7.279609e-03</td>\n",
       "      <td>50</td>\n",
       "      <td>auto</td>\n",
       "      <td>linear</td>\n",
       "      <td>{'C': 50, 'gamma': 'auto', 'kernel': 'linear'}</td>\n",
       "      <td>0.822092</td>\n",
       "      <td>0.787284</td>\n",
       "      <td>0.721794</td>\n",
       "      <td>0.905069</td>\n",
       "      <td>0.865054</td>\n",
       "      <td>0.820259</td>\n",
       "      <td>0.063223</td>\n",
       "      <td>7</td>\n",
       "    </tr>\n",
       "    <tr>\n",
       "      <th>13</th>\n",
       "      <td>0.035103</td>\n",
       "      <td>1.532433e-02</td>\n",
       "      <td>0.018257</td>\n",
       "      <td>6.785669e-03</td>\n",
       "      <td>50</td>\n",
       "      <td>auto</td>\n",
       "      <td>poly</td>\n",
       "      <td>{'C': 50, 'gamma': 'auto', 'kernel': 'poly'}</td>\n",
       "      <td>0.804764</td>\n",
       "      <td>0.765553</td>\n",
       "      <td>0.787943</td>\n",
       "      <td>0.801281</td>\n",
       "      <td>0.844370</td>\n",
       "      <td>0.800782</td>\n",
       "      <td>0.025776</td>\n",
       "      <td>17</td>\n",
       "    </tr>\n",
       "    <tr>\n",
       "      <th>14</th>\n",
       "      <td>0.016676</td>\n",
       "      <td>2.540184e-03</td>\n",
       "      <td>0.015510</td>\n",
       "      <td>3.129587e-03</td>\n",
       "      <td>50</td>\n",
       "      <td>auto</td>\n",
       "      <td>rbf</td>\n",
       "      <td>{'C': 50, 'gamma': 'auto', 'kernel': 'rbf'}</td>\n",
       "      <td>0.847141</td>\n",
       "      <td>0.850809</td>\n",
       "      <td>0.832483</td>\n",
       "      <td>0.829124</td>\n",
       "      <td>0.901744</td>\n",
       "      <td>0.852260</td>\n",
       "      <td>0.026090</td>\n",
       "      <td>6</td>\n",
       "    </tr>\n",
       "    <tr>\n",
       "      <th>15</th>\n",
       "      <td>0.014903</td>\n",
       "      <td>1.445907e-03</td>\n",
       "      <td>0.015621</td>\n",
       "      <td>6.705287e-06</td>\n",
       "      <td>50</td>\n",
       "      <td>auto</td>\n",
       "      <td>sigmoid</td>\n",
       "      <td>{'C': 50, 'gamma': 'auto', 'kernel': 'sigmoid'}</td>\n",
       "      <td>0.732497</td>\n",
       "      <td>0.701618</td>\n",
       "      <td>0.587326</td>\n",
       "      <td>0.741078</td>\n",
       "      <td>0.735849</td>\n",
       "      <td>0.699674</td>\n",
       "      <td>0.057838</td>\n",
       "      <td>23</td>\n",
       "    </tr>\n",
       "    <tr>\n",
       "      <th>16</th>\n",
       "      <td>0.049986</td>\n",
       "      <td>6.246305e-03</td>\n",
       "      <td>0.015621</td>\n",
       "      <td>7.921814e-07</td>\n",
       "      <td>100</td>\n",
       "      <td>scale</td>\n",
       "      <td>linear</td>\n",
       "      <td>{'C': 100, 'gamma': 'scale', 'kernel': 'linear'}</td>\n",
       "      <td>0.822092</td>\n",
       "      <td>0.787284</td>\n",
       "      <td>0.721794</td>\n",
       "      <td>0.905069</td>\n",
       "      <td>0.865054</td>\n",
       "      <td>0.820259</td>\n",
       "      <td>0.063223</td>\n",
       "      <td>7</td>\n",
       "    </tr>\n",
       "    <tr>\n",
       "      <th>17</th>\n",
       "      <td>0.049988</td>\n",
       "      <td>1.821754e-02</td>\n",
       "      <td>0.018975</td>\n",
       "      <td>6.150244e-03</td>\n",
       "      <td>100</td>\n",
       "      <td>scale</td>\n",
       "      <td>poly</td>\n",
       "      <td>{'C': 100, 'gamma': 'scale', 'kernel': 'poly'}</td>\n",
       "      <td>0.804764</td>\n",
       "      <td>0.765553</td>\n",
       "      <td>0.787943</td>\n",
       "      <td>0.801281</td>\n",
       "      <td>0.883278</td>\n",
       "      <td>0.808564</td>\n",
       "      <td>0.039812</td>\n",
       "      <td>14</td>\n",
       "    </tr>\n",
       "    <tr>\n",
       "      <th>18</th>\n",
       "      <td>0.015400</td>\n",
       "      <td>4.468054e-04</td>\n",
       "      <td>0.012497</td>\n",
       "      <td>6.248617e-03</td>\n",
       "      <td>100</td>\n",
       "      <td>scale</td>\n",
       "      <td>rbf</td>\n",
       "      <td>{'C': 100, 'gamma': 'scale', 'kernel': 'rbf'}</td>\n",
       "      <td>0.847141</td>\n",
       "      <td>0.831253</td>\n",
       "      <td>0.832483</td>\n",
       "      <td>0.886792</td>\n",
       "      <td>0.883278</td>\n",
       "      <td>0.856189</td>\n",
       "      <td>0.024232</td>\n",
       "      <td>4</td>\n",
       "    </tr>\n",
       "    <tr>\n",
       "      <th>19</th>\n",
       "      <td>0.012497</td>\n",
       "      <td>6.248260e-03</td>\n",
       "      <td>0.015621</td>\n",
       "      <td>8.064048e-07</td>\n",
       "      <td>100</td>\n",
       "      <td>scale</td>\n",
       "      <td>sigmoid</td>\n",
       "      <td>{'C': 100, 'gamma': 'scale', 'kernel': 'sigmoid'}</td>\n",
       "      <td>0.753889</td>\n",
       "      <td>0.718755</td>\n",
       "      <td>0.587326</td>\n",
       "      <td>0.741078</td>\n",
       "      <td>0.732285</td>\n",
       "      <td>0.706666</td>\n",
       "      <td>0.060760</td>\n",
       "      <td>21</td>\n",
       "    </tr>\n",
       "    <tr>\n",
       "      <th>20</th>\n",
       "      <td>0.044652</td>\n",
       "      <td>1.082182e-02</td>\n",
       "      <td>0.009604</td>\n",
       "      <td>7.852585e-03</td>\n",
       "      <td>100</td>\n",
       "      <td>auto</td>\n",
       "      <td>linear</td>\n",
       "      <td>{'C': 100, 'gamma': 'auto', 'kernel': 'linear'}</td>\n",
       "      <td>0.822092</td>\n",
       "      <td>0.787284</td>\n",
       "      <td>0.721794</td>\n",
       "      <td>0.905069</td>\n",
       "      <td>0.865054</td>\n",
       "      <td>0.820259</td>\n",
       "      <td>0.063223</td>\n",
       "      <td>7</td>\n",
       "    </tr>\n",
       "    <tr>\n",
       "      <th>21</th>\n",
       "      <td>0.034179</td>\n",
       "      <td>1.224125e-02</td>\n",
       "      <td>0.007214</td>\n",
       "      <td>6.509751e-03</td>\n",
       "      <td>100</td>\n",
       "      <td>auto</td>\n",
       "      <td>poly</td>\n",
       "      <td>{'C': 100, 'gamma': 'auto', 'kernel': 'poly'}</td>\n",
       "      <td>0.804764</td>\n",
       "      <td>0.765553</td>\n",
       "      <td>0.787943</td>\n",
       "      <td>0.801281</td>\n",
       "      <td>0.883278</td>\n",
       "      <td>0.808564</td>\n",
       "      <td>0.039812</td>\n",
       "      <td>14</td>\n",
       "    </tr>\n",
       "    <tr>\n",
       "      <th>22</th>\n",
       "      <td>0.011906</td>\n",
       "      <td>6.216193e-03</td>\n",
       "      <td>0.009151</td>\n",
       "      <td>7.483143e-03</td>\n",
       "      <td>100</td>\n",
       "      <td>auto</td>\n",
       "      <td>rbf</td>\n",
       "      <td>{'C': 100, 'gamma': 'auto', 'kernel': 'rbf'}</td>\n",
       "      <td>0.847141</td>\n",
       "      <td>0.831253</td>\n",
       "      <td>0.832483</td>\n",
       "      <td>0.886792</td>\n",
       "      <td>0.883278</td>\n",
       "      <td>0.856189</td>\n",
       "      <td>0.024232</td>\n",
       "      <td>4</td>\n",
       "    </tr>\n",
       "    <tr>\n",
       "      <th>23</th>\n",
       "      <td>0.009150</td>\n",
       "      <td>7.481699e-03</td>\n",
       "      <td>0.016164</td>\n",
       "      <td>6.743336e-04</td>\n",
       "      <td>100</td>\n",
       "      <td>auto</td>\n",
       "      <td>sigmoid</td>\n",
       "      <td>{'C': 100, 'gamma': 'auto', 'kernel': 'sigmoid'}</td>\n",
       "      <td>0.753889</td>\n",
       "      <td>0.701618</td>\n",
       "      <td>0.587326</td>\n",
       "      <td>0.741078</td>\n",
       "      <td>0.715207</td>\n",
       "      <td>0.699824</td>\n",
       "      <td>0.059196</td>\n",
       "      <td>22</td>\n",
       "    </tr>\n",
       "  </tbody>\n",
       "</table>\n",
       "</div>"
      ],
      "text/plain": [
       "    mean_fit_time  std_fit_time  mean_score_time  std_score_time param_C  \\\n",
       "0        0.020189  8.173942e-03         0.020269    4.597817e-03      10   \n",
       "1        0.022161  7.808542e-03         0.015626    3.894332e-06      10   \n",
       "2        0.006250  7.654773e-03         0.019129    6.299269e-03      10   \n",
       "3        0.016186  1.015566e-03         0.015254    8.775877e-04      10   \n",
       "4        0.015623  3.200142e-06         0.028119    6.248331e-03      10   \n",
       "5        0.015621  7.629395e-07         0.015621    7.629395e-07      10   \n",
       "6        0.009373  7.652865e-03         0.021869    7.652942e-03      10   \n",
       "7        0.009373  7.652942e-03         0.018746    6.248760e-03      10   \n",
       "8        0.028117  6.248546e-03         0.025439    8.681647e-03      50   \n",
       "9        0.022703  8.687277e-03         0.019094    7.592010e-03      50   \n",
       "10       0.012806  2.939943e-03         0.015671    6.097638e-03      50   \n",
       "11       0.010685  7.335629e-03         0.017550    7.045564e-03      50   \n",
       "12       0.030067  1.134295e-02         0.017001    7.279609e-03      50   \n",
       "13       0.035103  1.532433e-02         0.018257    6.785669e-03      50   \n",
       "14       0.016676  2.540184e-03         0.015510    3.129587e-03      50   \n",
       "15       0.014903  1.445907e-03         0.015621    6.705287e-06      50   \n",
       "16       0.049986  6.246305e-03         0.015621    7.921814e-07     100   \n",
       "17       0.049988  1.821754e-02         0.018975    6.150244e-03     100   \n",
       "18       0.015400  4.468054e-04         0.012497    6.248617e-03     100   \n",
       "19       0.012497  6.248260e-03         0.015621    8.064048e-07     100   \n",
       "20       0.044652  1.082182e-02         0.009604    7.852585e-03     100   \n",
       "21       0.034179  1.224125e-02         0.007214    6.509751e-03     100   \n",
       "22       0.011906  6.216193e-03         0.009151    7.483143e-03     100   \n",
       "23       0.009150  7.481699e-03         0.016164    6.743336e-04     100   \n",
       "\n",
       "   param_gamma param_kernel  \\\n",
       "0        scale       linear   \n",
       "1        scale         poly   \n",
       "2        scale          rbf   \n",
       "3        scale      sigmoid   \n",
       "4         auto       linear   \n",
       "5         auto         poly   \n",
       "6         auto          rbf   \n",
       "7         auto      sigmoid   \n",
       "8        scale       linear   \n",
       "9        scale         poly   \n",
       "10       scale          rbf   \n",
       "11       scale      sigmoid   \n",
       "12        auto       linear   \n",
       "13        auto         poly   \n",
       "14        auto          rbf   \n",
       "15        auto      sigmoid   \n",
       "16       scale       linear   \n",
       "17       scale         poly   \n",
       "18       scale          rbf   \n",
       "19       scale      sigmoid   \n",
       "20        auto       linear   \n",
       "21        auto         poly   \n",
       "22        auto          rbf   \n",
       "23        auto      sigmoid   \n",
       "\n",
       "                                               params  split0_test_score  \\\n",
       "0     {'C': 10, 'gamma': 'scale', 'kernel': 'linear'}           0.822092   \n",
       "1       {'C': 10, 'gamma': 'scale', 'kernel': 'poly'}           0.799620   \n",
       "2        {'C': 10, 'gamma': 'scale', 'kernel': 'rbf'}           0.887346   \n",
       "3    {'C': 10, 'gamma': 'scale', 'kernel': 'sigmoid'}           0.749046   \n",
       "4      {'C': 10, 'gamma': 'auto', 'kernel': 'linear'}           0.822092   \n",
       "5        {'C': 10, 'gamma': 'auto', 'kernel': 'poly'}           0.799620   \n",
       "6         {'C': 10, 'gamma': 'auto', 'kernel': 'rbf'}           0.887346   \n",
       "7     {'C': 10, 'gamma': 'auto', 'kernel': 'sigmoid'}           0.749046   \n",
       "8     {'C': 50, 'gamma': 'scale', 'kernel': 'linear'}           0.822092   \n",
       "9       {'C': 50, 'gamma': 'scale', 'kernel': 'poly'}           0.804764   \n",
       "10       {'C': 50, 'gamma': 'scale', 'kernel': 'rbf'}           0.847141   \n",
       "11   {'C': 50, 'gamma': 'scale', 'kernel': 'sigmoid'}           0.753889   \n",
       "12     {'C': 50, 'gamma': 'auto', 'kernel': 'linear'}           0.822092   \n",
       "13       {'C': 50, 'gamma': 'auto', 'kernel': 'poly'}           0.804764   \n",
       "14        {'C': 50, 'gamma': 'auto', 'kernel': 'rbf'}           0.847141   \n",
       "15    {'C': 50, 'gamma': 'auto', 'kernel': 'sigmoid'}           0.732497   \n",
       "16   {'C': 100, 'gamma': 'scale', 'kernel': 'linear'}           0.822092   \n",
       "17     {'C': 100, 'gamma': 'scale', 'kernel': 'poly'}           0.804764   \n",
       "18      {'C': 100, 'gamma': 'scale', 'kernel': 'rbf'}           0.847141   \n",
       "19  {'C': 100, 'gamma': 'scale', 'kernel': 'sigmoid'}           0.753889   \n",
       "20    {'C': 100, 'gamma': 'auto', 'kernel': 'linear'}           0.822092   \n",
       "21      {'C': 100, 'gamma': 'auto', 'kernel': 'poly'}           0.804764   \n",
       "22       {'C': 100, 'gamma': 'auto', 'kernel': 'rbf'}           0.847141   \n",
       "23   {'C': 100, 'gamma': 'auto', 'kernel': 'sigmoid'}           0.753889   \n",
       "\n",
       "    split1_test_score  split2_test_score  split3_test_score  \\\n",
       "0            0.787284           0.721794           0.905069   \n",
       "1            0.765553           0.805463           0.818941   \n",
       "2            0.849057           0.832483           0.886792   \n",
       "3            0.701618           0.672275           0.759493   \n",
       "4            0.787284           0.721794           0.905069   \n",
       "5            0.765553           0.805463           0.818941   \n",
       "6            0.849057           0.832483           0.886792   \n",
       "7            0.701618           0.672275           0.740593   \n",
       "8            0.787284           0.721794           0.905069   \n",
       "9            0.765553           0.787943           0.801281   \n",
       "10           0.850809           0.832483           0.849057   \n",
       "11           0.681255           0.587326           0.722205   \n",
       "12           0.787284           0.721794           0.905069   \n",
       "13           0.765553           0.787943           0.801281   \n",
       "14           0.850809           0.832483           0.829124   \n",
       "15           0.701618           0.587326           0.741078   \n",
       "16           0.787284           0.721794           0.905069   \n",
       "17           0.765553           0.787943           0.801281   \n",
       "18           0.831253           0.832483           0.886792   \n",
       "19           0.718755           0.587326           0.741078   \n",
       "20           0.787284           0.721794           0.905069   \n",
       "21           0.765553           0.787943           0.801281   \n",
       "22           0.831253           0.832483           0.886792   \n",
       "23           0.701618           0.587326           0.741078   \n",
       "\n",
       "    split4_test_score  mean_test_score  std_test_score  rank_test_score  \n",
       "0            0.865054         0.820259        0.063223                7  \n",
       "1            0.862442         0.810404        0.031411               13  \n",
       "2            0.885265         0.868188        0.023003                1  \n",
       "3            0.715207         0.719528        0.031752               20  \n",
       "4            0.865054         0.820259        0.063223                7  \n",
       "5            0.841025         0.806120        0.024783               16  \n",
       "6            0.885265         0.868188        0.023003                1  \n",
       "7            0.735849         0.719876        0.028756               19  \n",
       "8            0.865054         0.820259        0.063223                7  \n",
       "9            0.844370         0.800782        0.025776               17  \n",
       "10           0.901744         0.856247        0.023660                3  \n",
       "11           0.735849         0.696105        0.059419               24  \n",
       "12           0.865054         0.820259        0.063223                7  \n",
       "13           0.844370         0.800782        0.025776               17  \n",
       "14           0.901744         0.852260        0.026090                6  \n",
       "15           0.735849         0.699674        0.057838               23  \n",
       "16           0.865054         0.820259        0.063223                7  \n",
       "17           0.883278         0.808564        0.039812               14  \n",
       "18           0.883278         0.856189        0.024232                4  \n",
       "19           0.732285         0.706666        0.060760               21  \n",
       "20           0.865054         0.820259        0.063223                7  \n",
       "21           0.883278         0.808564        0.039812               14  \n",
       "22           0.883278         0.856189        0.024232                4  \n",
       "23           0.715207         0.699824        0.059196               22  "
      ]
     },
     "execution_count": 23,
     "metadata": {},
     "output_type": "execute_result"
    }
   ],
   "source": [
    "table=pd.DataFrame.from_dict(classifier)\n",
    "table"
   ]
  },
  {
   "cell_type": "code",
   "execution_count": 26,
   "id": "32b9a07b",
   "metadata": {},
   "outputs": [
    {
     "data": {
      "text/plain": [
       "array([0, 0, 0, 0, 0, 0, 0, 1, 0, 1, 0, 0, 0, 0, 0, 1, 0, 0, 1, 0, 0, 1,\n",
       "       0, 1, 0, 1, 0, 0, 0, 0, 0, 0, 1, 0, 0, 0, 0, 0, 0, 1, 0, 0, 0, 0,\n",
       "       1, 0, 0, 1, 0, 1, 1, 0, 0, 1, 1, 1, 0, 0, 1, 0, 0, 1, 0, 1, 0, 1,\n",
       "       0, 0, 0, 0, 1, 0, 0, 1, 0, 0, 0, 0, 1, 1, 0, 1, 0, 0, 1, 0, 0, 1,\n",
       "       1, 0, 0, 1, 0, 0, 0, 0, 0, 0, 1, 1, 0, 1, 0, 1, 1, 1, 0, 0, 0, 0,\n",
       "       0, 0, 0, 1, 1, 1, 1, 0, 0, 1, 0, 1, 1, 1, 0, 0, 1, 1, 1, 1, 0, 1,\n",
       "       0, 1])"
      ]
     },
     "execution_count": 26,
     "metadata": {},
     "output_type": "execute_result"
    }
   ],
   "source": [
    "grid_pred=grid.predict(X_test)\n",
    "grid_pred"
   ]
  },
  {
   "cell_type": "code",
   "execution_count": 27,
   "id": "d02d15ca",
   "metadata": {},
   "outputs": [
    {
     "data": {
      "text/plain": [
       "array([[79,  6],\n",
       "       [ 6, 43]], dtype=int64)"
      ]
     },
     "execution_count": 27,
     "metadata": {},
     "output_type": "execute_result"
    }
   ],
   "source": [
    "from sklearn.metrics import confusion_matrix\n",
    "con_mat=confusion_matrix(Y_test,grid_pred)\n",
    "con_mat"
   ]
  },
  {
   "cell_type": "code",
   "execution_count": 30,
   "id": "5cf9ec26",
   "metadata": {
    "scrolled": false
   },
   "outputs": [
    {
     "name": "stdout",
     "output_type": "stream",
     "text": [
      "              precision    recall  f1-score   support\n",
      "\n",
      "           0       0.93      0.93      0.93        85\n",
      "           1       0.88      0.88      0.88        49\n",
      "\n",
      "    accuracy                           0.91       134\n",
      "   macro avg       0.90      0.90      0.90       134\n",
      "weighted avg       0.91      0.91      0.91       134\n",
      "\n"
     ]
    }
   ],
   "source": [
    "from sklearn.metrics import classification_report\n",
    "class_report = classification_report(Y_test,grid_pred)\n",
    "print(class_report)"
   ]
  },
  {
   "cell_type": "code",
   "execution_count": 32,
   "id": "618a4fb0",
   "metadata": {},
   "outputs": [
    {
     "data": {
      "text/plain": [
       "0.9034813925570228"
      ]
     },
     "execution_count": 32,
     "metadata": {},
     "output_type": "execute_result"
    }
   ],
   "source": [
    "from sklearn.metrics import roc_auc_score\n",
    "roc = roc_auc_score(Y_test,grid_pred)\n",
    "roc"
   ]
  },
  {
   "cell_type": "code",
   "execution_count": 33,
   "id": "e0c1e6be",
   "metadata": {},
   "outputs": [
    {
     "name": "stdout",
     "output_type": "stream",
     "text": [
      "Future Prediction =[1]\n"
     ]
    }
   ],
   "source": [
    "#to check the user input value \n",
    "Future_pred = grid.predict([[1,23,20000,0]])\n",
    "print(\"Future Prediction ={}\".format(Future_pred))"
   ]
  },
  {
   "cell_type": "code",
   "execution_count": null,
   "id": "1c157a02",
   "metadata": {},
   "outputs": [],
   "source": []
  }
 ],
 "metadata": {
  "kernelspec": {
   "display_name": "Python 3 (ipykernel)",
   "language": "python",
   "name": "python3"
  },
  "language_info": {
   "codemirror_mode": {
    "name": "ipython",
    "version": 3
   },
   "file_extension": ".py",
   "mimetype": "text/x-python",
   "name": "python",
   "nbconvert_exporter": "python",
   "pygments_lexer": "ipython3",
   "version": "3.11.7"
  }
 },
 "nbformat": 4,
 "nbformat_minor": 5
}
