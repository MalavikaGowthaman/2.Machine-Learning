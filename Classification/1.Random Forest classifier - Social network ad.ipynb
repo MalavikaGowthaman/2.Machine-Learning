{
 "cells": [
  {
   "cell_type": "code",
   "execution_count": 1,
   "id": "2e0e8d7d",
   "metadata": {},
   "outputs": [],
   "source": [
    "#import library\n",
    "import pandas as pd\n",
    "import matplotlib.pyplot as plt\n",
    "import numpy as np"
   ]
  },
  {
   "cell_type": "code",
   "execution_count": 2,
   "id": "a6302449",
   "metadata": {},
   "outputs": [
    {
     "data": {
      "text/html": [
       "<div>\n",
       "<style scoped>\n",
       "    .dataframe tbody tr th:only-of-type {\n",
       "        vertical-align: middle;\n",
       "    }\n",
       "\n",
       "    .dataframe tbody tr th {\n",
       "        vertical-align: top;\n",
       "    }\n",
       "\n",
       "    .dataframe thead th {\n",
       "        text-align: right;\n",
       "    }\n",
       "</style>\n",
       "<table border=\"1\" class=\"dataframe\">\n",
       "  <thead>\n",
       "    <tr style=\"text-align: right;\">\n",
       "      <th></th>\n",
       "      <th>User ID</th>\n",
       "      <th>Gender</th>\n",
       "      <th>Age</th>\n",
       "      <th>EstimatedSalary</th>\n",
       "      <th>Purchased</th>\n",
       "    </tr>\n",
       "  </thead>\n",
       "  <tbody>\n",
       "    <tr>\n",
       "      <th>0</th>\n",
       "      <td>15624510</td>\n",
       "      <td>Male</td>\n",
       "      <td>19</td>\n",
       "      <td>19000</td>\n",
       "      <td>0</td>\n",
       "    </tr>\n",
       "    <tr>\n",
       "      <th>1</th>\n",
       "      <td>15810944</td>\n",
       "      <td>Male</td>\n",
       "      <td>35</td>\n",
       "      <td>20000</td>\n",
       "      <td>0</td>\n",
       "    </tr>\n",
       "    <tr>\n",
       "      <th>2</th>\n",
       "      <td>15668575</td>\n",
       "      <td>Female</td>\n",
       "      <td>26</td>\n",
       "      <td>43000</td>\n",
       "      <td>0</td>\n",
       "    </tr>\n",
       "    <tr>\n",
       "      <th>3</th>\n",
       "      <td>15603246</td>\n",
       "      <td>Female</td>\n",
       "      <td>27</td>\n",
       "      <td>57000</td>\n",
       "      <td>0</td>\n",
       "    </tr>\n",
       "    <tr>\n",
       "      <th>4</th>\n",
       "      <td>15804002</td>\n",
       "      <td>Male</td>\n",
       "      <td>19</td>\n",
       "      <td>76000</td>\n",
       "      <td>0</td>\n",
       "    </tr>\n",
       "    <tr>\n",
       "      <th>...</th>\n",
       "      <td>...</td>\n",
       "      <td>...</td>\n",
       "      <td>...</td>\n",
       "      <td>...</td>\n",
       "      <td>...</td>\n",
       "    </tr>\n",
       "    <tr>\n",
       "      <th>395</th>\n",
       "      <td>15691863</td>\n",
       "      <td>Female</td>\n",
       "      <td>46</td>\n",
       "      <td>41000</td>\n",
       "      <td>1</td>\n",
       "    </tr>\n",
       "    <tr>\n",
       "      <th>396</th>\n",
       "      <td>15706071</td>\n",
       "      <td>Male</td>\n",
       "      <td>51</td>\n",
       "      <td>23000</td>\n",
       "      <td>1</td>\n",
       "    </tr>\n",
       "    <tr>\n",
       "      <th>397</th>\n",
       "      <td>15654296</td>\n",
       "      <td>Female</td>\n",
       "      <td>50</td>\n",
       "      <td>20000</td>\n",
       "      <td>1</td>\n",
       "    </tr>\n",
       "    <tr>\n",
       "      <th>398</th>\n",
       "      <td>15755018</td>\n",
       "      <td>Male</td>\n",
       "      <td>36</td>\n",
       "      <td>33000</td>\n",
       "      <td>0</td>\n",
       "    </tr>\n",
       "    <tr>\n",
       "      <th>399</th>\n",
       "      <td>15594041</td>\n",
       "      <td>Female</td>\n",
       "      <td>49</td>\n",
       "      <td>36000</td>\n",
       "      <td>1</td>\n",
       "    </tr>\n",
       "  </tbody>\n",
       "</table>\n",
       "<p>400 rows × 5 columns</p>\n",
       "</div>"
      ],
      "text/plain": [
       "      User ID  Gender  Age  EstimatedSalary  Purchased\n",
       "0    15624510    Male   19            19000          0\n",
       "1    15810944    Male   35            20000          0\n",
       "2    15668575  Female   26            43000          0\n",
       "3    15603246  Female   27            57000          0\n",
       "4    15804002    Male   19            76000          0\n",
       "..        ...     ...  ...              ...        ...\n",
       "395  15691863  Female   46            41000          1\n",
       "396  15706071    Male   51            23000          1\n",
       "397  15654296  Female   50            20000          1\n",
       "398  15755018    Male   36            33000          0\n",
       "399  15594041  Female   49            36000          1\n",
       "\n",
       "[400 rows x 5 columns]"
      ]
     },
     "execution_count": 2,
     "metadata": {},
     "output_type": "execute_result"
    }
   ],
   "source": [
    "#load the dataset\n",
    "dataset = pd.read_csv(\"Social_Network_Ads.csv\")\n",
    "dataset"
   ]
  },
  {
   "cell_type": "code",
   "execution_count": 3,
   "id": "78d3871f",
   "metadata": {},
   "outputs": [
    {
     "data": {
      "text/html": [
       "<div>\n",
       "<style scoped>\n",
       "    .dataframe tbody tr th:only-of-type {\n",
       "        vertical-align: middle;\n",
       "    }\n",
       "\n",
       "    .dataframe tbody tr th {\n",
       "        vertical-align: top;\n",
       "    }\n",
       "\n",
       "    .dataframe thead th {\n",
       "        text-align: right;\n",
       "    }\n",
       "</style>\n",
       "<table border=\"1\" class=\"dataframe\">\n",
       "  <thead>\n",
       "    <tr style=\"text-align: right;\">\n",
       "      <th></th>\n",
       "      <th>User ID</th>\n",
       "      <th>Age</th>\n",
       "      <th>EstimatedSalary</th>\n",
       "      <th>Purchased</th>\n",
       "      <th>Gender_Male</th>\n",
       "    </tr>\n",
       "  </thead>\n",
       "  <tbody>\n",
       "    <tr>\n",
       "      <th>0</th>\n",
       "      <td>15624510</td>\n",
       "      <td>19</td>\n",
       "      <td>19000</td>\n",
       "      <td>0</td>\n",
       "      <td>1</td>\n",
       "    </tr>\n",
       "    <tr>\n",
       "      <th>1</th>\n",
       "      <td>15810944</td>\n",
       "      <td>35</td>\n",
       "      <td>20000</td>\n",
       "      <td>0</td>\n",
       "      <td>1</td>\n",
       "    </tr>\n",
       "    <tr>\n",
       "      <th>2</th>\n",
       "      <td>15668575</td>\n",
       "      <td>26</td>\n",
       "      <td>43000</td>\n",
       "      <td>0</td>\n",
       "      <td>0</td>\n",
       "    </tr>\n",
       "    <tr>\n",
       "      <th>3</th>\n",
       "      <td>15603246</td>\n",
       "      <td>27</td>\n",
       "      <td>57000</td>\n",
       "      <td>0</td>\n",
       "      <td>0</td>\n",
       "    </tr>\n",
       "    <tr>\n",
       "      <th>4</th>\n",
       "      <td>15804002</td>\n",
       "      <td>19</td>\n",
       "      <td>76000</td>\n",
       "      <td>0</td>\n",
       "      <td>1</td>\n",
       "    </tr>\n",
       "    <tr>\n",
       "      <th>...</th>\n",
       "      <td>...</td>\n",
       "      <td>...</td>\n",
       "      <td>...</td>\n",
       "      <td>...</td>\n",
       "      <td>...</td>\n",
       "    </tr>\n",
       "    <tr>\n",
       "      <th>395</th>\n",
       "      <td>15691863</td>\n",
       "      <td>46</td>\n",
       "      <td>41000</td>\n",
       "      <td>1</td>\n",
       "      <td>0</td>\n",
       "    </tr>\n",
       "    <tr>\n",
       "      <th>396</th>\n",
       "      <td>15706071</td>\n",
       "      <td>51</td>\n",
       "      <td>23000</td>\n",
       "      <td>1</td>\n",
       "      <td>1</td>\n",
       "    </tr>\n",
       "    <tr>\n",
       "      <th>397</th>\n",
       "      <td>15654296</td>\n",
       "      <td>50</td>\n",
       "      <td>20000</td>\n",
       "      <td>1</td>\n",
       "      <td>0</td>\n",
       "    </tr>\n",
       "    <tr>\n",
       "      <th>398</th>\n",
       "      <td>15755018</td>\n",
       "      <td>36</td>\n",
       "      <td>33000</td>\n",
       "      <td>0</td>\n",
       "      <td>1</td>\n",
       "    </tr>\n",
       "    <tr>\n",
       "      <th>399</th>\n",
       "      <td>15594041</td>\n",
       "      <td>49</td>\n",
       "      <td>36000</td>\n",
       "      <td>1</td>\n",
       "      <td>0</td>\n",
       "    </tr>\n",
       "  </tbody>\n",
       "</table>\n",
       "<p>400 rows × 5 columns</p>\n",
       "</div>"
      ],
      "text/plain": [
       "      User ID  Age  EstimatedSalary  Purchased  Gender_Male\n",
       "0    15624510   19            19000          0            1\n",
       "1    15810944   35            20000          0            1\n",
       "2    15668575   26            43000          0            0\n",
       "3    15603246   27            57000          0            0\n",
       "4    15804002   19            76000          0            1\n",
       "..        ...  ...              ...        ...          ...\n",
       "395  15691863   46            41000          1            0\n",
       "396  15706071   51            23000          1            1\n",
       "397  15654296   50            20000          1            0\n",
       "398  15755018   36            33000          0            1\n",
       "399  15594041   49            36000          1            0\n",
       "\n",
       "[400 rows x 5 columns]"
      ]
     },
     "execution_count": 3,
     "metadata": {},
     "output_type": "execute_result"
    }
   ],
   "source": [
    "#changing categorical value to numerical value\n",
    "dataset = pd.get_dummies(dataset, drop_first=True)\n",
    "dataset=dataset.astype(int)\n",
    "dataset"
   ]
  },
  {
   "cell_type": "code",
   "execution_count": 4,
   "id": "f54652f9",
   "metadata": {},
   "outputs": [
    {
     "data": {
      "text/plain": [
       "Purchased\n",
       "0    257\n",
       "1    143\n",
       "Name: count, dtype: int64"
      ]
     },
     "execution_count": 4,
     "metadata": {},
     "output_type": "execute_result"
    }
   ],
   "source": [
    "# to find the purchased not purchased count\n",
    "dataset['Purchased'].value_counts()"
   ]
  },
  {
   "cell_type": "code",
   "execution_count": 5,
   "id": "1bb70350",
   "metadata": {},
   "outputs": [
    {
     "data": {
      "text/plain": [
       "Index(['User ID', 'Age', 'EstimatedSalary', 'Purchased', 'Gender_Male'], dtype='object')"
      ]
     },
     "execution_count": 5,
     "metadata": {},
     "output_type": "execute_result"
    }
   ],
   "source": [
    "dataset.columns"
   ]
  },
  {
   "cell_type": "code",
   "execution_count": 6,
   "id": "5f945f86",
   "metadata": {},
   "outputs": [],
   "source": [
    "independent = dataset[['User ID', 'Age', 'EstimatedSalary','Gender_Male']]\n",
    "dependent = dataset[['Purchased']]"
   ]
  },
  {
   "cell_type": "code",
   "execution_count": 7,
   "id": "0866281b",
   "metadata": {},
   "outputs": [
    {
     "data": {
      "text/plain": [
       "(400, 4)"
      ]
     },
     "execution_count": 7,
     "metadata": {},
     "output_type": "execute_result"
    }
   ],
   "source": [
    "independent.shape"
   ]
  },
  {
   "cell_type": "code",
   "execution_count": 8,
   "id": "75f310d2",
   "metadata": {},
   "outputs": [
    {
     "data": {
      "text/plain": [
       "(400, 1)"
      ]
     },
     "execution_count": 8,
     "metadata": {},
     "output_type": "execute_result"
    }
   ],
   "source": [
    "dependent.shape"
   ]
  },
  {
   "cell_type": "code",
   "execution_count": 9,
   "id": "c924f831",
   "metadata": {},
   "outputs": [],
   "source": [
    "#split model for training and testing\n",
    "from sklearn.model_selection import train_test_split\n",
    "X_train,X_test,Y_train,Y_test = train_test_split(independent, dependent, test_size=1/3, random_state=0)"
   ]
  },
  {
   "cell_type": "code",
   "execution_count": 10,
   "id": "d17fcf6f",
   "metadata": {},
   "outputs": [
    {
     "name": "stderr",
     "output_type": "stream",
     "text": [
      "C:\\Users\\HP\\AppData\\Local\\Temp\\ipykernel_8660\\3129269864.py:4: DataConversionWarning: A column-vector y was passed when a 1d array was expected. Please change the shape of y to (n_samples,), for example using ravel().\n",
      "  classifier.fit(X_train,Y_train)\n"
     ]
    },
    {
     "data": {
      "text/html": [
       "<style>#sk-container-id-1 {color: black;background-color: white;}#sk-container-id-1 pre{padding: 0;}#sk-container-id-1 div.sk-toggleable {background-color: white;}#sk-container-id-1 label.sk-toggleable__label {cursor: pointer;display: block;width: 100%;margin-bottom: 0;padding: 0.3em;box-sizing: border-box;text-align: center;}#sk-container-id-1 label.sk-toggleable__label-arrow:before {content: \"▸\";float: left;margin-right: 0.25em;color: #696969;}#sk-container-id-1 label.sk-toggleable__label-arrow:hover:before {color: black;}#sk-container-id-1 div.sk-estimator:hover label.sk-toggleable__label-arrow:before {color: black;}#sk-container-id-1 div.sk-toggleable__content {max-height: 0;max-width: 0;overflow: hidden;text-align: left;background-color: #f0f8ff;}#sk-container-id-1 div.sk-toggleable__content pre {margin: 0.2em;color: black;border-radius: 0.25em;background-color: #f0f8ff;}#sk-container-id-1 input.sk-toggleable__control:checked~div.sk-toggleable__content {max-height: 200px;max-width: 100%;overflow: auto;}#sk-container-id-1 input.sk-toggleable__control:checked~label.sk-toggleable__label-arrow:before {content: \"▾\";}#sk-container-id-1 div.sk-estimator input.sk-toggleable__control:checked~label.sk-toggleable__label {background-color: #d4ebff;}#sk-container-id-1 div.sk-label input.sk-toggleable__control:checked~label.sk-toggleable__label {background-color: #d4ebff;}#sk-container-id-1 input.sk-hidden--visually {border: 0;clip: rect(1px 1px 1px 1px);clip: rect(1px, 1px, 1px, 1px);height: 1px;margin: -1px;overflow: hidden;padding: 0;position: absolute;width: 1px;}#sk-container-id-1 div.sk-estimator {font-family: monospace;background-color: #f0f8ff;border: 1px dotted black;border-radius: 0.25em;box-sizing: border-box;margin-bottom: 0.5em;}#sk-container-id-1 div.sk-estimator:hover {background-color: #d4ebff;}#sk-container-id-1 div.sk-parallel-item::after {content: \"\";width: 100%;border-bottom: 1px solid gray;flex-grow: 1;}#sk-container-id-1 div.sk-label:hover label.sk-toggleable__label {background-color: #d4ebff;}#sk-container-id-1 div.sk-serial::before {content: \"\";position: absolute;border-left: 1px solid gray;box-sizing: border-box;top: 0;bottom: 0;left: 50%;z-index: 0;}#sk-container-id-1 div.sk-serial {display: flex;flex-direction: column;align-items: center;background-color: white;padding-right: 0.2em;padding-left: 0.2em;position: relative;}#sk-container-id-1 div.sk-item {position: relative;z-index: 1;}#sk-container-id-1 div.sk-parallel {display: flex;align-items: stretch;justify-content: center;background-color: white;position: relative;}#sk-container-id-1 div.sk-item::before, #sk-container-id-1 div.sk-parallel-item::before {content: \"\";position: absolute;border-left: 1px solid gray;box-sizing: border-box;top: 0;bottom: 0;left: 50%;z-index: -1;}#sk-container-id-1 div.sk-parallel-item {display: flex;flex-direction: column;z-index: 1;position: relative;background-color: white;}#sk-container-id-1 div.sk-parallel-item:first-child::after {align-self: flex-end;width: 50%;}#sk-container-id-1 div.sk-parallel-item:last-child::after {align-self: flex-start;width: 50%;}#sk-container-id-1 div.sk-parallel-item:only-child::after {width: 0;}#sk-container-id-1 div.sk-dashed-wrapped {border: 1px dashed gray;margin: 0 0.4em 0.5em 0.4em;box-sizing: border-box;padding-bottom: 0.4em;background-color: white;}#sk-container-id-1 div.sk-label label {font-family: monospace;font-weight: bold;display: inline-block;line-height: 1.2em;}#sk-container-id-1 div.sk-label-container {text-align: center;}#sk-container-id-1 div.sk-container {/* jupyter's `normalize.less` sets `[hidden] { display: none; }` but bootstrap.min.css set `[hidden] { display: none !important; }` so we also need the `!important` here to be able to override the default hidden behavior on the sphinx rendered scikit-learn.org. See: https://github.com/scikit-learn/scikit-learn/issues/21755 */display: inline-block !important;position: relative;}#sk-container-id-1 div.sk-text-repr-fallback {display: none;}</style><div id=\"sk-container-id-1\" class=\"sk-top-container\"><div class=\"sk-text-repr-fallback\"><pre>RandomForestClassifier(criterion=&#x27;entropy&#x27;, n_estimators=10, random_state=0)</pre><b>In a Jupyter environment, please rerun this cell to show the HTML representation or trust the notebook. <br />On GitHub, the HTML representation is unable to render, please try loading this page with nbviewer.org.</b></div><div class=\"sk-container\" hidden><div class=\"sk-item\"><div class=\"sk-estimator sk-toggleable\"><input class=\"sk-toggleable__control sk-hidden--visually\" id=\"sk-estimator-id-1\" type=\"checkbox\" checked><label for=\"sk-estimator-id-1\" class=\"sk-toggleable__label sk-toggleable__label-arrow\">RandomForestClassifier</label><div class=\"sk-toggleable__content\"><pre>RandomForestClassifier(criterion=&#x27;entropy&#x27;, n_estimators=10, random_state=0)</pre></div></div></div></div></div>"
      ],
      "text/plain": [
       "RandomForestClassifier(criterion='entropy', n_estimators=10, random_state=0)"
      ]
     },
     "execution_count": 10,
     "metadata": {},
     "output_type": "execute_result"
    }
   ],
   "source": [
    "#Model Creation\n",
    "from sklearn.ensemble import RandomForestClassifier\n",
    "classifier = RandomForestClassifier(n_estimators=10,criterion='entropy',random_state = 0)\n",
    "classifier.fit(X_train,Y_train)"
   ]
  },
  {
   "cell_type": "code",
   "execution_count": 11,
   "id": "85f0ef31",
   "metadata": {},
   "outputs": [
    {
     "data": {
      "text/plain": [
       "array([0, 0, 0, 0, 0, 0, 0, 1, 0, 1, 0, 0, 0, 0, 0, 0, 0, 0, 1, 0, 0, 1,\n",
       "       0, 1, 0, 1, 0, 0, 0, 0, 0, 0, 1, 0, 0, 0, 0, 0, 0, 1, 0, 0, 0, 0,\n",
       "       1, 0, 0, 1, 0, 1, 1, 0, 0, 1, 1, 1, 0, 0, 1, 0, 0, 0, 0, 1, 0, 1,\n",
       "       0, 0, 0, 0, 1, 0, 0, 1, 0, 0, 0, 0, 1, 1, 1, 1, 0, 0, 1, 0, 0, 1,\n",
       "       0, 0, 0, 1, 0, 0, 0, 1, 0, 1, 1, 1, 1, 1, 0, 1, 1, 1, 0, 0, 0, 0,\n",
       "       0, 0, 0, 1, 1, 1, 1, 0, 0, 1, 0, 1, 1, 1, 0, 0, 0, 1, 1, 1, 0, 1,\n",
       "       0, 1])"
      ]
     },
     "execution_count": 11,
     "metadata": {},
     "output_type": "execute_result"
    }
   ],
   "source": [
    "# to test the data\n",
    "test_Pred = classifier.predict(X_test)\n",
    "test_Pred"
   ]
  },
  {
   "cell_type": "code",
   "execution_count": 12,
   "id": "a1e5c340",
   "metadata": {},
   "outputs": [
    {
     "data": {
      "text/plain": [
       "array([[79,  6],\n",
       "       [ 6, 43]], dtype=int64)"
      ]
     },
     "execution_count": 12,
     "metadata": {},
     "output_type": "execute_result"
    }
   ],
   "source": [
    "#Evalution using confusion matrix\n",
    "from sklearn.metrics import confusion_matrix\n",
    "con_mat = confusion_matrix(Y_test,test_Pred)\n",
    "con_mat"
   ]
  },
  {
   "cell_type": "code",
   "execution_count": 13,
   "id": "2b9f6995",
   "metadata": {},
   "outputs": [
    {
     "name": "stdout",
     "output_type": "stream",
     "text": [
      "              precision    recall  f1-score   support\n",
      "\n",
      "           0       0.93      0.93      0.93        85\n",
      "           1       0.88      0.88      0.88        49\n",
      "\n",
      "    accuracy                           0.91       134\n",
      "   macro avg       0.90      0.90      0.90       134\n",
      "weighted avg       0.91      0.91      0.91       134\n",
      "\n"
     ]
    }
   ],
   "source": [
    "#To create a classification report\n",
    "from sklearn.metrics import classification_report\n",
    "class_report = classification_report(Y_test,test_Pred)\n",
    "print(class_report)"
   ]
  },
  {
   "cell_type": "raw",
   "id": "b4234aea",
   "metadata": {},
   "source": [
    "Accuracy - \n",
    "        What is the percentage of correct classification to the total test input? - 91%\n",
    "Recall - \n",
    "        What is the correct classification of Purchased and not purchased to the test data? - Purchased 88%, Not Purchased 93%\n",
    "Precision - \n",
    "        What is the Percentage of correctly classified purchased and not purchased to the sum of correctly and wrongly classified purchased and Not purchased? Purchased - 88%, Not Purchased - 93%\n",
    "F1 score - \n",
    "        What is the overall performance of purchased and Not purchased? - Purchased - 88%, Not Purchased - 93%.\n",
    "Macro Avg - \n",
    "        What is the Avg of Precision, Recall, F1Score? - Precision - 90%, Recall - 90%, F1score - 90%.\n",
    "Weighted Avg - \n",
    "        What is the proportion of each class(Precision, Recall, F1Score)? - Precision - 91%, Recall - 91%, F1score - 91%."
   ]
  },
  {
   "cell_type": "code",
   "execution_count": 14,
   "id": "81638398",
   "metadata": {},
   "outputs": [
    {
     "data": {
      "text/plain": [
       "Index(['User ID', 'Age', 'EstimatedSalary', 'Purchased', 'Gender_Male'], dtype='object')"
      ]
     },
     "execution_count": 14,
     "metadata": {},
     "output_type": "execute_result"
    }
   ],
   "source": [
    "dataset.columns"
   ]
  },
  {
   "cell_type": "code",
   "execution_count": 15,
   "id": "6157894f",
   "metadata": {},
   "outputs": [
    {
     "name": "stdout",
     "output_type": "stream",
     "text": [
      "Enter the UserId: 36\n",
      "Enter the age: 35\n",
      "Enter the salary: 50000\n",
      "Enter the gender: 0\n"
     ]
    }
   ],
   "source": [
    "#to predict the user input\n",
    "id_input=int(input(\"Enter the UserId: \"))\n",
    "age_input=int(input(\"Enter the age: \"))\n",
    "Salary= int(input(\"Enter the salary: \"))\n",
    "Gender = int(input(\"Enter the gender: \"))"
   ]
  },
  {
   "cell_type": "code",
   "execution_count": 16,
   "id": "67f6881c",
   "metadata": {},
   "outputs": [
    {
     "name": "stderr",
     "output_type": "stream",
     "text": [
      "C:\\Anaconda3\\Lib\\site-packages\\sklearn\\base.py:439: UserWarning: X does not have valid feature names, but RandomForestClassifier was fitted with feature names\n",
      "  warnings.warn(\n"
     ]
    },
    {
     "data": {
      "text/plain": [
       "array([0])"
      ]
     },
     "execution_count": 16,
     "metadata": {},
     "output_type": "execute_result"
    }
   ],
   "source": [
    "classifier.predict([[id_input,age_input,Salary,Gender]])"
   ]
  },
  {
   "cell_type": "code",
   "execution_count": 17,
   "id": "d0f6d7f3",
   "metadata": {},
   "outputs": [
    {
     "name": "stderr",
     "output_type": "stream",
     "text": [
      "C:\\Anaconda3\\Lib\\site-packages\\sklearn\\base.py:439: UserWarning: X does not have valid feature names, but RandomForestClassifier was fitted with feature names\n",
      "  warnings.warn(\n"
     ]
    },
    {
     "data": {
      "text/plain": [
       "array([0])"
      ]
     },
     "execution_count": 17,
     "metadata": {},
     "output_type": "execute_result"
    }
   ],
   "source": [
    "classifier.predict([[1,23,40000,1]])"
   ]
  },
  {
   "cell_type": "markdown",
   "id": "91a25cc5",
   "metadata": {},
   "source": [
    "# Using Grid Search"
   ]
  },
  {
   "cell_type": "code",
   "execution_count": 18,
   "id": "6884e078",
   "metadata": {},
   "outputs": [],
   "source": [
    "#Model Creation\n",
    "from sklearn.ensemble import RandomForestClassifier"
   ]
  },
  {
   "cell_type": "code",
   "execution_count": 19,
   "id": "a79187ba",
   "metadata": {},
   "outputs": [
    {
     "name": "stdout",
     "output_type": "stream",
     "text": [
      "Fitting 5 folds for each of 18 candidates, totalling 90 fits\n"
     ]
    },
    {
     "name": "stderr",
     "output_type": "stream",
     "text": [
      "C:\\Anaconda3\\Lib\\site-packages\\sklearn\\model_selection\\_search.py:909: DataConversionWarning: A column-vector y was passed when a 1d array was expected. Please change the shape of y to (n_samples,), for example using ravel().\n",
      "  self.best_estimator_.fit(X, y, **fit_params)\n"
     ]
    },
    {
     "data": {
      "text/html": [
       "<style>#sk-container-id-2 {color: black;background-color: white;}#sk-container-id-2 pre{padding: 0;}#sk-container-id-2 div.sk-toggleable {background-color: white;}#sk-container-id-2 label.sk-toggleable__label {cursor: pointer;display: block;width: 100%;margin-bottom: 0;padding: 0.3em;box-sizing: border-box;text-align: center;}#sk-container-id-2 label.sk-toggleable__label-arrow:before {content: \"▸\";float: left;margin-right: 0.25em;color: #696969;}#sk-container-id-2 label.sk-toggleable__label-arrow:hover:before {color: black;}#sk-container-id-2 div.sk-estimator:hover label.sk-toggleable__label-arrow:before {color: black;}#sk-container-id-2 div.sk-toggleable__content {max-height: 0;max-width: 0;overflow: hidden;text-align: left;background-color: #f0f8ff;}#sk-container-id-2 div.sk-toggleable__content pre {margin: 0.2em;color: black;border-radius: 0.25em;background-color: #f0f8ff;}#sk-container-id-2 input.sk-toggleable__control:checked~div.sk-toggleable__content {max-height: 200px;max-width: 100%;overflow: auto;}#sk-container-id-2 input.sk-toggleable__control:checked~label.sk-toggleable__label-arrow:before {content: \"▾\";}#sk-container-id-2 div.sk-estimator input.sk-toggleable__control:checked~label.sk-toggleable__label {background-color: #d4ebff;}#sk-container-id-2 div.sk-label input.sk-toggleable__control:checked~label.sk-toggleable__label {background-color: #d4ebff;}#sk-container-id-2 input.sk-hidden--visually {border: 0;clip: rect(1px 1px 1px 1px);clip: rect(1px, 1px, 1px, 1px);height: 1px;margin: -1px;overflow: hidden;padding: 0;position: absolute;width: 1px;}#sk-container-id-2 div.sk-estimator {font-family: monospace;background-color: #f0f8ff;border: 1px dotted black;border-radius: 0.25em;box-sizing: border-box;margin-bottom: 0.5em;}#sk-container-id-2 div.sk-estimator:hover {background-color: #d4ebff;}#sk-container-id-2 div.sk-parallel-item::after {content: \"\";width: 100%;border-bottom: 1px solid gray;flex-grow: 1;}#sk-container-id-2 div.sk-label:hover label.sk-toggleable__label {background-color: #d4ebff;}#sk-container-id-2 div.sk-serial::before {content: \"\";position: absolute;border-left: 1px solid gray;box-sizing: border-box;top: 0;bottom: 0;left: 50%;z-index: 0;}#sk-container-id-2 div.sk-serial {display: flex;flex-direction: column;align-items: center;background-color: white;padding-right: 0.2em;padding-left: 0.2em;position: relative;}#sk-container-id-2 div.sk-item {position: relative;z-index: 1;}#sk-container-id-2 div.sk-parallel {display: flex;align-items: stretch;justify-content: center;background-color: white;position: relative;}#sk-container-id-2 div.sk-item::before, #sk-container-id-2 div.sk-parallel-item::before {content: \"\";position: absolute;border-left: 1px solid gray;box-sizing: border-box;top: 0;bottom: 0;left: 50%;z-index: -1;}#sk-container-id-2 div.sk-parallel-item {display: flex;flex-direction: column;z-index: 1;position: relative;background-color: white;}#sk-container-id-2 div.sk-parallel-item:first-child::after {align-self: flex-end;width: 50%;}#sk-container-id-2 div.sk-parallel-item:last-child::after {align-self: flex-start;width: 50%;}#sk-container-id-2 div.sk-parallel-item:only-child::after {width: 0;}#sk-container-id-2 div.sk-dashed-wrapped {border: 1px dashed gray;margin: 0 0.4em 0.5em 0.4em;box-sizing: border-box;padding-bottom: 0.4em;background-color: white;}#sk-container-id-2 div.sk-label label {font-family: monospace;font-weight: bold;display: inline-block;line-height: 1.2em;}#sk-container-id-2 div.sk-label-container {text-align: center;}#sk-container-id-2 div.sk-container {/* jupyter's `normalize.less` sets `[hidden] { display: none; }` but bootstrap.min.css set `[hidden] { display: none !important; }` so we also need the `!important` here to be able to override the default hidden behavior on the sphinx rendered scikit-learn.org. See: https://github.com/scikit-learn/scikit-learn/issues/21755 */display: inline-block !important;position: relative;}#sk-container-id-2 div.sk-text-repr-fallback {display: none;}</style><div id=\"sk-container-id-2\" class=\"sk-top-container\"><div class=\"sk-text-repr-fallback\"><pre>GridSearchCV(estimator=RandomForestClassifier(), n_jobs=-1,\n",
       "             param_grid={&#x27;criterion&#x27;: [&#x27;gini&#x27;, &#x27;entropy&#x27;, &#x27;log_loss&#x27;],\n",
       "                         &#x27;max_features&#x27;: [&#x27;sqrt&#x27;, &#x27;log2&#x27;],\n",
       "                         &#x27;n_estimators&#x27;: [10, 50, 100]},\n",
       "             scoring=&#x27;f1&#x27;, verbose=3)</pre><b>In a Jupyter environment, please rerun this cell to show the HTML representation or trust the notebook. <br />On GitHub, the HTML representation is unable to render, please try loading this page with nbviewer.org.</b></div><div class=\"sk-container\" hidden><div class=\"sk-item sk-dashed-wrapped\"><div class=\"sk-label-container\"><div class=\"sk-label sk-toggleable\"><input class=\"sk-toggleable__control sk-hidden--visually\" id=\"sk-estimator-id-2\" type=\"checkbox\" ><label for=\"sk-estimator-id-2\" class=\"sk-toggleable__label sk-toggleable__label-arrow\">GridSearchCV</label><div class=\"sk-toggleable__content\"><pre>GridSearchCV(estimator=RandomForestClassifier(), n_jobs=-1,\n",
       "             param_grid={&#x27;criterion&#x27;: [&#x27;gini&#x27;, &#x27;entropy&#x27;, &#x27;log_loss&#x27;],\n",
       "                         &#x27;max_features&#x27;: [&#x27;sqrt&#x27;, &#x27;log2&#x27;],\n",
       "                         &#x27;n_estimators&#x27;: [10, 50, 100]},\n",
       "             scoring=&#x27;f1&#x27;, verbose=3)</pre></div></div></div><div class=\"sk-parallel\"><div class=\"sk-parallel-item\"><div class=\"sk-item\"><div class=\"sk-label-container\"><div class=\"sk-label sk-toggleable\"><input class=\"sk-toggleable__control sk-hidden--visually\" id=\"sk-estimator-id-3\" type=\"checkbox\" ><label for=\"sk-estimator-id-3\" class=\"sk-toggleable__label sk-toggleable__label-arrow\">estimator: RandomForestClassifier</label><div class=\"sk-toggleable__content\"><pre>RandomForestClassifier()</pre></div></div></div><div class=\"sk-serial\"><div class=\"sk-item\"><div class=\"sk-estimator sk-toggleable\"><input class=\"sk-toggleable__control sk-hidden--visually\" id=\"sk-estimator-id-4\" type=\"checkbox\" ><label for=\"sk-estimator-id-4\" class=\"sk-toggleable__label sk-toggleable__label-arrow\">RandomForestClassifier</label><div class=\"sk-toggleable__content\"><pre>RandomForestClassifier()</pre></div></div></div></div></div></div></div></div></div></div>"
      ],
      "text/plain": [
       "GridSearchCV(estimator=RandomForestClassifier(), n_jobs=-1,\n",
       "             param_grid={'criterion': ['gini', 'entropy', 'log_loss'],\n",
       "                         'max_features': ['sqrt', 'log2'],\n",
       "                         'n_estimators': [10, 50, 100]},\n",
       "             scoring='f1', verbose=3)"
      ]
     },
     "execution_count": 19,
     "metadata": {},
     "output_type": "execute_result"
    }
   ],
   "source": [
    "from sklearn.model_selection import GridSearchCV\n",
    "parameters = {'n_estimators':[10,50,100], \n",
    "              'criterion':['gini', 'entropy', 'log_loss'],# paramters are random forest from website\n",
    "              'max_features':['sqrt', 'log2']}\n",
    "\n",
    "grid = GridSearchCV(RandomForestClassifier(),parameters, refit = True, verbose =3, n_jobs=-1, scoring='f1') \n",
    "#refit true is for finding the best model,\n",
    "#false will give last model\n",
    "#https://scikit-learn.org/stable/modules/model_evaluation.html - for scoring \n",
    "grid.fit(X_train,Y_train) # can able to call directly without training and testing "
   ]
  },
  {
   "cell_type": "code",
   "execution_count": 20,
   "id": "79ba603e",
   "metadata": {},
   "outputs": [
    {
     "name": "stdout",
     "output_type": "stream",
     "text": [
      "{'criterion': 'entropy', 'max_features': 'sqrt', 'n_estimators': 100}\n"
     ]
    }
   ],
   "source": [
    "print(grid.best_params_)"
   ]
  },
  {
   "cell_type": "code",
   "execution_count": 34,
   "id": "3d4432c1",
   "metadata": {},
   "outputs": [
    {
     "data": {
      "text/plain": [
       "{'mean_fit_time': array([0.10271626, 0.33360863, 0.6001421 , 0.06706972, 0.3002686 ,\n",
       "        0.60383382, 0.06347504, 0.29787555, 0.59583406, 0.06470613,\n",
       "        0.32215195, 0.59692054, 0.06606812, 0.30034642, 0.63072324,\n",
       "        0.0750473 , 0.2758822 , 0.46095967]),\n",
       " 'std_fit_time': array([0.0118188 , 0.01728265, 0.02860673, 0.00792529, 0.01520174,\n",
       "        0.02206077, 0.00444233, 0.02715739, 0.01412245, 0.00839998,\n",
       "        0.01777201, 0.01450563, 0.0047878 , 0.01232582, 0.02513508,\n",
       "        0.00383816, 0.01453057, 0.01521427]),\n",
       " 'mean_score_time': array([0.03057704, 0.04437418, 0.05694232, 0.02104921, 0.04651647,\n",
       "        0.05379896, 0.02210898, 0.04865174, 0.0667912 , 0.024791  ,\n",
       "        0.04134107, 0.05617442, 0.02534199, 0.04014711, 0.05707045,\n",
       "        0.02786283, 0.03976421, 0.03096728]),\n",
       " 'std_score_time': array([0.00708195, 0.00726281, 0.00721205, 0.00545948, 0.01260932,\n",
       "        0.00951578, 0.00784817, 0.01307918, 0.01401362, 0.00838407,\n",
       "        0.0135999 , 0.00733753, 0.00344413, 0.00839484, 0.00310106,\n",
       "        0.00742785, 0.00363462, 0.01561126]),\n",
       " 'param_criterion': masked_array(data=['gini', 'gini', 'gini', 'gini', 'gini', 'gini',\n",
       "                    'entropy', 'entropy', 'entropy', 'entropy', 'entropy',\n",
       "                    'entropy', 'log_loss', 'log_loss', 'log_loss',\n",
       "                    'log_loss', 'log_loss', 'log_loss'],\n",
       "              mask=[False, False, False, False, False, False, False, False,\n",
       "                    False, False, False, False, False, False, False, False,\n",
       "                    False, False],\n",
       "        fill_value='?',\n",
       "             dtype=object),\n",
       " 'param_max_features': masked_array(data=['sqrt', 'sqrt', 'sqrt', 'log2', 'log2', 'log2', 'sqrt',\n",
       "                    'sqrt', 'sqrt', 'log2', 'log2', 'log2', 'sqrt', 'sqrt',\n",
       "                    'sqrt', 'log2', 'log2', 'log2'],\n",
       "              mask=[False, False, False, False, False, False, False, False,\n",
       "                    False, False, False, False, False, False, False, False,\n",
       "                    False, False],\n",
       "        fill_value='?',\n",
       "             dtype=object),\n",
       " 'param_n_estimators': masked_array(data=[10, 50, 100, 10, 50, 100, 10, 50, 100, 10, 50, 100, 10,\n",
       "                    50, 100, 10, 50, 100],\n",
       "              mask=[False, False, False, False, False, False, False, False,\n",
       "                    False, False, False, False, False, False, False, False,\n",
       "                    False, False],\n",
       "        fill_value='?',\n",
       "             dtype=object),\n",
       " 'params': [{'criterion': 'gini', 'max_features': 'sqrt', 'n_estimators': 10},\n",
       "  {'criterion': 'gini', 'max_features': 'sqrt', 'n_estimators': 50},\n",
       "  {'criterion': 'gini', 'max_features': 'sqrt', 'n_estimators': 100},\n",
       "  {'criterion': 'gini', 'max_features': 'log2', 'n_estimators': 10},\n",
       "  {'criterion': 'gini', 'max_features': 'log2', 'n_estimators': 50},\n",
       "  {'criterion': 'gini', 'max_features': 'log2', 'n_estimators': 100},\n",
       "  {'criterion': 'entropy', 'max_features': 'sqrt', 'n_estimators': 10},\n",
       "  {'criterion': 'entropy', 'max_features': 'sqrt', 'n_estimators': 50},\n",
       "  {'criterion': 'entropy', 'max_features': 'sqrt', 'n_estimators': 100},\n",
       "  {'criterion': 'entropy', 'max_features': 'log2', 'n_estimators': 10},\n",
       "  {'criterion': 'entropy', 'max_features': 'log2', 'n_estimators': 50},\n",
       "  {'criterion': 'entropy', 'max_features': 'log2', 'n_estimators': 100},\n",
       "  {'criterion': 'log_loss', 'max_features': 'sqrt', 'n_estimators': 10},\n",
       "  {'criterion': 'log_loss', 'max_features': 'sqrt', 'n_estimators': 50},\n",
       "  {'criterion': 'log_loss', 'max_features': 'sqrt', 'n_estimators': 100},\n",
       "  {'criterion': 'log_loss', 'max_features': 'log2', 'n_estimators': 10},\n",
       "  {'criterion': 'log_loss', 'max_features': 'log2', 'n_estimators': 50},\n",
       "  {'criterion': 'log_loss', 'max_features': 'log2', 'n_estimators': 100}],\n",
       " 'split0_test_score': array([0.75      , 0.82352941, 0.83333333, 0.76470588, 0.85714286,\n",
       "        0.83333333, 0.6875    , 0.85714286, 0.82352941, 0.78787879,\n",
       "        0.8       , 0.82352941, 0.75      , 0.82352941, 0.85714286,\n",
       "        0.8       , 0.83333333, 0.82352941]),\n",
       " 'split1_test_score': array([0.78947368, 0.84210526, 0.78947368, 0.82051282, 0.85      ,\n",
       "        0.84210526, 0.70588235, 0.77777778, 0.82051282, 0.74285714,\n",
       "        0.78947368, 0.81081081, 0.82051282, 0.84210526, 0.81081081,\n",
       "        0.82051282, 0.81081081, 0.82051282]),\n",
       " 'split2_test_score': array([0.7804878 , 0.8372093 , 0.8372093 , 0.80952381, 0.8372093 ,\n",
       "        0.8372093 , 0.7804878 , 0.8372093 , 0.8372093 , 0.8       ,\n",
       "        0.81818182, 0.8372093 , 0.80952381, 0.8372093 , 0.8372093 ,\n",
       "        0.80952381, 0.80952381, 0.8372093 ]),\n",
       " 'split3_test_score': array([0.74285714, 0.9       , 0.9       , 0.9       , 0.84210526,\n",
       "        0.9       , 0.84210526, 0.9       , 0.92682927, 0.81081081,\n",
       "        0.84210526, 0.87179487, 0.92307692, 0.87804878, 0.87179487,\n",
       "        0.84210526, 0.84210526, 0.92682927]),\n",
       " 'split4_test_score': array([0.88888889, 0.91891892, 0.91891892, 0.84848485, 0.94444444,\n",
       "        0.91891892, 0.85714286, 0.88888889, 0.94444444, 0.94444444,\n",
       "        0.88235294, 0.94736842, 0.82352941, 0.94444444, 0.91891892,\n",
       "        0.91428571, 0.91428571, 0.94444444]),\n",
       " 'mean_test_score': array([0.7903415 , 0.86435258, 0.85578705, 0.82864547, 0.86618037,\n",
       "        0.86631336, 0.77462366, 0.85220377, 0.87050505, 0.81719824,\n",
       "        0.82642274, 0.85814256, 0.82532859, 0.86506744, 0.85917535,\n",
       "        0.83728552, 0.84201179, 0.87050505]),\n",
       " 'std_test_score': array([0.05232903, 0.03780597, 0.04730155, 0.0447328 , 0.03971821,\n",
       "        0.03584102, 0.06886722, 0.04340215, 0.05376615, 0.06769698,\n",
       "        0.03318263, 0.04903918, 0.05568726, 0.04358433, 0.03620584,\n",
       "        0.0409744 , 0.03828267, 0.05376615]),\n",
       " 'rank_test_score': array([17,  6,  9, 13,  4,  3, 18, 10,  1, 16, 14,  8, 15,  5,  7, 12, 11,\n",
       "         1])}"
      ]
     },
     "execution_count": 34,
     "metadata": {},
     "output_type": "execute_result"
    }
   ],
   "source": [
    "grid.cv_results_ "
   ]
  },
  {
   "cell_type": "code",
   "execution_count": 21,
   "id": "b0c4bafb",
   "metadata": {},
   "outputs": [
    {
     "name": "stdout",
     "output_type": "stream",
     "text": [
      "The value for best parameter:  {'criterion': 'entropy', 'max_features': 'sqrt', 'n_estimators': 100}\n"
     ]
    }
   ],
   "source": [
    "classifier = grid.cv_results_ \n",
    "classifier\n",
    "print('The value for best parameter: ',format(grid.best_params_))"
   ]
  },
  {
   "cell_type": "code",
   "execution_count": 22,
   "id": "4c189842",
   "metadata": {},
   "outputs": [
    {
     "data": {
      "text/html": [
       "<div>\n",
       "<style scoped>\n",
       "    .dataframe tbody tr th:only-of-type {\n",
       "        vertical-align: middle;\n",
       "    }\n",
       "\n",
       "    .dataframe tbody tr th {\n",
       "        vertical-align: top;\n",
       "    }\n",
       "\n",
       "    .dataframe thead th {\n",
       "        text-align: right;\n",
       "    }\n",
       "</style>\n",
       "<table border=\"1\" class=\"dataframe\">\n",
       "  <thead>\n",
       "    <tr style=\"text-align: right;\">\n",
       "      <th></th>\n",
       "      <th>mean_fit_time</th>\n",
       "      <th>std_fit_time</th>\n",
       "      <th>mean_score_time</th>\n",
       "      <th>std_score_time</th>\n",
       "      <th>param_criterion</th>\n",
       "      <th>param_max_features</th>\n",
       "      <th>param_n_estimators</th>\n",
       "      <th>params</th>\n",
       "      <th>split0_test_score</th>\n",
       "      <th>split1_test_score</th>\n",
       "      <th>split2_test_score</th>\n",
       "      <th>split3_test_score</th>\n",
       "      <th>split4_test_score</th>\n",
       "      <th>mean_test_score</th>\n",
       "      <th>std_test_score</th>\n",
       "      <th>rank_test_score</th>\n",
       "    </tr>\n",
       "  </thead>\n",
       "  <tbody>\n",
       "    <tr>\n",
       "      <th>0</th>\n",
       "      <td>0.102716</td>\n",
       "      <td>0.011819</td>\n",
       "      <td>0.030577</td>\n",
       "      <td>0.007082</td>\n",
       "      <td>gini</td>\n",
       "      <td>sqrt</td>\n",
       "      <td>10</td>\n",
       "      <td>{'criterion': 'gini', 'max_features': 'sqrt', ...</td>\n",
       "      <td>0.750000</td>\n",
       "      <td>0.789474</td>\n",
       "      <td>0.780488</td>\n",
       "      <td>0.742857</td>\n",
       "      <td>0.888889</td>\n",
       "      <td>0.790342</td>\n",
       "      <td>0.052329</td>\n",
       "      <td>17</td>\n",
       "    </tr>\n",
       "    <tr>\n",
       "      <th>1</th>\n",
       "      <td>0.333609</td>\n",
       "      <td>0.017283</td>\n",
       "      <td>0.044374</td>\n",
       "      <td>0.007263</td>\n",
       "      <td>gini</td>\n",
       "      <td>sqrt</td>\n",
       "      <td>50</td>\n",
       "      <td>{'criterion': 'gini', 'max_features': 'sqrt', ...</td>\n",
       "      <td>0.823529</td>\n",
       "      <td>0.842105</td>\n",
       "      <td>0.837209</td>\n",
       "      <td>0.900000</td>\n",
       "      <td>0.918919</td>\n",
       "      <td>0.864353</td>\n",
       "      <td>0.037806</td>\n",
       "      <td>6</td>\n",
       "    </tr>\n",
       "    <tr>\n",
       "      <th>2</th>\n",
       "      <td>0.600142</td>\n",
       "      <td>0.028607</td>\n",
       "      <td>0.056942</td>\n",
       "      <td>0.007212</td>\n",
       "      <td>gini</td>\n",
       "      <td>sqrt</td>\n",
       "      <td>100</td>\n",
       "      <td>{'criterion': 'gini', 'max_features': 'sqrt', ...</td>\n",
       "      <td>0.833333</td>\n",
       "      <td>0.789474</td>\n",
       "      <td>0.837209</td>\n",
       "      <td>0.900000</td>\n",
       "      <td>0.918919</td>\n",
       "      <td>0.855787</td>\n",
       "      <td>0.047302</td>\n",
       "      <td>9</td>\n",
       "    </tr>\n",
       "    <tr>\n",
       "      <th>3</th>\n",
       "      <td>0.067070</td>\n",
       "      <td>0.007925</td>\n",
       "      <td>0.021049</td>\n",
       "      <td>0.005459</td>\n",
       "      <td>gini</td>\n",
       "      <td>log2</td>\n",
       "      <td>10</td>\n",
       "      <td>{'criterion': 'gini', 'max_features': 'log2', ...</td>\n",
       "      <td>0.764706</td>\n",
       "      <td>0.820513</td>\n",
       "      <td>0.809524</td>\n",
       "      <td>0.900000</td>\n",
       "      <td>0.848485</td>\n",
       "      <td>0.828645</td>\n",
       "      <td>0.044733</td>\n",
       "      <td>13</td>\n",
       "    </tr>\n",
       "    <tr>\n",
       "      <th>4</th>\n",
       "      <td>0.300269</td>\n",
       "      <td>0.015202</td>\n",
       "      <td>0.046516</td>\n",
       "      <td>0.012609</td>\n",
       "      <td>gini</td>\n",
       "      <td>log2</td>\n",
       "      <td>50</td>\n",
       "      <td>{'criterion': 'gini', 'max_features': 'log2', ...</td>\n",
       "      <td>0.857143</td>\n",
       "      <td>0.850000</td>\n",
       "      <td>0.837209</td>\n",
       "      <td>0.842105</td>\n",
       "      <td>0.944444</td>\n",
       "      <td>0.866180</td>\n",
       "      <td>0.039718</td>\n",
       "      <td>4</td>\n",
       "    </tr>\n",
       "    <tr>\n",
       "      <th>5</th>\n",
       "      <td>0.603834</td>\n",
       "      <td>0.022061</td>\n",
       "      <td>0.053799</td>\n",
       "      <td>0.009516</td>\n",
       "      <td>gini</td>\n",
       "      <td>log2</td>\n",
       "      <td>100</td>\n",
       "      <td>{'criterion': 'gini', 'max_features': 'log2', ...</td>\n",
       "      <td>0.833333</td>\n",
       "      <td>0.842105</td>\n",
       "      <td>0.837209</td>\n",
       "      <td>0.900000</td>\n",
       "      <td>0.918919</td>\n",
       "      <td>0.866313</td>\n",
       "      <td>0.035841</td>\n",
       "      <td>3</td>\n",
       "    </tr>\n",
       "    <tr>\n",
       "      <th>6</th>\n",
       "      <td>0.063475</td>\n",
       "      <td>0.004442</td>\n",
       "      <td>0.022109</td>\n",
       "      <td>0.007848</td>\n",
       "      <td>entropy</td>\n",
       "      <td>sqrt</td>\n",
       "      <td>10</td>\n",
       "      <td>{'criterion': 'entropy', 'max_features': 'sqrt...</td>\n",
       "      <td>0.687500</td>\n",
       "      <td>0.705882</td>\n",
       "      <td>0.780488</td>\n",
       "      <td>0.842105</td>\n",
       "      <td>0.857143</td>\n",
       "      <td>0.774624</td>\n",
       "      <td>0.068867</td>\n",
       "      <td>18</td>\n",
       "    </tr>\n",
       "    <tr>\n",
       "      <th>7</th>\n",
       "      <td>0.297876</td>\n",
       "      <td>0.027157</td>\n",
       "      <td>0.048652</td>\n",
       "      <td>0.013079</td>\n",
       "      <td>entropy</td>\n",
       "      <td>sqrt</td>\n",
       "      <td>50</td>\n",
       "      <td>{'criterion': 'entropy', 'max_features': 'sqrt...</td>\n",
       "      <td>0.857143</td>\n",
       "      <td>0.777778</td>\n",
       "      <td>0.837209</td>\n",
       "      <td>0.900000</td>\n",
       "      <td>0.888889</td>\n",
       "      <td>0.852204</td>\n",
       "      <td>0.043402</td>\n",
       "      <td>10</td>\n",
       "    </tr>\n",
       "    <tr>\n",
       "      <th>8</th>\n",
       "      <td>0.595834</td>\n",
       "      <td>0.014122</td>\n",
       "      <td>0.066791</td>\n",
       "      <td>0.014014</td>\n",
       "      <td>entropy</td>\n",
       "      <td>sqrt</td>\n",
       "      <td>100</td>\n",
       "      <td>{'criterion': 'entropy', 'max_features': 'sqrt...</td>\n",
       "      <td>0.823529</td>\n",
       "      <td>0.820513</td>\n",
       "      <td>0.837209</td>\n",
       "      <td>0.926829</td>\n",
       "      <td>0.944444</td>\n",
       "      <td>0.870505</td>\n",
       "      <td>0.053766</td>\n",
       "      <td>1</td>\n",
       "    </tr>\n",
       "    <tr>\n",
       "      <th>9</th>\n",
       "      <td>0.064706</td>\n",
       "      <td>0.008400</td>\n",
       "      <td>0.024791</td>\n",
       "      <td>0.008384</td>\n",
       "      <td>entropy</td>\n",
       "      <td>log2</td>\n",
       "      <td>10</td>\n",
       "      <td>{'criterion': 'entropy', 'max_features': 'log2...</td>\n",
       "      <td>0.787879</td>\n",
       "      <td>0.742857</td>\n",
       "      <td>0.800000</td>\n",
       "      <td>0.810811</td>\n",
       "      <td>0.944444</td>\n",
       "      <td>0.817198</td>\n",
       "      <td>0.067697</td>\n",
       "      <td>16</td>\n",
       "    </tr>\n",
       "    <tr>\n",
       "      <th>10</th>\n",
       "      <td>0.322152</td>\n",
       "      <td>0.017772</td>\n",
       "      <td>0.041341</td>\n",
       "      <td>0.013600</td>\n",
       "      <td>entropy</td>\n",
       "      <td>log2</td>\n",
       "      <td>50</td>\n",
       "      <td>{'criterion': 'entropy', 'max_features': 'log2...</td>\n",
       "      <td>0.800000</td>\n",
       "      <td>0.789474</td>\n",
       "      <td>0.818182</td>\n",
       "      <td>0.842105</td>\n",
       "      <td>0.882353</td>\n",
       "      <td>0.826423</td>\n",
       "      <td>0.033183</td>\n",
       "      <td>14</td>\n",
       "    </tr>\n",
       "    <tr>\n",
       "      <th>11</th>\n",
       "      <td>0.596921</td>\n",
       "      <td>0.014506</td>\n",
       "      <td>0.056174</td>\n",
       "      <td>0.007338</td>\n",
       "      <td>entropy</td>\n",
       "      <td>log2</td>\n",
       "      <td>100</td>\n",
       "      <td>{'criterion': 'entropy', 'max_features': 'log2...</td>\n",
       "      <td>0.823529</td>\n",
       "      <td>0.810811</td>\n",
       "      <td>0.837209</td>\n",
       "      <td>0.871795</td>\n",
       "      <td>0.947368</td>\n",
       "      <td>0.858143</td>\n",
       "      <td>0.049039</td>\n",
       "      <td>8</td>\n",
       "    </tr>\n",
       "    <tr>\n",
       "      <th>12</th>\n",
       "      <td>0.066068</td>\n",
       "      <td>0.004788</td>\n",
       "      <td>0.025342</td>\n",
       "      <td>0.003444</td>\n",
       "      <td>log_loss</td>\n",
       "      <td>sqrt</td>\n",
       "      <td>10</td>\n",
       "      <td>{'criterion': 'log_loss', 'max_features': 'sqr...</td>\n",
       "      <td>0.750000</td>\n",
       "      <td>0.820513</td>\n",
       "      <td>0.809524</td>\n",
       "      <td>0.923077</td>\n",
       "      <td>0.823529</td>\n",
       "      <td>0.825329</td>\n",
       "      <td>0.055687</td>\n",
       "      <td>15</td>\n",
       "    </tr>\n",
       "    <tr>\n",
       "      <th>13</th>\n",
       "      <td>0.300346</td>\n",
       "      <td>0.012326</td>\n",
       "      <td>0.040147</td>\n",
       "      <td>0.008395</td>\n",
       "      <td>log_loss</td>\n",
       "      <td>sqrt</td>\n",
       "      <td>50</td>\n",
       "      <td>{'criterion': 'log_loss', 'max_features': 'sqr...</td>\n",
       "      <td>0.823529</td>\n",
       "      <td>0.842105</td>\n",
       "      <td>0.837209</td>\n",
       "      <td>0.878049</td>\n",
       "      <td>0.944444</td>\n",
       "      <td>0.865067</td>\n",
       "      <td>0.043584</td>\n",
       "      <td>5</td>\n",
       "    </tr>\n",
       "    <tr>\n",
       "      <th>14</th>\n",
       "      <td>0.630723</td>\n",
       "      <td>0.025135</td>\n",
       "      <td>0.057070</td>\n",
       "      <td>0.003101</td>\n",
       "      <td>log_loss</td>\n",
       "      <td>sqrt</td>\n",
       "      <td>100</td>\n",
       "      <td>{'criterion': 'log_loss', 'max_features': 'sqr...</td>\n",
       "      <td>0.857143</td>\n",
       "      <td>0.810811</td>\n",
       "      <td>0.837209</td>\n",
       "      <td>0.871795</td>\n",
       "      <td>0.918919</td>\n",
       "      <td>0.859175</td>\n",
       "      <td>0.036206</td>\n",
       "      <td>7</td>\n",
       "    </tr>\n",
       "    <tr>\n",
       "      <th>15</th>\n",
       "      <td>0.075047</td>\n",
       "      <td>0.003838</td>\n",
       "      <td>0.027863</td>\n",
       "      <td>0.007428</td>\n",
       "      <td>log_loss</td>\n",
       "      <td>log2</td>\n",
       "      <td>10</td>\n",
       "      <td>{'criterion': 'log_loss', 'max_features': 'log...</td>\n",
       "      <td>0.800000</td>\n",
       "      <td>0.820513</td>\n",
       "      <td>0.809524</td>\n",
       "      <td>0.842105</td>\n",
       "      <td>0.914286</td>\n",
       "      <td>0.837286</td>\n",
       "      <td>0.040974</td>\n",
       "      <td>12</td>\n",
       "    </tr>\n",
       "    <tr>\n",
       "      <th>16</th>\n",
       "      <td>0.275882</td>\n",
       "      <td>0.014531</td>\n",
       "      <td>0.039764</td>\n",
       "      <td>0.003635</td>\n",
       "      <td>log_loss</td>\n",
       "      <td>log2</td>\n",
       "      <td>50</td>\n",
       "      <td>{'criterion': 'log_loss', 'max_features': 'log...</td>\n",
       "      <td>0.833333</td>\n",
       "      <td>0.810811</td>\n",
       "      <td>0.809524</td>\n",
       "      <td>0.842105</td>\n",
       "      <td>0.914286</td>\n",
       "      <td>0.842012</td>\n",
       "      <td>0.038283</td>\n",
       "      <td>11</td>\n",
       "    </tr>\n",
       "    <tr>\n",
       "      <th>17</th>\n",
       "      <td>0.460960</td>\n",
       "      <td>0.015214</td>\n",
       "      <td>0.030967</td>\n",
       "      <td>0.015611</td>\n",
       "      <td>log_loss</td>\n",
       "      <td>log2</td>\n",
       "      <td>100</td>\n",
       "      <td>{'criterion': 'log_loss', 'max_features': 'log...</td>\n",
       "      <td>0.823529</td>\n",
       "      <td>0.820513</td>\n",
       "      <td>0.837209</td>\n",
       "      <td>0.926829</td>\n",
       "      <td>0.944444</td>\n",
       "      <td>0.870505</td>\n",
       "      <td>0.053766</td>\n",
       "      <td>1</td>\n",
       "    </tr>\n",
       "  </tbody>\n",
       "</table>\n",
       "</div>"
      ],
      "text/plain": [
       "    mean_fit_time  std_fit_time  mean_score_time  std_score_time  \\\n",
       "0        0.102716      0.011819         0.030577        0.007082   \n",
       "1        0.333609      0.017283         0.044374        0.007263   \n",
       "2        0.600142      0.028607         0.056942        0.007212   \n",
       "3        0.067070      0.007925         0.021049        0.005459   \n",
       "4        0.300269      0.015202         0.046516        0.012609   \n",
       "5        0.603834      0.022061         0.053799        0.009516   \n",
       "6        0.063475      0.004442         0.022109        0.007848   \n",
       "7        0.297876      0.027157         0.048652        0.013079   \n",
       "8        0.595834      0.014122         0.066791        0.014014   \n",
       "9        0.064706      0.008400         0.024791        0.008384   \n",
       "10       0.322152      0.017772         0.041341        0.013600   \n",
       "11       0.596921      0.014506         0.056174        0.007338   \n",
       "12       0.066068      0.004788         0.025342        0.003444   \n",
       "13       0.300346      0.012326         0.040147        0.008395   \n",
       "14       0.630723      0.025135         0.057070        0.003101   \n",
       "15       0.075047      0.003838         0.027863        0.007428   \n",
       "16       0.275882      0.014531         0.039764        0.003635   \n",
       "17       0.460960      0.015214         0.030967        0.015611   \n",
       "\n",
       "   param_criterion param_max_features param_n_estimators  \\\n",
       "0             gini               sqrt                 10   \n",
       "1             gini               sqrt                 50   \n",
       "2             gini               sqrt                100   \n",
       "3             gini               log2                 10   \n",
       "4             gini               log2                 50   \n",
       "5             gini               log2                100   \n",
       "6          entropy               sqrt                 10   \n",
       "7          entropy               sqrt                 50   \n",
       "8          entropy               sqrt                100   \n",
       "9          entropy               log2                 10   \n",
       "10         entropy               log2                 50   \n",
       "11         entropy               log2                100   \n",
       "12        log_loss               sqrt                 10   \n",
       "13        log_loss               sqrt                 50   \n",
       "14        log_loss               sqrt                100   \n",
       "15        log_loss               log2                 10   \n",
       "16        log_loss               log2                 50   \n",
       "17        log_loss               log2                100   \n",
       "\n",
       "                                               params  split0_test_score  \\\n",
       "0   {'criterion': 'gini', 'max_features': 'sqrt', ...           0.750000   \n",
       "1   {'criterion': 'gini', 'max_features': 'sqrt', ...           0.823529   \n",
       "2   {'criterion': 'gini', 'max_features': 'sqrt', ...           0.833333   \n",
       "3   {'criterion': 'gini', 'max_features': 'log2', ...           0.764706   \n",
       "4   {'criterion': 'gini', 'max_features': 'log2', ...           0.857143   \n",
       "5   {'criterion': 'gini', 'max_features': 'log2', ...           0.833333   \n",
       "6   {'criterion': 'entropy', 'max_features': 'sqrt...           0.687500   \n",
       "7   {'criterion': 'entropy', 'max_features': 'sqrt...           0.857143   \n",
       "8   {'criterion': 'entropy', 'max_features': 'sqrt...           0.823529   \n",
       "9   {'criterion': 'entropy', 'max_features': 'log2...           0.787879   \n",
       "10  {'criterion': 'entropy', 'max_features': 'log2...           0.800000   \n",
       "11  {'criterion': 'entropy', 'max_features': 'log2...           0.823529   \n",
       "12  {'criterion': 'log_loss', 'max_features': 'sqr...           0.750000   \n",
       "13  {'criterion': 'log_loss', 'max_features': 'sqr...           0.823529   \n",
       "14  {'criterion': 'log_loss', 'max_features': 'sqr...           0.857143   \n",
       "15  {'criterion': 'log_loss', 'max_features': 'log...           0.800000   \n",
       "16  {'criterion': 'log_loss', 'max_features': 'log...           0.833333   \n",
       "17  {'criterion': 'log_loss', 'max_features': 'log...           0.823529   \n",
       "\n",
       "    split1_test_score  split2_test_score  split3_test_score  \\\n",
       "0            0.789474           0.780488           0.742857   \n",
       "1            0.842105           0.837209           0.900000   \n",
       "2            0.789474           0.837209           0.900000   \n",
       "3            0.820513           0.809524           0.900000   \n",
       "4            0.850000           0.837209           0.842105   \n",
       "5            0.842105           0.837209           0.900000   \n",
       "6            0.705882           0.780488           0.842105   \n",
       "7            0.777778           0.837209           0.900000   \n",
       "8            0.820513           0.837209           0.926829   \n",
       "9            0.742857           0.800000           0.810811   \n",
       "10           0.789474           0.818182           0.842105   \n",
       "11           0.810811           0.837209           0.871795   \n",
       "12           0.820513           0.809524           0.923077   \n",
       "13           0.842105           0.837209           0.878049   \n",
       "14           0.810811           0.837209           0.871795   \n",
       "15           0.820513           0.809524           0.842105   \n",
       "16           0.810811           0.809524           0.842105   \n",
       "17           0.820513           0.837209           0.926829   \n",
       "\n",
       "    split4_test_score  mean_test_score  std_test_score  rank_test_score  \n",
       "0            0.888889         0.790342        0.052329               17  \n",
       "1            0.918919         0.864353        0.037806                6  \n",
       "2            0.918919         0.855787        0.047302                9  \n",
       "3            0.848485         0.828645        0.044733               13  \n",
       "4            0.944444         0.866180        0.039718                4  \n",
       "5            0.918919         0.866313        0.035841                3  \n",
       "6            0.857143         0.774624        0.068867               18  \n",
       "7            0.888889         0.852204        0.043402               10  \n",
       "8            0.944444         0.870505        0.053766                1  \n",
       "9            0.944444         0.817198        0.067697               16  \n",
       "10           0.882353         0.826423        0.033183               14  \n",
       "11           0.947368         0.858143        0.049039                8  \n",
       "12           0.823529         0.825329        0.055687               15  \n",
       "13           0.944444         0.865067        0.043584                5  \n",
       "14           0.918919         0.859175        0.036206                7  \n",
       "15           0.914286         0.837286        0.040974               12  \n",
       "16           0.914286         0.842012        0.038283               11  \n",
       "17           0.944444         0.870505        0.053766                1  "
      ]
     },
     "execution_count": 22,
     "metadata": {},
     "output_type": "execute_result"
    }
   ],
   "source": [
    "table = pd.DataFrame.from_dict(classifier)\n",
    "table"
   ]
  },
  {
   "cell_type": "code",
   "execution_count": 23,
   "id": "eaea8d13",
   "metadata": {},
   "outputs": [
    {
     "data": {
      "text/plain": [
       "array([0, 0, 0, 0, 0, 0, 0, 1, 0, 1, 0, 0, 0, 0, 0, 0, 0, 0, 1, 0, 0, 1,\n",
       "       0, 1, 0, 1, 0, 0, 0, 0, 0, 0, 1, 0, 0, 0, 0, 0, 0, 1, 0, 0, 0, 0,\n",
       "       1, 0, 0, 1, 0, 1, 1, 0, 0, 1, 1, 1, 0, 0, 1, 0, 0, 0, 0, 1, 0, 1,\n",
       "       0, 0, 0, 0, 1, 0, 0, 1, 0, 0, 0, 0, 1, 1, 1, 1, 0, 0, 1, 0, 0, 1,\n",
       "       1, 0, 0, 1, 0, 0, 0, 1, 0, 1, 1, 1, 1, 1, 0, 1, 1, 1, 0, 0, 0, 0,\n",
       "       0, 0, 0, 1, 1, 1, 1, 0, 1, 1, 0, 1, 1, 1, 0, 0, 1, 1, 1, 1, 0, 1,\n",
       "       0, 1])"
      ]
     },
     "execution_count": 23,
     "metadata": {},
     "output_type": "execute_result"
    }
   ],
   "source": [
    "grid_pred = grid.predict(X_test)\n",
    "grid_pred\n"
   ]
  },
  {
   "cell_type": "code",
   "execution_count": 24,
   "id": "f6e3401f",
   "metadata": {},
   "outputs": [
    {
     "data": {
      "text/plain": [
       "array([[78,  7],\n",
       "       [ 4, 45]], dtype=int64)"
      ]
     },
     "execution_count": 24,
     "metadata": {},
     "output_type": "execute_result"
    }
   ],
   "source": [
    "#Evalution using confusion matrix\n",
    "from sklearn.metrics import confusion_matrix\n",
    "con_mat = confusion_matrix(Y_test,grid_pred)\n",
    "con_mat"
   ]
  },
  {
   "cell_type": "code",
   "execution_count": 25,
   "id": "44a90f0e",
   "metadata": {},
   "outputs": [
    {
     "name": "stdout",
     "output_type": "stream",
     "text": [
      "              precision    recall  f1-score   support\n",
      "\n",
      "           0       0.95      0.92      0.93        85\n",
      "           1       0.87      0.92      0.89        49\n",
      "\n",
      "    accuracy                           0.92       134\n",
      "   macro avg       0.91      0.92      0.91       134\n",
      "weighted avg       0.92      0.92      0.92       134\n",
      "\n"
     ]
    }
   ],
   "source": [
    "#To create a classification report\n",
    "from sklearn.metrics import classification_report\n",
    "class_report = classification_report(Y_test,grid_pred)\n",
    "print(class_report)"
   ]
  },
  {
   "cell_type": "code",
   "execution_count": 26,
   "id": "2aefa43e",
   "metadata": {},
   "outputs": [
    {
     "name": "stdout",
     "output_type": "stream",
     "text": [
      "The f1_macro value for best parameter {'criterion': 'entropy', 'max_features': 'sqrt', 'n_estimators': 100}: 0.9183922682195829\n"
     ]
    }
   ],
   "source": [
    "from sklearn.metrics import f1_score\n",
    "f1_macro=f1_score(Y_test,grid_pred,average='weighted')\n",
    "print(\"The f1_macro value for best parameter {}:\".format(grid.best_params_),f1_macro)"
   ]
  },
  {
   "cell_type": "code",
   "execution_count": 27,
   "id": "834c1cc1",
   "metadata": {},
   "outputs": [
    {
     "data": {
      "text/plain": [
       "0.966266506602641"
      ]
     },
     "execution_count": 27,
     "metadata": {},
     "output_type": "execute_result"
    }
   ],
   "source": [
    "from sklearn.metrics import roc_auc_score #Receiver Operating Characteristic Curve, Area Under the curve\n",
    "roc_auc_score(Y_test,grid.predict_proba(X_test)[:,1]) # to get a greater probability value, [:,1][R,C]"
   ]
  },
  {
   "cell_type": "code",
   "execution_count": 28,
   "id": "78078304",
   "metadata": {},
   "outputs": [
    {
     "data": {
      "text/plain": [
       "array([0.06, 0.01, 0.02, 0.03, 0.01, 0.  , 0.01, 0.92, 0.  , 0.6 , 0.  ,\n",
       "       0.  , 0.07, 0.31, 0.  , 0.45, 0.19, 0.01, 0.86, 0.  , 0.01, 0.88,\n",
       "       0.  , 1.  , 0.03, 0.88, 0.05, 0.01, 0.  , 0.1 , 0.12, 0.13, 0.61,\n",
       "       0.01, 0.  , 0.  , 0.  , 0.01, 0.02, 0.93, 0.05, 0.  , 0.03, 0.  ,\n",
       "       0.69, 0.01, 0.13, 0.93, 0.  , 0.78, 0.95, 0.03, 0.12, 0.8 , 0.87,\n",
       "       0.89, 0.  , 0.14, 0.68, 0.02, 0.01, 0.48, 0.  , 0.91, 0.03, 0.91,\n",
       "       0.08, 0.  , 0.01, 0.23, 0.97, 0.05, 0.01, 0.77, 0.03, 0.  , 0.04,\n",
       "       0.02, 1.  , 0.65, 0.85, 0.85, 0.  , 0.02, 0.96, 0.07, 0.17, 0.85,\n",
       "       0.56, 0.  , 0.01, 0.92, 0.01, 0.02, 0.  , 0.61, 0.02, 0.65, 0.8 ,\n",
       "       0.87, 0.56, 0.94, 0.  , 0.83, 0.94, 0.95, 0.  , 0.  , 0.01, 0.  ,\n",
       "       0.  , 0.  , 0.02, 0.66, 0.71, 0.57, 0.57, 0.07, 0.53, 0.61, 0.  ,\n",
       "       0.94, 0.73, 0.68, 0.03, 0.  , 0.53, 0.6 , 0.63, 0.78, 0.  , 0.67,\n",
       "       0.  , 0.91])"
      ]
     },
     "execution_count": 28,
     "metadata": {},
     "output_type": "execute_result"
    }
   ],
   "source": [
    "grid.predict_proba(X_test)[:,1]"
   ]
  },
  {
   "cell_type": "code",
   "execution_count": 29,
   "id": "62657bf9",
   "metadata": {},
   "outputs": [
    {
     "data": {
      "text/plain": [
       "Index(['User ID', 'Age', 'EstimatedSalary', 'Purchased', 'Gender_Male'], dtype='object')"
      ]
     },
     "execution_count": 29,
     "metadata": {},
     "output_type": "execute_result"
    }
   ],
   "source": [
    "dataset.columns"
   ]
  },
  {
   "cell_type": "code",
   "execution_count": 30,
   "id": "d3f04714",
   "metadata": {},
   "outputs": [
    {
     "name": "stdout",
     "output_type": "stream",
     "text": [
      "UserId: 1\n",
      "Age: 60\n",
      "Salary: 89000\n",
      "Gender: 1\n"
     ]
    }
   ],
   "source": [
    "id_input = int(input(\"UserId: \"))\n",
    "age_input = int(input(\"Age: \"))\n",
    "Salary_input = int(input(\"Salary: \"))\n",
    "Gender_input = int(input(\"Gender: \"))"
   ]
  },
  {
   "cell_type": "code",
   "execution_count": 33,
   "id": "8a6602bd",
   "metadata": {},
   "outputs": [
    {
     "name": "stdout",
     "output_type": "stream",
     "text": [
      "Future Prediction =[1]\n"
     ]
    },
    {
     "name": "stderr",
     "output_type": "stream",
     "text": [
      "C:\\Anaconda3\\Lib\\site-packages\\sklearn\\base.py:439: UserWarning: X does not have valid feature names, but RandomForestClassifier was fitted with feature names\n",
      "  warnings.warn(\n"
     ]
    }
   ],
   "source": [
    "Future_pred = grid.predict([[id_input,age_input,Salary_input,Gender_input]])\n",
    "print(\"Future Prediction ={}\".format(Future_pred))"
   ]
  },
  {
   "cell_type": "code",
   "execution_count": 35,
   "id": "3360c29f",
   "metadata": {},
   "outputs": [],
   "source": [
    "# Saving the model\n",
    "import pickle\n",
    "filename= \"RandomForest_SN.sav\""
   ]
  },
  {
   "cell_type": "code",
   "execution_count": 40,
   "id": "d9dc1692",
   "metadata": {},
   "outputs": [],
   "source": [
    "pickle.dump(grid,open(filename,'wb'))"
   ]
  },
  {
   "cell_type": "code",
   "execution_count": 41,
   "id": "5abc16fc",
   "metadata": {},
   "outputs": [],
   "source": [
    "load_model=pickle.load(open(\"RandomForest_SN.sav\",'rb'))"
   ]
  },
  {
   "cell_type": "code",
   "execution_count": 42,
   "id": "0c23db94",
   "metadata": {},
   "outputs": [
    {
     "name": "stderr",
     "output_type": "stream",
     "text": [
      "C:\\Anaconda3\\Lib\\site-packages\\sklearn\\base.py:439: UserWarning: X does not have valid feature names, but RandomForestClassifier was fitted with feature names\n",
      "  warnings.warn(\n"
     ]
    },
    {
     "data": {
      "text/plain": [
       "array([1])"
      ]
     },
     "execution_count": 42,
     "metadata": {},
     "output_type": "execute_result"
    }
   ],
   "source": [
    "result=load_model.predict([[12,67,987000,0]])\n",
    "result\n"
   ]
  },
  {
   "cell_type": "code",
   "execution_count": null,
   "id": "27cedd5f",
   "metadata": {},
   "outputs": [],
   "source": []
  }
 ],
 "metadata": {
  "kernelspec": {
   "display_name": "Python 3 (ipykernel)",
   "language": "python",
   "name": "python3"
  },
  "language_info": {
   "codemirror_mode": {
    "name": "ipython",
    "version": 3
   },
   "file_extension": ".py",
   "mimetype": "text/x-python",
   "name": "python",
   "nbconvert_exporter": "python",
   "pygments_lexer": "ipython3",
   "version": "3.11.7"
  }
 },
 "nbformat": 4,
 "nbformat_minor": 5
}
