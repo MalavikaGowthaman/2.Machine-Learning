{
 "cells": [
  {
   "cell_type": "code",
   "execution_count": 1,
   "id": "a1a3f542",
   "metadata": {},
   "outputs": [],
   "source": [
    "# import needed library\n",
    "\n",
    "import pandas as pd\n"
   ]
  },
  {
   "cell_type": "code",
   "execution_count": 2,
   "id": "ff64c64f",
   "metadata": {},
   "outputs": [
    {
     "data": {
      "text/html": [
       "<div>\n",
       "<style scoped>\n",
       "    .dataframe tbody tr th:only-of-type {\n",
       "        vertical-align: middle;\n",
       "    }\n",
       "\n",
       "    .dataframe tbody tr th {\n",
       "        vertical-align: top;\n",
       "    }\n",
       "\n",
       "    .dataframe thead th {\n",
       "        text-align: right;\n",
       "    }\n",
       "</style>\n",
       "<table border=\"1\" class=\"dataframe\">\n",
       "  <thead>\n",
       "    <tr style=\"text-align: right;\">\n",
       "      <th></th>\n",
       "      <th>TV</th>\n",
       "      <th>Sales</th>\n",
       "    </tr>\n",
       "  </thead>\n",
       "  <tbody>\n",
       "    <tr>\n",
       "      <th>0</th>\n",
       "      <td>230.1</td>\n",
       "      <td>22.1</td>\n",
       "    </tr>\n",
       "    <tr>\n",
       "      <th>1</th>\n",
       "      <td>44.5</td>\n",
       "      <td>10.4</td>\n",
       "    </tr>\n",
       "    <tr>\n",
       "      <th>2</th>\n",
       "      <td>17.2</td>\n",
       "      <td>9.3</td>\n",
       "    </tr>\n",
       "    <tr>\n",
       "      <th>3</th>\n",
       "      <td>151.5</td>\n",
       "      <td>18.5</td>\n",
       "    </tr>\n",
       "    <tr>\n",
       "      <th>4</th>\n",
       "      <td>180.8</td>\n",
       "      <td>12.9</td>\n",
       "    </tr>\n",
       "    <tr>\n",
       "      <th>...</th>\n",
       "      <td>...</td>\n",
       "      <td>...</td>\n",
       "    </tr>\n",
       "    <tr>\n",
       "      <th>195</th>\n",
       "      <td>38.2</td>\n",
       "      <td>7.6</td>\n",
       "    </tr>\n",
       "    <tr>\n",
       "      <th>196</th>\n",
       "      <td>94.2</td>\n",
       "      <td>9.7</td>\n",
       "    </tr>\n",
       "    <tr>\n",
       "      <th>197</th>\n",
       "      <td>177.0</td>\n",
       "      <td>12.8</td>\n",
       "    </tr>\n",
       "    <tr>\n",
       "      <th>198</th>\n",
       "      <td>283.6</td>\n",
       "      <td>25.5</td>\n",
       "    </tr>\n",
       "    <tr>\n",
       "      <th>199</th>\n",
       "      <td>232.1</td>\n",
       "      <td>13.4</td>\n",
       "    </tr>\n",
       "  </tbody>\n",
       "</table>\n",
       "<p>200 rows × 2 columns</p>\n",
       "</div>"
      ],
      "text/plain": [
       "        TV  Sales\n",
       "0    230.1   22.1\n",
       "1     44.5   10.4\n",
       "2     17.2    9.3\n",
       "3    151.5   18.5\n",
       "4    180.8   12.9\n",
       "..     ...    ...\n",
       "195   38.2    7.6\n",
       "196   94.2    9.7\n",
       "197  177.0   12.8\n",
       "198  283.6   25.5\n",
       "199  232.1   13.4\n",
       "\n",
       "[200 rows x 2 columns]"
      ]
     },
     "execution_count": 2,
     "metadata": {},
     "output_type": "execute_result"
    }
   ],
   "source": [
    "# load the dataset\n",
    "dataset = pd.read_csv(\"tvmarketing.csv\")\n",
    "dataset"
   ]
  },
  {
   "cell_type": "code",
   "execution_count": 5,
   "id": "6c8f1130",
   "metadata": {},
   "outputs": [
    {
     "name": "stdout",
     "output_type": "stream",
     "text": [
      "        TV\n",
      "0    230.1\n",
      "1     44.5\n",
      "2     17.2\n",
      "3    151.5\n",
      "4    180.8\n",
      "..     ...\n",
      "195   38.2\n",
      "196   94.2\n",
      "197  177.0\n",
      "198  283.6\n",
      "199  232.1\n",
      "\n",
      "[200 rows x 1 columns]\n",
      "     Sales\n",
      "0     22.1\n",
      "1     10.4\n",
      "2      9.3\n",
      "3     18.5\n",
      "4     12.9\n",
      "..     ...\n",
      "195    7.6\n",
      "196    9.7\n",
      "197   12.8\n",
      "198   25.5\n",
      "199   13.4\n",
      "\n",
      "[200 rows x 1 columns]\n"
     ]
    }
   ],
   "source": [
    "# Here TV column --> Marketing \n",
    "# Sales --> no of sales based on marketing\n",
    "\n",
    "independent = dataset[[\"TV\"]]\n",
    "print(independent)\n",
    "\n",
    "dependent = dataset[[\"Sales\"]]\n",
    "print(dependent)"
   ]
  },
  {
   "cell_type": "code",
   "execution_count": 7,
   "id": "337a1b72",
   "metadata": {},
   "outputs": [
    {
     "data": {
      "text/plain": [
       "(        TV\n",
       " 131  265.2\n",
       " 96   197.6\n",
       " 181  218.5\n",
       " 19   147.3\n",
       " 153  171.3\n",
       " ..     ...\n",
       " 67   139.3\n",
       " 192   17.2\n",
       " 117   76.4\n",
       " 47   239.9\n",
       " 172   19.6\n",
       " \n",
       " [140 rows x 1 columns],\n",
       "         TV\n",
       " 18    69.2\n",
       " 170   50.0\n",
       " 107   90.4\n",
       " 98   289.7\n",
       " 177  170.2\n",
       " 182   56.2\n",
       " 5      8.7\n",
       " 146  240.1\n",
       " 12    23.8\n",
       " 152  197.6\n",
       " 61   261.3\n",
       " 125   87.2\n",
       " 180  156.6\n",
       " 154  187.8\n",
       " 80    76.4\n",
       " 7    120.2\n",
       " 33   265.6\n",
       " 130    0.7\n",
       " 37    74.7\n",
       " 74   213.4\n",
       " 183  287.6\n",
       " 145  140.3\n",
       " 45   175.1\n",
       " 159  131.7\n",
       " 60    53.5\n",
       " 123  123.1\n",
       " 179  165.6\n",
       " 185  205.0\n",
       " 122  224.0\n",
       " 44    25.1\n",
       " 16    67.8\n",
       " 55   198.9\n",
       " 150  280.7\n",
       " 111  241.7\n",
       " 22    13.2\n",
       " 189   18.7\n",
       " 129   59.6\n",
       " 4    180.8\n",
       " 83    68.4\n",
       " 106   25.0\n",
       " 134   36.9\n",
       " 66    31.5\n",
       " 26   142.9\n",
       " 113  209.6\n",
       " 168  215.4\n",
       " 63   102.7\n",
       " 8      8.6\n",
       " 75    16.9\n",
       " 118  125.7\n",
       " 143  104.6\n",
       " 71   109.8\n",
       " 124  229.5\n",
       " 184  253.8\n",
       " 97   184.9\n",
       " 149   44.7\n",
       " 24    62.3\n",
       " 30   292.9\n",
       " 160  172.5\n",
       " 40   202.5\n",
       " 56     7.3,\n",
       "      Sales\n",
       " 131   12.7\n",
       " 96    11.7\n",
       " 181   12.2\n",
       " 19    14.6\n",
       " 153   19.0\n",
       " ..     ...\n",
       " 67    13.4\n",
       " 192    5.9\n",
       " 117    9.4\n",
       " 47    23.2\n",
       " 172    7.6\n",
       " \n",
       " [140 rows x 1 columns],\n",
       "      Sales\n",
       " 18    11.3\n",
       " 170    8.4\n",
       " 107    8.7\n",
       " 98    25.4\n",
       " 177   11.7\n",
       " 182    8.7\n",
       " 5      7.2\n",
       " 146   13.2\n",
       " 12     9.2\n",
       " 152   16.6\n",
       " 61    24.2\n",
       " 125   10.6\n",
       " 180   10.5\n",
       " 154   15.6\n",
       " 80    11.8\n",
       " 7     13.2\n",
       " 33    17.4\n",
       " 130    1.6\n",
       " 37    14.7\n",
       " 74    17.0\n",
       " 183   26.2\n",
       " 145   10.3\n",
       " 45    14.9\n",
       " 159   12.9\n",
       " 60     8.1\n",
       " 123   15.2\n",
       " 179   12.6\n",
       " 185   22.6\n",
       " 122   11.6\n",
       " 44     8.5\n",
       " 16    12.5\n",
       " 55    23.7\n",
       " 150   16.1\n",
       " 111   21.8\n",
       " 22     5.6\n",
       " 189    6.7\n",
       " 129    9.7\n",
       " 4     12.9\n",
       " 83    13.6\n",
       " 106    7.2\n",
       " 134   10.8\n",
       " 66     9.5\n",
       " 26    15.0\n",
       " 113   15.9\n",
       " 168   17.1\n",
       " 63    14.0\n",
       " 8      4.8\n",
       " 75     8.7\n",
       " 118   15.9\n",
       " 143   10.4\n",
       " 71    12.4\n",
       " 124   19.7\n",
       " 184   17.6\n",
       " 97    15.5\n",
       " 149   10.1\n",
       " 24     9.7\n",
       " 30    21.4\n",
       " 160   14.4\n",
       " 40    16.6\n",
       " 56     5.5)"
      ]
     },
     "execution_count": 7,
     "metadata": {},
     "output_type": "execute_result"
    }
   ],
   "source": [
    "# spliting training and testing data\n",
    "\n",
    "# using sklearn can split training and  testing data\n",
    "\n",
    "from sklearn.model_selection import train_test_split\n",
    "X_train, X_test, Y_train, Y_test = train_test_split(independent, dependent, test_size = 0.30, random_state=0)\n",
    "X_train, X_test, Y_train, Y_test "
   ]
  },
  {
   "cell_type": "code",
   "execution_count": 12,
   "id": "4d5c78a9",
   "metadata": {},
   "outputs": [
    {
     "data": {
      "text/html": [
       "<style>#sk-container-id-2 {color: black;background-color: white;}#sk-container-id-2 pre{padding: 0;}#sk-container-id-2 div.sk-toggleable {background-color: white;}#sk-container-id-2 label.sk-toggleable__label {cursor: pointer;display: block;width: 100%;margin-bottom: 0;padding: 0.3em;box-sizing: border-box;text-align: center;}#sk-container-id-2 label.sk-toggleable__label-arrow:before {content: \"▸\";float: left;margin-right: 0.25em;color: #696969;}#sk-container-id-2 label.sk-toggleable__label-arrow:hover:before {color: black;}#sk-container-id-2 div.sk-estimator:hover label.sk-toggleable__label-arrow:before {color: black;}#sk-container-id-2 div.sk-toggleable__content {max-height: 0;max-width: 0;overflow: hidden;text-align: left;background-color: #f0f8ff;}#sk-container-id-2 div.sk-toggleable__content pre {margin: 0.2em;color: black;border-radius: 0.25em;background-color: #f0f8ff;}#sk-container-id-2 input.sk-toggleable__control:checked~div.sk-toggleable__content {max-height: 200px;max-width: 100%;overflow: auto;}#sk-container-id-2 input.sk-toggleable__control:checked~label.sk-toggleable__label-arrow:before {content: \"▾\";}#sk-container-id-2 div.sk-estimator input.sk-toggleable__control:checked~label.sk-toggleable__label {background-color: #d4ebff;}#sk-container-id-2 div.sk-label input.sk-toggleable__control:checked~label.sk-toggleable__label {background-color: #d4ebff;}#sk-container-id-2 input.sk-hidden--visually {border: 0;clip: rect(1px 1px 1px 1px);clip: rect(1px, 1px, 1px, 1px);height: 1px;margin: -1px;overflow: hidden;padding: 0;position: absolute;width: 1px;}#sk-container-id-2 div.sk-estimator {font-family: monospace;background-color: #f0f8ff;border: 1px dotted black;border-radius: 0.25em;box-sizing: border-box;margin-bottom: 0.5em;}#sk-container-id-2 div.sk-estimator:hover {background-color: #d4ebff;}#sk-container-id-2 div.sk-parallel-item::after {content: \"\";width: 100%;border-bottom: 1px solid gray;flex-grow: 1;}#sk-container-id-2 div.sk-label:hover label.sk-toggleable__label {background-color: #d4ebff;}#sk-container-id-2 div.sk-serial::before {content: \"\";position: absolute;border-left: 1px solid gray;box-sizing: border-box;top: 0;bottom: 0;left: 50%;z-index: 0;}#sk-container-id-2 div.sk-serial {display: flex;flex-direction: column;align-items: center;background-color: white;padding-right: 0.2em;padding-left: 0.2em;position: relative;}#sk-container-id-2 div.sk-item {position: relative;z-index: 1;}#sk-container-id-2 div.sk-parallel {display: flex;align-items: stretch;justify-content: center;background-color: white;position: relative;}#sk-container-id-2 div.sk-item::before, #sk-container-id-2 div.sk-parallel-item::before {content: \"\";position: absolute;border-left: 1px solid gray;box-sizing: border-box;top: 0;bottom: 0;left: 50%;z-index: -1;}#sk-container-id-2 div.sk-parallel-item {display: flex;flex-direction: column;z-index: 1;position: relative;background-color: white;}#sk-container-id-2 div.sk-parallel-item:first-child::after {align-self: flex-end;width: 50%;}#sk-container-id-2 div.sk-parallel-item:last-child::after {align-self: flex-start;width: 50%;}#sk-container-id-2 div.sk-parallel-item:only-child::after {width: 0;}#sk-container-id-2 div.sk-dashed-wrapped {border: 1px dashed gray;margin: 0 0.4em 0.5em 0.4em;box-sizing: border-box;padding-bottom: 0.4em;background-color: white;}#sk-container-id-2 div.sk-label label {font-family: monospace;font-weight: bold;display: inline-block;line-height: 1.2em;}#sk-container-id-2 div.sk-label-container {text-align: center;}#sk-container-id-2 div.sk-container {/* jupyter's `normalize.less` sets `[hidden] { display: none; }` but bootstrap.min.css set `[hidden] { display: none !important; }` so we also need the `!important` here to be able to override the default hidden behavior on the sphinx rendered scikit-learn.org. See: https://github.com/scikit-learn/scikit-learn/issues/21755 */display: inline-block !important;position: relative;}#sk-container-id-2 div.sk-text-repr-fallback {display: none;}</style><div id=\"sk-container-id-2\" class=\"sk-top-container\"><div class=\"sk-text-repr-fallback\"><pre>LinearRegression()</pre><b>In a Jupyter environment, please rerun this cell to show the HTML representation or trust the notebook. <br />On GitHub, the HTML representation is unable to render, please try loading this page with nbviewer.org.</b></div><div class=\"sk-container\" hidden><div class=\"sk-item\"><div class=\"sk-estimator sk-toggleable\"><input class=\"sk-toggleable__control sk-hidden--visually\" id=\"sk-estimator-id-2\" type=\"checkbox\" checked><label for=\"sk-estimator-id-2\" class=\"sk-toggleable__label sk-toggleable__label-arrow\">LinearRegression</label><div class=\"sk-toggleable__content\"><pre>LinearRegression()</pre></div></div></div></div></div>"
      ],
      "text/plain": [
       "LinearRegression()"
      ]
     },
     "execution_count": 12,
     "metadata": {},
     "output_type": "execute_result"
    }
   ],
   "source": [
    "#Model Creation\n",
    "from sklearn.linear_model import LinearRegression\n",
    "regressor = LinearRegression()\n",
    "regressor.fit(X_train, Y_train)"
   ]
  },
  {
   "cell_type": "code",
   "execution_count": 15,
   "id": "c18ff298",
   "metadata": {},
   "outputs": [
    {
     "name": "stdout",
     "output_type": "stream",
     "text": [
      "[[0.04581434]]\n",
      "[7.31081017]\n"
     ]
    }
   ],
   "source": [
    "# to find weight and bias\n",
    "weight = regressor.coef_ \n",
    "print(weight)\n",
    "\n",
    "Bias = regressor.intercept_\n",
    "print(Bias)"
   ]
  },
  {
   "cell_type": "code",
   "execution_count": 16,
   "id": "ad95baff",
   "metadata": {},
   "outputs": [],
   "source": [
    "test_Pred = regressor.predict(X_test)"
   ]
  },
  {
   "cell_type": "code",
   "execution_count": 17,
   "id": "2d5ca78b",
   "metadata": {},
   "outputs": [
    {
     "data": {
      "text/plain": [
       "array([[10.48116264],\n",
       "       [ 9.60152727],\n",
       "       [11.4524267 ],\n",
       "       [20.58322509],\n",
       "       [15.1084112 ],\n",
       "       [ 9.8855762 ],\n",
       "       [ 7.70939494],\n",
       "       [18.31083372],\n",
       "       [ 8.40119151],\n",
       "       [16.36372418],\n",
       "       [19.28209777],\n",
       "       [11.3058208 ],\n",
       "       [14.48533615],\n",
       "       [15.91474363],\n",
       "       [10.81102591],\n",
       "       [12.81769409],\n",
       "       [19.47909945],\n",
       "       [ 7.3428802 ],\n",
       "       [10.73314153],\n",
       "       [17.08759078],\n",
       "       [20.48701497],\n",
       "       [13.73856237],\n",
       "       [15.33290148],\n",
       "       [13.34455903],\n",
       "       [ 9.76187747],\n",
       "       [12.95055569],\n",
       "       [14.89766523],\n",
       "       [16.70275031],\n",
       "       [17.57322281],\n",
       "       [ 8.46075015],\n",
       "       [10.41702256],\n",
       "       [16.42328282],\n",
       "       [20.17089601],\n",
       "       [18.38413667],\n",
       "       [ 7.91555948],\n",
       "       [ 8.16753836],\n",
       "       [10.04134496],\n",
       "       [15.59404323],\n",
       "       [10.44451117],\n",
       "       [ 8.45616872],\n",
       "       [ 9.00135939],\n",
       "       [ 8.75396194],\n",
       "       [13.85767966],\n",
       "       [16.91349628],\n",
       "       [17.17921947],\n",
       "       [12.01594311],\n",
       "       [ 7.70481351],\n",
       "       [ 8.08507255],\n",
       "       [13.06967298],\n",
       "       [12.10299036],\n",
       "       [12.34122494],\n",
       "       [17.82520169],\n",
       "       [18.93849021],\n",
       "       [15.78188203],\n",
       "       [ 9.35871126],\n",
       "       [10.16504368],\n",
       "       [20.72983099],\n",
       "       [15.21378419],\n",
       "       [16.58821446],\n",
       "       [ 7.64525486]])"
      ]
     },
     "execution_count": 17,
     "metadata": {},
     "output_type": "execute_result"
    }
   ],
   "source": [
    "test_Pred"
   ]
  },
  {
   "cell_type": "code",
   "execution_count": 18,
   "id": "4f6f8a1c",
   "metadata": {},
   "outputs": [],
   "source": [
    "# EValuate metrics\n",
    "from sklearn.metrics import r2_score\n",
    "r2 = r2_score(Y_test, test_Pred)"
   ]
  },
  {
   "cell_type": "code",
   "execution_count": 19,
   "id": "869a9c9e",
   "metadata": {},
   "outputs": [
    {
     "data": {
      "text/plain": [
       "0.725606346597073"
      ]
     },
     "execution_count": 19,
     "metadata": {},
     "output_type": "execute_result"
    }
   ],
   "source": [
    "r2"
   ]
  },
  {
   "cell_type": "code",
   "execution_count": 21,
   "id": "6c96840d",
   "metadata": {},
   "outputs": [],
   "source": [
    "# to save the model\n",
    "import pickle\n",
    "filename = \"Final_TvMarketing_SLR.sav\""
   ]
  },
  {
   "cell_type": "code",
   "execution_count": 22,
   "id": "b385bfcc",
   "metadata": {},
   "outputs": [],
   "source": [
    "pickle.dump(regressor,open(filename,'wb'))"
   ]
  },
  {
   "cell_type": "code",
   "execution_count": 23,
   "id": "a4edcec9",
   "metadata": {},
   "outputs": [],
   "source": [
    "load_model = pickle.load(open(\"Final_TvMarketing_SLR.sav\",'rb'))"
   ]
  },
  {
   "cell_type": "code",
   "execution_count": 26,
   "id": "4d82a837",
   "metadata": {},
   "outputs": [
    {
     "name": "stderr",
     "output_type": "stream",
     "text": [
      "C:\\Anaconda3\\Lib\\site-packages\\sklearn\\base.py:439: UserWarning: X does not have valid feature names, but LinearRegression was fitted with feature names\n",
      "  warnings.warn(\n"
     ]
    },
    {
     "data": {
      "text/plain": [
       "array([[48.9560472]])"
      ]
     },
     "execution_count": 26,
     "metadata": {},
     "output_type": "execute_result"
    }
   ],
   "source": [
    "result = load_model.predict([[909]])\n",
    "result"
   ]
  },
  {
   "cell_type": "code",
   "execution_count": null,
   "id": "c8c606da",
   "metadata": {},
   "outputs": [],
   "source": []
  }
 ],
 "metadata": {
  "kernelspec": {
   "display_name": "Python 3 (ipykernel)",
   "language": "python",
   "name": "python3"
  },
  "language_info": {
   "codemirror_mode": {
    "name": "ipython",
    "version": 3
   },
   "file_extension": ".py",
   "mimetype": "text/x-python",
   "name": "python",
   "nbconvert_exporter": "python",
   "pygments_lexer": "ipython3",
   "version": "3.11.7"
  }
 },
 "nbformat": 4,
 "nbformat_minor": 5
}
