{
 "cells": [
  {
   "cell_type": "code",
   "execution_count": 1,
   "id": "37476a79",
   "metadata": {},
   "outputs": [
    {
     "name": "stdout",
     "output_type": "stream",
     "text": [
      "Collecting lightgbm\n",
      "  Downloading lightgbm-4.3.0-py3-none-win_amd64.whl.metadata (19 kB)\n",
      "Requirement already satisfied: numpy in c:\\anaconda3\\lib\\site-packages (from lightgbm) (1.26.4)\n",
      "Requirement already satisfied: scipy in c:\\anaconda3\\lib\\site-packages (from lightgbm) (1.11.4)\n",
      "Downloading lightgbm-4.3.0-py3-none-win_amd64.whl (1.3 MB)\n",
      "   ---------------------------------------- 0.0/1.3 MB ? eta -:--:--\n",
      "   ---------------------------------------- 0.0/1.3 MB ? eta -:--:--\n",
      "    --------------------------------------- 0.0/1.3 MB 330.3 kB/s eta 0:00:04\n",
      "   -- ------------------------------------- 0.1/1.3 MB 657.6 kB/s eta 0:00:02\n",
      "   ------ --------------------------------- 0.2/1.3 MB 1.2 MB/s eta 0:00:01\n",
      "   ---------- ----------------------------- 0.3/1.3 MB 1.6 MB/s eta 0:00:01\n",
      "   ------------ --------------------------- 0.4/1.3 MB 1.9 MB/s eta 0:00:01\n",
      "   --------------- ------------------------ 0.5/1.3 MB 2.0 MB/s eta 0:00:01\n",
      "   --------------------- ------------------ 0.7/1.3 MB 2.2 MB/s eta 0:00:01\n",
      "   -------------------------- ------------- 0.9/1.3 MB 2.3 MB/s eta 0:00:01\n",
      "   ------------------------------ --------- 1.0/1.3 MB 2.5 MB/s eta 0:00:01\n",
      "   ------------------------------------ --- 1.2/1.3 MB 2.6 MB/s eta 0:00:01\n",
      "   ---------------------------------------- 1.3/1.3 MB 2.7 MB/s eta 0:00:00\n",
      "Installing collected packages: lightgbm\n",
      "Successfully installed lightgbm-4.3.0\n"
     ]
    }
   ],
   "source": [
    "!pip install lightgbm"
   ]
  },
  {
   "cell_type": "code",
   "execution_count": 3,
   "id": "18b2ca09",
   "metadata": {},
   "outputs": [],
   "source": [
    "#import libraries\n",
    "import pandas as pd"
   ]
  },
  {
   "cell_type": "code",
   "execution_count": 4,
   "id": "92c4a9a3",
   "metadata": {},
   "outputs": [
    {
     "data": {
      "text/html": [
       "<div>\n",
       "<style scoped>\n",
       "    .dataframe tbody tr th:only-of-type {\n",
       "        vertical-align: middle;\n",
       "    }\n",
       "\n",
       "    .dataframe tbody tr th {\n",
       "        vertical-align: top;\n",
       "    }\n",
       "\n",
       "    .dataframe thead th {\n",
       "        text-align: right;\n",
       "    }\n",
       "</style>\n",
       "<table border=\"1\" class=\"dataframe\">\n",
       "  <thead>\n",
       "    <tr style=\"text-align: right;\">\n",
       "      <th></th>\n",
       "      <th>age</th>\n",
       "      <th>sex</th>\n",
       "      <th>bmi</th>\n",
       "      <th>children</th>\n",
       "      <th>smoker</th>\n",
       "      <th>charges</th>\n",
       "    </tr>\n",
       "  </thead>\n",
       "  <tbody>\n",
       "    <tr>\n",
       "      <th>0</th>\n",
       "      <td>19</td>\n",
       "      <td>female</td>\n",
       "      <td>27.900</td>\n",
       "      <td>0</td>\n",
       "      <td>yes</td>\n",
       "      <td>16884.92400</td>\n",
       "    </tr>\n",
       "    <tr>\n",
       "      <th>1</th>\n",
       "      <td>18</td>\n",
       "      <td>male</td>\n",
       "      <td>33.770</td>\n",
       "      <td>1</td>\n",
       "      <td>no</td>\n",
       "      <td>1725.55230</td>\n",
       "    </tr>\n",
       "    <tr>\n",
       "      <th>2</th>\n",
       "      <td>28</td>\n",
       "      <td>male</td>\n",
       "      <td>33.000</td>\n",
       "      <td>3</td>\n",
       "      <td>no</td>\n",
       "      <td>4449.46200</td>\n",
       "    </tr>\n",
       "    <tr>\n",
       "      <th>3</th>\n",
       "      <td>33</td>\n",
       "      <td>male</td>\n",
       "      <td>22.705</td>\n",
       "      <td>0</td>\n",
       "      <td>no</td>\n",
       "      <td>21984.47061</td>\n",
       "    </tr>\n",
       "    <tr>\n",
       "      <th>4</th>\n",
       "      <td>32</td>\n",
       "      <td>male</td>\n",
       "      <td>28.880</td>\n",
       "      <td>0</td>\n",
       "      <td>no</td>\n",
       "      <td>3866.85520</td>\n",
       "    </tr>\n",
       "    <tr>\n",
       "      <th>...</th>\n",
       "      <td>...</td>\n",
       "      <td>...</td>\n",
       "      <td>...</td>\n",
       "      <td>...</td>\n",
       "      <td>...</td>\n",
       "      <td>...</td>\n",
       "    </tr>\n",
       "    <tr>\n",
       "      <th>1333</th>\n",
       "      <td>50</td>\n",
       "      <td>male</td>\n",
       "      <td>30.970</td>\n",
       "      <td>3</td>\n",
       "      <td>no</td>\n",
       "      <td>10600.54830</td>\n",
       "    </tr>\n",
       "    <tr>\n",
       "      <th>1334</th>\n",
       "      <td>18</td>\n",
       "      <td>female</td>\n",
       "      <td>31.920</td>\n",
       "      <td>0</td>\n",
       "      <td>no</td>\n",
       "      <td>2205.98080</td>\n",
       "    </tr>\n",
       "    <tr>\n",
       "      <th>1335</th>\n",
       "      <td>18</td>\n",
       "      <td>female</td>\n",
       "      <td>36.850</td>\n",
       "      <td>0</td>\n",
       "      <td>no</td>\n",
       "      <td>1629.83350</td>\n",
       "    </tr>\n",
       "    <tr>\n",
       "      <th>1336</th>\n",
       "      <td>21</td>\n",
       "      <td>female</td>\n",
       "      <td>25.800</td>\n",
       "      <td>0</td>\n",
       "      <td>no</td>\n",
       "      <td>2007.94500</td>\n",
       "    </tr>\n",
       "    <tr>\n",
       "      <th>1337</th>\n",
       "      <td>61</td>\n",
       "      <td>female</td>\n",
       "      <td>29.070</td>\n",
       "      <td>0</td>\n",
       "      <td>yes</td>\n",
       "      <td>29141.36030</td>\n",
       "    </tr>\n",
       "  </tbody>\n",
       "</table>\n",
       "<p>1338 rows × 6 columns</p>\n",
       "</div>"
      ],
      "text/plain": [
       "      age     sex     bmi  children smoker      charges\n",
       "0      19  female  27.900         0    yes  16884.92400\n",
       "1      18    male  33.770         1     no   1725.55230\n",
       "2      28    male  33.000         3     no   4449.46200\n",
       "3      33    male  22.705         0     no  21984.47061\n",
       "4      32    male  28.880         0     no   3866.85520\n",
       "...   ...     ...     ...       ...    ...          ...\n",
       "1333   50    male  30.970         3     no  10600.54830\n",
       "1334   18  female  31.920         0     no   2205.98080\n",
       "1335   18  female  36.850         0     no   1629.83350\n",
       "1336   21  female  25.800         0     no   2007.94500\n",
       "1337   61  female  29.070         0    yes  29141.36030\n",
       "\n",
       "[1338 rows x 6 columns]"
      ]
     },
     "execution_count": 4,
     "metadata": {},
     "output_type": "execute_result"
    }
   ],
   "source": [
    "#load and read the dataset\n",
    "dataset = pd.read_csv(\"insurance_pre.csv\")\n",
    "dataset"
   ]
  },
  {
   "cell_type": "code",
   "execution_count": 5,
   "id": "b4f95a2e",
   "metadata": {},
   "outputs": [
    {
     "name": "stdout",
     "output_type": "stream",
     "text": [
      "Number of rows and columns: (1338, 6)\n"
     ]
    }
   ],
   "source": [
    "# to find number of rows and col's\n",
    "no_of_rows_and_col=dataset.shape\n",
    "print(\"Number of rows and columns:\",no_of_rows_and_col)\n",
    "# Here the number of rows = 1338 and the columns = 6"
   ]
  },
  {
   "cell_type": "code",
   "execution_count": 6,
   "id": "a222b888",
   "metadata": {},
   "outputs": [
    {
     "data": {
      "text/plain": [
       "Index(['age', 'sex', 'bmi', 'children', 'smoker', 'charges'], dtype='object')"
      ]
     },
     "execution_count": 6,
     "metadata": {},
     "output_type": "execute_result"
    }
   ],
   "source": [
    "#to list the col names\n",
    "dataset.columns\n",
    "# here 'age', 'sex', 'bmi', 'children', 'smoker' - are input\n",
    "#'charges' - are output"
   ]
  },
  {
   "cell_type": "code",
   "execution_count": 7,
   "id": "3f33877b",
   "metadata": {},
   "outputs": [
    {
     "name": "stderr",
     "output_type": "stream",
     "text": [
      "C:\\Users\\HP\\AppData\\Local\\Temp\\ipykernel_21092\\4071425206.py:3: SettingWithCopyWarning: \n",
      "A value is trying to be set on a copy of a slice from a DataFrame\n",
      "\n",
      "See the caveats in the documentation: https://pandas.pydata.org/pandas-docs/stable/user_guide/indexing.html#returning-a-view-versus-a-copy\n",
      "  dataset.sex[dataset.sex == 'male']=1\n",
      "C:\\Users\\HP\\AppData\\Local\\Temp\\ipykernel_21092\\4071425206.py:4: SettingWithCopyWarning: \n",
      "A value is trying to be set on a copy of a slice from a DataFrame\n",
      "\n",
      "See the caveats in the documentation: https://pandas.pydata.org/pandas-docs/stable/user_guide/indexing.html#returning-a-view-versus-a-copy\n",
      "  dataset.sex[dataset.sex == 'female']=2\n",
      "C:\\Users\\HP\\AppData\\Local\\Temp\\ipykernel_21092\\4071425206.py:6: SettingWithCopyWarning: \n",
      "A value is trying to be set on a copy of a slice from a DataFrame\n",
      "\n",
      "See the caveats in the documentation: https://pandas.pydata.org/pandas-docs/stable/user_guide/indexing.html#returning-a-view-versus-a-copy\n",
      "  dataset.smoker[dataset.smoker == 'yes']=1\n",
      "C:\\Users\\HP\\AppData\\Local\\Temp\\ipykernel_21092\\4071425206.py:7: SettingWithCopyWarning: \n",
      "A value is trying to be set on a copy of a slice from a DataFrame\n",
      "\n",
      "See the caveats in the documentation: https://pandas.pydata.org/pandas-docs/stable/user_guide/indexing.html#returning-a-view-versus-a-copy\n",
      "  dataset.smoker[dataset.smoker == 'no']=0\n"
     ]
    },
    {
     "data": {
      "text/html": [
       "<div>\n",
       "<style scoped>\n",
       "    .dataframe tbody tr th:only-of-type {\n",
       "        vertical-align: middle;\n",
       "    }\n",
       "\n",
       "    .dataframe tbody tr th {\n",
       "        vertical-align: top;\n",
       "    }\n",
       "\n",
       "    .dataframe thead th {\n",
       "        text-align: right;\n",
       "    }\n",
       "</style>\n",
       "<table border=\"1\" class=\"dataframe\">\n",
       "  <thead>\n",
       "    <tr style=\"text-align: right;\">\n",
       "      <th></th>\n",
       "      <th>age</th>\n",
       "      <th>sex</th>\n",
       "      <th>bmi</th>\n",
       "      <th>children</th>\n",
       "      <th>smoker</th>\n",
       "      <th>charges</th>\n",
       "    </tr>\n",
       "  </thead>\n",
       "  <tbody>\n",
       "    <tr>\n",
       "      <th>0</th>\n",
       "      <td>19</td>\n",
       "      <td>2</td>\n",
       "      <td>27.900</td>\n",
       "      <td>0</td>\n",
       "      <td>1</td>\n",
       "      <td>16884.92400</td>\n",
       "    </tr>\n",
       "    <tr>\n",
       "      <th>1</th>\n",
       "      <td>18</td>\n",
       "      <td>1</td>\n",
       "      <td>33.770</td>\n",
       "      <td>1</td>\n",
       "      <td>0</td>\n",
       "      <td>1725.55230</td>\n",
       "    </tr>\n",
       "    <tr>\n",
       "      <th>2</th>\n",
       "      <td>28</td>\n",
       "      <td>1</td>\n",
       "      <td>33.000</td>\n",
       "      <td>3</td>\n",
       "      <td>0</td>\n",
       "      <td>4449.46200</td>\n",
       "    </tr>\n",
       "    <tr>\n",
       "      <th>3</th>\n",
       "      <td>33</td>\n",
       "      <td>1</td>\n",
       "      <td>22.705</td>\n",
       "      <td>0</td>\n",
       "      <td>0</td>\n",
       "      <td>21984.47061</td>\n",
       "    </tr>\n",
       "    <tr>\n",
       "      <th>4</th>\n",
       "      <td>32</td>\n",
       "      <td>1</td>\n",
       "      <td>28.880</td>\n",
       "      <td>0</td>\n",
       "      <td>0</td>\n",
       "      <td>3866.85520</td>\n",
       "    </tr>\n",
       "    <tr>\n",
       "      <th>...</th>\n",
       "      <td>...</td>\n",
       "      <td>...</td>\n",
       "      <td>...</td>\n",
       "      <td>...</td>\n",
       "      <td>...</td>\n",
       "      <td>...</td>\n",
       "    </tr>\n",
       "    <tr>\n",
       "      <th>1333</th>\n",
       "      <td>50</td>\n",
       "      <td>1</td>\n",
       "      <td>30.970</td>\n",
       "      <td>3</td>\n",
       "      <td>0</td>\n",
       "      <td>10600.54830</td>\n",
       "    </tr>\n",
       "    <tr>\n",
       "      <th>1334</th>\n",
       "      <td>18</td>\n",
       "      <td>2</td>\n",
       "      <td>31.920</td>\n",
       "      <td>0</td>\n",
       "      <td>0</td>\n",
       "      <td>2205.98080</td>\n",
       "    </tr>\n",
       "    <tr>\n",
       "      <th>1335</th>\n",
       "      <td>18</td>\n",
       "      <td>2</td>\n",
       "      <td>36.850</td>\n",
       "      <td>0</td>\n",
       "      <td>0</td>\n",
       "      <td>1629.83350</td>\n",
       "    </tr>\n",
       "    <tr>\n",
       "      <th>1336</th>\n",
       "      <td>21</td>\n",
       "      <td>2</td>\n",
       "      <td>25.800</td>\n",
       "      <td>0</td>\n",
       "      <td>0</td>\n",
       "      <td>2007.94500</td>\n",
       "    </tr>\n",
       "    <tr>\n",
       "      <th>1337</th>\n",
       "      <td>61</td>\n",
       "      <td>2</td>\n",
       "      <td>29.070</td>\n",
       "      <td>0</td>\n",
       "      <td>1</td>\n",
       "      <td>29141.36030</td>\n",
       "    </tr>\n",
       "  </tbody>\n",
       "</table>\n",
       "<p>1338 rows × 6 columns</p>\n",
       "</div>"
      ],
      "text/plain": [
       "      age sex     bmi  children smoker      charges\n",
       "0      19   2  27.900         0      1  16884.92400\n",
       "1      18   1  33.770         1      0   1725.55230\n",
       "2      28   1  33.000         3      0   4449.46200\n",
       "3      33   1  22.705         0      0  21984.47061\n",
       "4      32   1  28.880         0      0   3866.85520\n",
       "...   ...  ..     ...       ...    ...          ...\n",
       "1333   50   1  30.970         3      0  10600.54830\n",
       "1334   18   2  31.920         0      0   2205.98080\n",
       "1335   18   2  36.850         0      0   1629.83350\n",
       "1336   21   2  25.800         0      0   2007.94500\n",
       "1337   61   2  29.070         0      1  29141.36030\n",
       "\n",
       "[1338 rows x 6 columns]"
      ]
     },
     "execution_count": 7,
     "metadata": {},
     "output_type": "execute_result"
    }
   ],
   "source": [
    "# preprocessing to convert categorical value to numerical \n",
    "\n",
    "dataset.sex[dataset.sex == 'male']=1\n",
    "dataset.sex[dataset.sex == 'female']=2\n",
    "\n",
    "dataset.smoker[dataset.smoker == 'yes']=1\n",
    "dataset.smoker[dataset.smoker == 'no']=0\n",
    "dataset"
   ]
  },
  {
   "cell_type": "code",
   "execution_count": 8,
   "id": "06bee5b7",
   "metadata": {},
   "outputs": [
    {
     "name": "stdout",
     "output_type": "stream",
     "text": [
      "      age sex     bmi  children smoker\n",
      "0      19   2  27.900         0      1\n",
      "1      18   1  33.770         1      0\n",
      "2      28   1  33.000         3      0\n",
      "3      33   1  22.705         0      0\n",
      "4      32   1  28.880         0      0\n",
      "...   ...  ..     ...       ...    ...\n",
      "1333   50   1  30.970         3      0\n",
      "1334   18   2  31.920         0      0\n",
      "1335   18   2  36.850         0      0\n",
      "1336   21   2  25.800         0      0\n",
      "1337   61   2  29.070         0      1\n",
      "\n",
      "[1338 rows x 5 columns]\n",
      "          charges\n",
      "0     16884.92400\n",
      "1      1725.55230\n",
      "2      4449.46200\n",
      "3     21984.47061\n",
      "4      3866.85520\n",
      "...           ...\n",
      "1333  10600.54830\n",
      "1334   2205.98080\n",
      "1335   1629.83350\n",
      "1336   2007.94500\n",
      "1337  29141.36030\n",
      "\n",
      "[1338 rows x 1 columns]\n"
     ]
    }
   ],
   "source": [
    "# assign input and output value\n",
    "independent = dataset[['age', 'sex', 'bmi', 'children', 'smoker']]\n",
    "print(independent)\n",
    "dependent = dataset[['charges']]\n",
    "print(dependent)"
   ]
  },
  {
   "cell_type": "code",
   "execution_count": 14,
   "id": "476b02bb",
   "metadata": {},
   "outputs": [
    {
     "data": {
      "text/plain": [
       "(      age sex     bmi  children smoker\n",
       " 1163   18   2  28.215         0      0\n",
       " 196    39   2  32.800         0      0\n",
       " 438    52   2  46.750         5      0\n",
       " 183    44   2  26.410         0      0\n",
       " 1298   33   1  27.455         2      0\n",
       " ...   ...  ..     ...       ...    ...\n",
       " 763    27   1  26.030         0      0\n",
       " 835    42   1  35.970         2      0\n",
       " 1216   40   1  25.080         0      0\n",
       " 559    19   1  35.530         0      0\n",
       " 684    33   2  18.500         1      0\n",
       " \n",
       " [936 rows x 5 columns],\n",
       "       age sex     bmi  children smoker\n",
       " 578    52   1  30.200         1      0\n",
       " 610    47   2  29.370         1      0\n",
       " 569    48   1  40.565         2      1\n",
       " 1034   61   1  38.380         0      0\n",
       " 198    51   2  18.050         0      0\n",
       " ...   ...  ..     ...       ...    ...\n",
       " 1261   28   1  37.100         1      0\n",
       " 494    21   1  25.700         4      1\n",
       " 97     55   1  38.280         0      0\n",
       " 418    64   1  39.160         1      0\n",
       " 920    62   2  25.000         0      0\n",
       " \n",
       " [402 rows x 5 columns],\n",
       "           charges\n",
       " 1163   2200.83085\n",
       " 196    5649.71500\n",
       " 438   12592.53450\n",
       " 183    7419.47790\n",
       " 1298   5261.46945\n",
       " ...           ...\n",
       " 763    3070.80870\n",
       " 835    7160.33030\n",
       " 1216   5415.66120\n",
       " 559    1646.42970\n",
       " 684    4766.02200\n",
       " \n",
       " [936 rows x 1 columns],\n",
       "           charges\n",
       " 578    9724.53000\n",
       " 610    8547.69130\n",
       " 569   45702.02235\n",
       " 1034  12950.07120\n",
       " 198    9644.25250\n",
       " ...           ...\n",
       " 1261   3277.16100\n",
       " 494   17942.10600\n",
       " 97    10226.28420\n",
       " 418   14418.28040\n",
       " 920   13451.12200\n",
       " \n",
       " [402 rows x 1 columns])"
      ]
     },
     "execution_count": 14,
     "metadata": {},
     "output_type": "execute_result"
    }
   ],
   "source": [
    "# spliting training and testing data\n",
    "\n",
    "from sklearn.model_selection import train_test_split\n",
    "X_train,X_test,Y_train,Y_test=train_test_split(independent,dependent,test_size=0.30,random_state=0)\n",
    "X_train,X_test,Y_train,Y_test"
   ]
  },
  {
   "cell_type": "code",
   "execution_count": 17,
   "id": "70b3b9d0",
   "metadata": {},
   "outputs": [],
   "source": [
    "import lightgbm as lgb\n",
    "from lightgbm import LGBMRegressor"
   ]
  },
  {
   "cell_type": "code",
   "execution_count": 20,
   "id": "ad2b18cc",
   "metadata": {},
   "outputs": [
    {
     "name": "stderr",
     "output_type": "stream",
     "text": [
      "C:\\Anaconda3\\Lib\\site-packages\\sklearn\\utils\\validation.py:1143: DataConversionWarning: A column-vector y was passed when a 1d array was expected. Please change the shape of y to (n_samples, ), for example using ravel().\n",
      "  y = column_or_1d(y, warn=True)\n"
     ]
    },
    {
     "data": {
      "text/html": [
       "<style>#sk-container-id-2 {color: black;background-color: white;}#sk-container-id-2 pre{padding: 0;}#sk-container-id-2 div.sk-toggleable {background-color: white;}#sk-container-id-2 label.sk-toggleable__label {cursor: pointer;display: block;width: 100%;margin-bottom: 0;padding: 0.3em;box-sizing: border-box;text-align: center;}#sk-container-id-2 label.sk-toggleable__label-arrow:before {content: \"▸\";float: left;margin-right: 0.25em;color: #696969;}#sk-container-id-2 label.sk-toggleable__label-arrow:hover:before {color: black;}#sk-container-id-2 div.sk-estimator:hover label.sk-toggleable__label-arrow:before {color: black;}#sk-container-id-2 div.sk-toggleable__content {max-height: 0;max-width: 0;overflow: hidden;text-align: left;background-color: #f0f8ff;}#sk-container-id-2 div.sk-toggleable__content pre {margin: 0.2em;color: black;border-radius: 0.25em;background-color: #f0f8ff;}#sk-container-id-2 input.sk-toggleable__control:checked~div.sk-toggleable__content {max-height: 200px;max-width: 100%;overflow: auto;}#sk-container-id-2 input.sk-toggleable__control:checked~label.sk-toggleable__label-arrow:before {content: \"▾\";}#sk-container-id-2 div.sk-estimator input.sk-toggleable__control:checked~label.sk-toggleable__label {background-color: #d4ebff;}#sk-container-id-2 div.sk-label input.sk-toggleable__control:checked~label.sk-toggleable__label {background-color: #d4ebff;}#sk-container-id-2 input.sk-hidden--visually {border: 0;clip: rect(1px 1px 1px 1px);clip: rect(1px, 1px, 1px, 1px);height: 1px;margin: -1px;overflow: hidden;padding: 0;position: absolute;width: 1px;}#sk-container-id-2 div.sk-estimator {font-family: monospace;background-color: #f0f8ff;border: 1px dotted black;border-radius: 0.25em;box-sizing: border-box;margin-bottom: 0.5em;}#sk-container-id-2 div.sk-estimator:hover {background-color: #d4ebff;}#sk-container-id-2 div.sk-parallel-item::after {content: \"\";width: 100%;border-bottom: 1px solid gray;flex-grow: 1;}#sk-container-id-2 div.sk-label:hover label.sk-toggleable__label {background-color: #d4ebff;}#sk-container-id-2 div.sk-serial::before {content: \"\";position: absolute;border-left: 1px solid gray;box-sizing: border-box;top: 0;bottom: 0;left: 50%;z-index: 0;}#sk-container-id-2 div.sk-serial {display: flex;flex-direction: column;align-items: center;background-color: white;padding-right: 0.2em;padding-left: 0.2em;position: relative;}#sk-container-id-2 div.sk-item {position: relative;z-index: 1;}#sk-container-id-2 div.sk-parallel {display: flex;align-items: stretch;justify-content: center;background-color: white;position: relative;}#sk-container-id-2 div.sk-item::before, #sk-container-id-2 div.sk-parallel-item::before {content: \"\";position: absolute;border-left: 1px solid gray;box-sizing: border-box;top: 0;bottom: 0;left: 50%;z-index: -1;}#sk-container-id-2 div.sk-parallel-item {display: flex;flex-direction: column;z-index: 1;position: relative;background-color: white;}#sk-container-id-2 div.sk-parallel-item:first-child::after {align-self: flex-end;width: 50%;}#sk-container-id-2 div.sk-parallel-item:last-child::after {align-self: flex-start;width: 50%;}#sk-container-id-2 div.sk-parallel-item:only-child::after {width: 0;}#sk-container-id-2 div.sk-dashed-wrapped {border: 1px dashed gray;margin: 0 0.4em 0.5em 0.4em;box-sizing: border-box;padding-bottom: 0.4em;background-color: white;}#sk-container-id-2 div.sk-label label {font-family: monospace;font-weight: bold;display: inline-block;line-height: 1.2em;}#sk-container-id-2 div.sk-label-container {text-align: center;}#sk-container-id-2 div.sk-container {/* jupyter's `normalize.less` sets `[hidden] { display: none; }` but bootstrap.min.css set `[hidden] { display: none !important; }` so we also need the `!important` here to be able to override the default hidden behavior on the sphinx rendered scikit-learn.org. See: https://github.com/scikit-learn/scikit-learn/issues/21755 */display: inline-block !important;position: relative;}#sk-container-id-2 div.sk-text-repr-fallback {display: none;}</style><div id=\"sk-container-id-2\" class=\"sk-top-container\"><div class=\"sk-text-repr-fallback\"><pre>SVR(epsilon=0.2)</pre><b>In a Jupyter environment, please rerun this cell to show the HTML representation or trust the notebook. <br />On GitHub, the HTML representation is unable to render, please try loading this page with nbviewer.org.</b></div><div class=\"sk-container\" hidden><div class=\"sk-item\"><div class=\"sk-estimator sk-toggleable\"><input class=\"sk-toggleable__control sk-hidden--visually\" id=\"sk-estimator-id-2\" type=\"checkbox\" checked><label for=\"sk-estimator-id-2\" class=\"sk-toggleable__label sk-toggleable__label-arrow\">SVR</label><div class=\"sk-toggleable__content\"><pre>SVR(epsilon=0.2)</pre></div></div></div></div></div>"
      ],
      "text/plain": [
       "SVR(epsilon=0.2)"
      ]
     },
     "execution_count": 20,
     "metadata": {},
     "output_type": "execute_result"
    }
   ],
   "source": [
    "regressor=LGBMRegressor()\n",
    "regressor\n",
    "from sklearn.svm import SVR\n",
    "regressor= SVR(C=1.0, epsilon=0.2)\n",
    "regressor.fit(X_train,Y_train)"
   ]
  },
  {
   "cell_type": "code",
   "execution_count": 21,
   "id": "5c403d20",
   "metadata": {},
   "outputs": [
    {
     "name": "stderr",
     "output_type": "stream",
     "text": [
      "C:\\Anaconda3\\Lib\\site-packages\\sklearn\\utils\\validation.py:1143: DataConversionWarning: A column-vector y was passed when a 1d array was expected. Please change the shape of y to (n_samples, ), for example using ravel().\n",
      "  y = column_or_1d(y, warn=True)\n"
     ]
    }
   ],
   "source": [
    "regressor=regressor.fit(X_train,Y_train)"
   ]
  },
  {
   "cell_type": "code",
   "execution_count": 22,
   "id": "392b3bae",
   "metadata": {},
   "outputs": [
    {
     "data": {
      "text/plain": [
       "array([9594.00625465, 9564.46645299, 9572.90443534, 9634.28597266,\n",
       "       9580.01588257, 9485.15494147, 9426.95516961, 9589.62863553,\n",
       "       9509.17834308, 9470.85086585, 9485.94468992, 9580.76656558,\n",
       "       9539.82985665, 9479.58392467, 9452.18961141, 9581.751093  ,\n",
       "       9627.47140036, 9449.50020386, 9508.76223904, 9431.21152825,\n",
       "       9585.68706832, 9615.28423925, 9594.19066433, 9563.9294641 ,\n",
       "       9437.45621451, 9479.58255477, 9459.93151813, 9522.48380921,\n",
       "       9469.4937174 , 9552.59313719, 9520.79773389, 9625.63511306,\n",
       "       9637.98721776, 9610.23604881, 9443.8345186 , 9464.88438756,\n",
       "       9560.9431024 , 9460.55231081, 9522.53264218, 9432.30674729,\n",
       "       9496.05494427, 9460.32382736, 9514.07772298, 9623.85142511,\n",
       "       9431.96246941, 9434.2504696 , 9581.587291  , 9532.25519734,\n",
       "       9465.46148149, 9615.04939083, 9441.09464354, 9428.77188138,\n",
       "       9570.10096657, 9589.77435044, 9621.08097416, 9459.51680406,\n",
       "       9451.57420107, 9580.83245656, 9538.27282732, 9627.5398798 ,\n",
       "       9428.53404403, 9638.55146973, 9631.9249802 , 9583.40804485,\n",
       "       9572.31968807, 9589.45249467, 9429.0818347 , 9472.8841951 ,\n",
       "       9434.75767163, 9521.70419861, 9634.07436538, 9618.02475936,\n",
       "       9430.70355226, 9641.19675554, 9627.19396243, 9630.06546509,\n",
       "       9554.95759287, 9546.43010065, 9502.01118846, 9635.34825298,\n",
       "       9613.81471197, 9545.18048257, 9436.41995276, 9552.45815449,\n",
       "       9541.93743414, 9485.19068174, 9459.45748001, 9448.82092047,\n",
       "       9626.23820484, 9468.52211945, 9479.62560133, 9609.49928156,\n",
       "       9454.58175557, 9551.50948674, 9488.14094182, 9475.84196423,\n",
       "       9609.92279999, 9546.43203536, 9471.50571041, 9613.76689201,\n",
       "       9439.48844167, 9498.86722687, 9457.86802378, 9499.4073678 ,\n",
       "       9533.25341764, 9453.2203501 , 9608.68769593, 9458.98521818,\n",
       "       9624.09194578, 9632.10872222, 9598.51243089, 9477.60555702,\n",
       "       9570.32260943, 9427.94530244, 9617.09161983, 9532.22112188,\n",
       "       9432.46898686, 9580.939619  , 9627.72501631, 9556.73258326,\n",
       "       9542.35377666, 9585.43500175, 9642.12188156, 9470.27708469,\n",
       "       9545.13481818, 9461.94933415, 9563.15492841, 9549.48956263,\n",
       "       9630.04071206, 9437.67643066, 9546.08116915, 9428.91801226,\n",
       "       9509.22618564, 9583.76920775, 9533.79028208, 9486.39949759,\n",
       "       9531.85218154, 9579.06779882, 9594.97772382, 9437.97390387,\n",
       "       9431.49331962, 9608.38066419, 9578.45704894, 9605.32013444,\n",
       "       9484.89801995, 9644.24922097, 9627.90343406, 9439.09911192,\n",
       "       9430.81679905, 9602.00551706, 9508.0852638 , 9462.95833445,\n",
       "       9589.11730024, 9427.04675857, 9436.79934672, 9521.09634655,\n",
       "       9436.02358502, 9426.89869333, 9581.73151161, 9566.0207163 ,\n",
       "       9453.70731206, 9636.45335569, 9628.81808364, 9589.42209142,\n",
       "       9475.32180317, 9443.85166011, 9431.0696318 , 9470.61017366,\n",
       "       9469.54969506, 9435.43748329, 9453.85620056, 9455.96789047,\n",
       "       9540.16214537, 9445.04621419, 9452.66870024, 9447.20800826,\n",
       "       9456.75633364, 9512.98612373, 9627.40004397, 9427.01299026,\n",
       "       9594.5114903 , 9503.49585113, 9619.80550954, 9454.10855692,\n",
       "       9485.05228403, 9636.50390062, 9436.22665795, 9432.7482198 ,\n",
       "       9644.75011918, 9577.84604813, 9583.373301  , 9448.46300094,\n",
       "       9496.07775107, 9568.18091881, 9448.16176162, 9441.18979962,\n",
       "       9503.00313151, 9484.07974724, 9465.4939986 , 9469.82067012,\n",
       "       9605.28287056, 9644.7918615 , 9610.3729789 , 9469.96397438,\n",
       "       9461.57061239, 9566.79580975, 9444.71167536, 9594.96381292,\n",
       "       9494.44585988, 9440.3932906 , 9571.60853203, 9638.78801285,\n",
       "       9456.13207192, 9439.99681052, 9526.93186351, 9441.91879774,\n",
       "       9496.58624159, 9479.83438031, 9626.27231386, 9501.94732117,\n",
       "       9490.63653661, 9513.30129215, 9570.28594211, 9445.11447218,\n",
       "       9624.08597668, 9643.34905749, 9614.90026563, 9620.36047318,\n",
       "       9507.27479003, 9444.49741116, 9427.10945647, 9561.11318356,\n",
       "       9628.10936612, 9428.18909697, 9474.54792309, 9528.28022629,\n",
       "       9569.61888892, 9442.07740815, 9508.3143854 , 9595.54032177,\n",
       "       9508.16549454, 9434.71807492, 9530.3389815 , 9537.95079141,\n",
       "       9539.98049207, 9599.75560873, 9432.98795715, 9541.5978377 ,\n",
       "       9436.3334129 , 9525.3553091 , 9465.19055893, 9642.03918719,\n",
       "       9450.67363936, 9455.68782385, 9426.88039878, 9428.35972889,\n",
       "       9553.70782457, 9431.73717369, 9444.98153084, 9452.42877824,\n",
       "       9548.11450697, 9581.67990343, 9638.92606396, 9638.50507955,\n",
       "       9526.78934928, 9618.0980823 , 9472.02662286, 9556.27204948,\n",
       "       9505.33011404, 9429.4568835 , 9443.05863012, 9478.03267993,\n",
       "       9624.06966526, 9444.44534402, 9499.8558436 , 9487.30964694,\n",
       "       9599.75426915, 9549.94384036, 9431.73566989, 9630.81108066,\n",
       "       9621.83687936, 9488.87447554, 9631.18780872, 9427.08578533,\n",
       "       9512.32531654, 9439.85357993, 9517.20969245, 9538.24346395,\n",
       "       9465.75554337, 9427.19540101, 9431.81352452, 9635.32043359,\n",
       "       9574.75394604, 9471.37869275, 9610.47814684, 9610.3211886 ,\n",
       "       9439.11351457, 9520.25964207, 9491.62652479, 9584.03418406,\n",
       "       9428.95668658, 9431.21615881, 9453.12842498, 9452.24846456,\n",
       "       9638.26319229, 9444.43509803, 9445.71699898, 9551.38344341,\n",
       "       9594.82782984, 9429.50736726, 9475.40747899, 9486.15665677,\n",
       "       9432.43058851, 9428.90801587, 9526.5126872 , 9487.86099761,\n",
       "       9562.00324281, 9429.26697041, 9538.31950679, 9549.25172612,\n",
       "       9438.12685501, 9453.31153891, 9430.26320871, 9571.85025427,\n",
       "       9463.89966382, 9618.0802233 , 9644.87960298, 9465.46054178,\n",
       "       9577.26493479, 9543.04038208, 9619.85064922, 9461.75814041,\n",
       "       9588.36302177, 9443.49274613, 9634.63609784, 9475.0972421 ,\n",
       "       9628.55897313, 9429.12647206, 9431.36649994, 9449.14279701,\n",
       "       9601.76760947, 9520.84750124, 9441.81121458, 9450.78734345,\n",
       "       9465.95584488, 9496.1216824 , 9634.89433391, 9428.89402027,\n",
       "       9538.91595366, 9428.57959387, 9577.18297973, 9450.60933089,\n",
       "       9494.07659294, 9466.26081837, 9600.46074394, 9567.03941199,\n",
       "       9486.16368064, 9441.21765143, 9508.38898236, 9527.47717836,\n",
       "       9428.49018133, 9452.16729354, 9429.00843819, 9572.56682098,\n",
       "       9605.68952938, 9614.72981552, 9429.10345736, 9624.00424224,\n",
       "       9436.52021419, 9553.46257108, 9460.50607873, 9449.33731412,\n",
       "       9448.18862063, 9433.79595783, 9507.40733626, 9430.01228617,\n",
       "       9506.72368299, 9610.37669199, 9584.00010241, 9618.62029413,\n",
       "       9477.06313734, 9442.31536864, 9430.52630202, 9583.1932585 ,\n",
       "       9490.63903495, 9427.79023716, 9594.21551014, 9508.43153155,\n",
       "       9532.43848036, 9448.30910498, 9438.00861803, 9470.68370291,\n",
       "       9433.46533933, 9580.35255367, 9433.26705264, 9537.97809596,\n",
       "       9614.10263472, 9460.95622188, 9433.80233744, 9609.9901669 ,\n",
       "       9642.6098695 , 9634.99036275])"
      ]
     },
     "execution_count": 22,
     "metadata": {},
     "output_type": "execute_result"
    }
   ],
   "source": [
    "# testing\n",
    "test_pred= regressor.predict(X_test)\n",
    "test_pred"
   ]
  },
  {
   "cell_type": "code",
   "execution_count": 23,
   "id": "f5b91fa1",
   "metadata": {},
   "outputs": [
    {
     "data": {
      "text/plain": [
       "-0.08841695046488329"
      ]
     },
     "execution_count": 23,
     "metadata": {},
     "output_type": "execute_result"
    }
   ],
   "source": [
    "#Evalution Metrics\n",
    "from sklearn.metrics import r2_score\n",
    "r2 = r2_score(Y_test,test_pred)\n",
    "r2\n",
    "# r2 should be nearer to 1 here it is not performing good for this dataset"
   ]
  },
  {
   "cell_type": "code",
   "execution_count": 24,
   "id": "c0110229",
   "metadata": {},
   "outputs": [],
   "source": [
    "# Saving the model\n",
    "import pickle\n",
    "filename= \"LGBoost_insurance.sav\""
   ]
  },
  {
   "cell_type": "code",
   "execution_count": 25,
   "id": "a4fba04b",
   "metadata": {},
   "outputs": [],
   "source": [
    "pickle.dump(regressor,open(filename,'wb'))\n",
    "load_model=pickle.load(open(\"LGBoost_insurance.sav\",'rb'))"
   ]
  },
  {
   "cell_type": "code",
   "execution_count": 26,
   "id": "4638edea",
   "metadata": {},
   "outputs": [
    {
     "name": "stderr",
     "output_type": "stream",
     "text": [
      "C:\\Anaconda3\\Lib\\site-packages\\sklearn\\base.py:439: UserWarning: X does not have valid feature names, but SVR was fitted with feature names\n",
      "  warnings.warn(\n"
     ]
    },
    {
     "data": {
      "text/plain": [
       "array([9538.97902664])"
      ]
     },
     "execution_count": 26,
     "metadata": {},
     "output_type": "execute_result"
    }
   ],
   "source": [
    "result=load_model.predict([[1234,6757,9876,9733,2323]])\n",
    "result"
   ]
  },
  {
   "cell_type": "code",
   "execution_count": null,
   "id": "b10762f1",
   "metadata": {},
   "outputs": [],
   "source": []
  }
 ],
 "metadata": {
  "kernelspec": {
   "display_name": "Python 3 (ipykernel)",
   "language": "python",
   "name": "python3"
  },
  "language_info": {
   "codemirror_mode": {
    "name": "ipython",
    "version": 3
   },
   "file_extension": ".py",
   "mimetype": "text/x-python",
   "name": "python",
   "nbconvert_exporter": "python",
   "pygments_lexer": "ipython3",
   "version": "3.11.7"
  }
 },
 "nbformat": 4,
 "nbformat_minor": 5
}
