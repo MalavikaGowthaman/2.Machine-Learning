{
 "cells": [
  {
   "cell_type": "code",
   "execution_count": 1,
   "id": "9a3c7ad2",
   "metadata": {},
   "outputs": [],
   "source": [
    "# import lib\n",
    "import pandas as pd\n",
    "import numpy as np\n",
    "import matplotlib.pyplot as plt\n",
    "import time\n"
   ]
  },
  {
   "cell_type": "code",
   "execution_count": 2,
   "id": "a0d21686",
   "metadata": {},
   "outputs": [],
   "source": [
    "# to split and preprocess\n",
    "def split_scalar(indep_X,dep_Y):\n",
    "    from sklearn.model_selection import train_test_split\n",
    "    from sklearn.preprocessing import StandardScaler\n",
    "    X_train,X_test,Y_train,Y_test = train_test_split(indep_X,dep_Y,test_size =0.30,random_state =0)\n",
    "    sc = StandardScaler()\n",
    "    X_train = sc.fit_transform(X_train)\n",
    "    X_test = sc.transform(X_test)\n",
    "    \n",
    "    return X_train,X_test,Y_train,Y_test"
   ]
  },
  {
   "cell_type": "code",
   "execution_count": 19,
   "id": "9dd41dad",
   "metadata": {},
   "outputs": [],
   "source": [
    "# r2 for regression\n",
    "def r2_score_pred(regressor,X_test,Y_test):\n",
    "    from sklearn.metrics import r2_score\n",
    "    test_pred = regressor.predict(X_test)\n",
    "    r2 = r2_score(Y_test,test_pred)\n",
    "    return r2"
   ]
  },
  {
   "cell_type": "code",
   "execution_count": 20,
   "id": "e8621a31",
   "metadata": {},
   "outputs": [],
   "source": [
    "# linear regression\n",
    "def linear(X_train,X_test,Y_train):\n",
    "    from sklearn.linear_model import LinearRegression\n",
    "    regressor = LinearRegression()\n",
    "    regressor.fit(X_train,Y_train)\n",
    "    r2 = r2_score_pred(regressor, X_test,Y_test)\n",
    "    return r2"
   ]
  },
  {
   "cell_type": "code",
   "execution_count": 33,
   "id": "6f513b47",
   "metadata": {},
   "outputs": [],
   "source": [
    "# svm\n",
    "def svm(X_train,X_test,Y_train):\n",
    "    from sklearn.svm import SVR\n",
    "    regressor = SVR(kernel = 'linear')\n",
    "    regressor.fit(X_train,Y_train)\n",
    "    r2 = r2_score_pred(regressor,X_test,Y_test)\n",
    "    return r2"
   ]
  },
  {
   "cell_type": "code",
   "execution_count": 45,
   "id": "7f48c151",
   "metadata": {},
   "outputs": [],
   "source": [
    "# decision\n",
    "def dt(X_train,X_test,Y_train):\n",
    "    from sklearn.tree import DecisionTreeRegressor\n",
    "    regressor = DecisionTreeRegressor(criterion = 'squared_error',random_state =0)\n",
    "    regressor.fit(X_train,Y_train)\n",
    "    r2 = r2_score_pred(regressor,X_test,Y_test)\n",
    "    return r2"
   ]
  },
  {
   "cell_type": "code",
   "execution_count": 46,
   "id": "0a3a9a17",
   "metadata": {},
   "outputs": [],
   "source": [
    "# random\n",
    "def rf(X_train,X_test,Y_train):\n",
    "    from sklearn.ensemble import RandomForestRegressor\n",
    "    regressor = RandomForestRegressor(n_estimators = 20,random_state =0)\n",
    "    regressor.fit(X_train,Y_train)\n",
    "    r2 = r2_score_pred(regressor,X_test,Y_test)\n",
    "    return r2"
   ]
  },
  {
   "cell_type": "code",
   "execution_count": 47,
   "id": "430ee778",
   "metadata": {},
   "outputs": [],
   "source": [
    "def rfefeature(indep_X,dep_Y,n):\n",
    "    rfelist =[]\n",
    "    \n",
    "    from sklearn.linear_model import LinearRegression\n",
    "    lin = LinearRegression()\n",
    "    \n",
    "    from sklearn.svm import SVR\n",
    "    svrl = SVR(kernel = 'linear')\n",
    "    \n",
    "    from sklearn.tree import DecisionTreeRegressor\n",
    "    dt = DecisionTreeRegressor(criterion = 'squared_error',random_state =0)\n",
    "    \n",
    "    from sklearn.ensemble import RandomForestRegressor\n",
    "    rf = RandomForestRegressor(n_estimators = 20,random_state =0)\n",
    "    \n",
    "    rfemodellist = [lin,svrl,dt,rf]\n",
    "    from sklearn.feature_selection import RFE\n",
    "    for i in rfemodellist:\n",
    "        print(i)\n",
    "        log_rfe = RFE(estimator=i, n_features_to_select=n)\n",
    "        log_fit = log_rfe.fit(indep_X,dep_Y)\n",
    "        log_rfe_feature = log_fit.transform(indep_X)\n",
    "        rfelist.append(log_rfe_feature)\n",
    "    return rfelist\n"
   ]
  },
  {
   "cell_type": "code",
   "execution_count": 73,
   "id": "f26e3b0c",
   "metadata": {},
   "outputs": [],
   "source": [
    "# table\n",
    "def rfe_regression(r2score_lin,r2score_svml,r2score_dt,r2score_rf):\n",
    "    df = pd.DataFrame(index = ['Linear','SVM','DecisionTree','RandomForest'],columns = ['Linear','SVM_L','DecisionTree','RandomForest'])\n",
    "    for number,idex in enumerate(df.index):\n",
    "        df['Linear'][idex] = acclin[number]\n",
    "        df['SVM_L'][idex] = accsvml[number]\n",
    "        df['DecisionTree'][idex] = accdt[number]\n",
    "        df['RandomForest'][idex] = accrf[number]\n",
    "    return df"
   ]
  },
  {
   "cell_type": "code",
   "execution_count": 74,
   "id": "6907fca1",
   "metadata": {},
   "outputs": [],
   "source": [
    "dataset = pd.read_csv('placement.csv')\n",
    "df2 = dataset"
   ]
  },
  {
   "cell_type": "code",
   "execution_count": 75,
   "id": "e8f36532",
   "metadata": {},
   "outputs": [
    {
     "data": {
      "text/plain": [
       "sl_no              0\n",
       "gender             0\n",
       "ssc_p              0\n",
       "ssc_b              0\n",
       "hsc_p              0\n",
       "hsc_b              0\n",
       "hsc_s              0\n",
       "degree_p           0\n",
       "degree_t           0\n",
       "workex             0\n",
       "etest_p            0\n",
       "specialisation     0\n",
       "mba_p              0\n",
       "status             0\n",
       "salary            67\n",
       "dtype: int64"
      ]
     },
     "execution_count": 75,
     "metadata": {},
     "output_type": "execute_result"
    }
   ],
   "source": [
    "df2.isna().sum()"
   ]
  },
  {
   "cell_type": "code",
   "execution_count": 76,
   "id": "4493e13e",
   "metadata": {},
   "outputs": [],
   "source": [
    "df2['salary'].fillna(0,inplace = True)"
   ]
  },
  {
   "cell_type": "code",
   "execution_count": 77,
   "id": "c74fe53f",
   "metadata": {},
   "outputs": [],
   "source": [
    "df2 = pd.get_dummies(df2,drop_first =True)\n",
    "df2 = df2.astype(int)\n",
    "# df2"
   ]
  },
  {
   "cell_type": "code",
   "execution_count": 78,
   "id": "fbd02809",
   "metadata": {},
   "outputs": [],
   "source": [
    "indep_X = df2.drop('salary',axis =1)\n",
    "dep_Y = df2['salary']"
   ]
  },
  {
   "cell_type": "code",
   "execution_count": 79,
   "id": "56d18b70",
   "metadata": {},
   "outputs": [
    {
     "name": "stdout",
     "output_type": "stream",
     "text": [
      "LinearRegression()\n",
      "SVR(kernel='linear')\n",
      "DecisionTreeRegressor(random_state=0)\n",
      "RandomForestRegressor(n_estimators=20, random_state=0)\n"
     ]
    }
   ],
   "source": [
    "rfelist = rfefeature(indep_X,dep_Y,8)\n",
    "r2score_lin =[]\n",
    "r2score_svml =[]\n",
    "r2score_dt =[]\n",
    "r2score_rf =[]"
   ]
  },
  {
   "cell_type": "code",
   "execution_count": 81,
   "id": "33005422",
   "metadata": {},
   "outputs": [],
   "source": [
    "for i in rfelist:\n",
    "    X_train,X_test,Y_train,Y_test = split_scalar(i,dep_Y)\n",
    "    \n",
    "    r2_lin = linear(X_train,X_test,Y_train)\n",
    "    r2score_lin.append(r2_lin)\n",
    "    \n",
    "    r2_svml = svm(X_train,X_test,Y_train)\n",
    "    r2score_svml.append(r2_svml)\n",
    "    \n",
    "    r2_dt = dt(X_train,X_test,Y_train)\n",
    "    r2score_dt.append(r2_dt)\n",
    "    \n",
    "    r2_rf = rf(X_train,X_test,Y_train)\n",
    "    r2score_rf.append(r2_rf)\n",
    "    "
   ]
  },
  {
   "cell_type": "code",
   "execution_count": 82,
   "id": "f01698fc",
   "metadata": {},
   "outputs": [
    {
     "data": {
      "text/html": [
       "<div>\n",
       "<style scoped>\n",
       "    .dataframe tbody tr th:only-of-type {\n",
       "        vertical-align: middle;\n",
       "    }\n",
       "\n",
       "    .dataframe tbody tr th {\n",
       "        vertical-align: top;\n",
       "    }\n",
       "\n",
       "    .dataframe thead th {\n",
       "        text-align: right;\n",
       "    }\n",
       "</style>\n",
       "<table border=\"1\" class=\"dataframe\">\n",
       "  <thead>\n",
       "    <tr style=\"text-align: right;\">\n",
       "      <th></th>\n",
       "      <th>Linear</th>\n",
       "      <th>SVM_L</th>\n",
       "      <th>DecisionTree</th>\n",
       "      <th>RandomForest</th>\n",
       "    </tr>\n",
       "  </thead>\n",
       "  <tbody>\n",
       "    <tr>\n",
       "      <th>Linear</th>\n",
       "      <td>0.820778</td>\n",
       "      <td>-0.181052</td>\n",
       "      <td>0.780289</td>\n",
       "      <td>0.769283</td>\n",
       "    </tr>\n",
       "    <tr>\n",
       "      <th>SVM</th>\n",
       "      <td>0.818303</td>\n",
       "      <td>-0.179371</td>\n",
       "      <td>-0.36938</td>\n",
       "      <td>0.681221</td>\n",
       "    </tr>\n",
       "    <tr>\n",
       "      <th>DecisionTree</th>\n",
       "      <td>0.826751</td>\n",
       "      <td>-0.179703</td>\n",
       "      <td>0.162068</td>\n",
       "      <td>0.70175</td>\n",
       "    </tr>\n",
       "    <tr>\n",
       "      <th>RandomForest</th>\n",
       "      <td>0.821699</td>\n",
       "      <td>-0.179793</td>\n",
       "      <td>0.740366</td>\n",
       "      <td>0.746775</td>\n",
       "    </tr>\n",
       "  </tbody>\n",
       "</table>\n",
       "</div>"
      ],
      "text/plain": [
       "                Linear     SVM_L DecisionTree RandomForest\n",
       "Linear        0.820778 -0.181052     0.780289     0.769283\n",
       "SVM           0.818303 -0.179371     -0.36938     0.681221\n",
       "DecisionTree  0.826751 -0.179703     0.162068      0.70175\n",
       "RandomForest  0.821699 -0.179793     0.740366     0.746775"
      ]
     },
     "execution_count": 82,
     "metadata": {},
     "output_type": "execute_result"
    }
   ],
   "source": [
    "result  = rfe_regression(acclin,accsvml,accdt,accrf)\n",
    "result#4"
   ]
  },
  {
   "cell_type": "code",
   "execution_count": 69,
   "id": "431635af",
   "metadata": {},
   "outputs": [
    {
     "data": {
      "text/html": [
       "<div>\n",
       "<style scoped>\n",
       "    .dataframe tbody tr th:only-of-type {\n",
       "        vertical-align: middle;\n",
       "    }\n",
       "\n",
       "    .dataframe tbody tr th {\n",
       "        vertical-align: top;\n",
       "    }\n",
       "\n",
       "    .dataframe thead th {\n",
       "        text-align: right;\n",
       "    }\n",
       "</style>\n",
       "<table border=\"1\" class=\"dataframe\">\n",
       "  <thead>\n",
       "    <tr style=\"text-align: right;\">\n",
       "      <th></th>\n",
       "      <th>Linear</th>\n",
       "      <th>SVM_L</th>\n",
       "      <th>DecisionTree</th>\n",
       "      <th>RandomForest</th>\n",
       "    </tr>\n",
       "  </thead>\n",
       "  <tbody>\n",
       "    <tr>\n",
       "      <th>Linear</th>\n",
       "      <td>0.852903</td>\n",
       "      <td>-0.181273</td>\n",
       "      <td>0.834328</td>\n",
       "      <td>0.823015</td>\n",
       "    </tr>\n",
       "    <tr>\n",
       "      <th>SVM</th>\n",
       "      <td>0.845284</td>\n",
       "      <td>-0.179707</td>\n",
       "      <td>0.285856</td>\n",
       "      <td>0.730111</td>\n",
       "    </tr>\n",
       "    <tr>\n",
       "      <th>DecisionTree</th>\n",
       "      <td>0.816023</td>\n",
       "      <td>-0.180008</td>\n",
       "      <td>-0.264951</td>\n",
       "      <td>0.685023</td>\n",
       "    </tr>\n",
       "    <tr>\n",
       "      <th>RandomForest</th>\n",
       "      <td>0.810046</td>\n",
       "      <td>-0.179766</td>\n",
       "      <td>0.18431</td>\n",
       "      <td>0.700754</td>\n",
       "    </tr>\n",
       "  </tbody>\n",
       "</table>\n",
       "</div>"
      ],
      "text/plain": [
       "                Linear     SVM_L DecisionTree RandomForest\n",
       "Linear        0.852903 -0.181273     0.834328     0.823015\n",
       "SVM           0.845284 -0.179707     0.285856     0.730111\n",
       "DecisionTree  0.816023 -0.180008    -0.264951     0.685023\n",
       "RandomForest  0.810046 -0.179766      0.18431     0.700754"
      ]
     },
     "execution_count": 69,
     "metadata": {},
     "output_type": "execute_result"
    }
   ],
   "source": [
    "result  = rfe_regression(acclin,accsvml,accdt,accrf)\n",
    "result#6"
   ]
  },
  {
   "cell_type": "code",
   "execution_count": 72,
   "id": "c0319ecb",
   "metadata": {},
   "outputs": [
    {
     "data": {
      "text/html": [
       "<div>\n",
       "<style scoped>\n",
       "    .dataframe tbody tr th:only-of-type {\n",
       "        vertical-align: middle;\n",
       "    }\n",
       "\n",
       "    .dataframe tbody tr th {\n",
       "        vertical-align: top;\n",
       "    }\n",
       "\n",
       "    .dataframe thead th {\n",
       "        text-align: right;\n",
       "    }\n",
       "</style>\n",
       "<table border=\"1\" class=\"dataframe\">\n",
       "  <thead>\n",
       "    <tr style=\"text-align: right;\">\n",
       "      <th></th>\n",
       "      <th>Linear</th>\n",
       "      <th>SVM_L</th>\n",
       "      <th>DecisionTree</th>\n",
       "      <th>RandomForest</th>\n",
       "    </tr>\n",
       "  </thead>\n",
       "  <tbody>\n",
       "    <tr>\n",
       "      <th>Linear</th>\n",
       "      <td>0.820778</td>\n",
       "      <td>-0.181052</td>\n",
       "      <td>0.780289</td>\n",
       "      <td>0.769283</td>\n",
       "    </tr>\n",
       "    <tr>\n",
       "      <th>SVM</th>\n",
       "      <td>0.818303</td>\n",
       "      <td>-0.179371</td>\n",
       "      <td>-0.36938</td>\n",
       "      <td>0.681221</td>\n",
       "    </tr>\n",
       "    <tr>\n",
       "      <th>DecisionTree</th>\n",
       "      <td>0.826751</td>\n",
       "      <td>-0.179703</td>\n",
       "      <td>0.162068</td>\n",
       "      <td>0.70175</td>\n",
       "    </tr>\n",
       "    <tr>\n",
       "      <th>RandomForest</th>\n",
       "      <td>0.821699</td>\n",
       "      <td>-0.179793</td>\n",
       "      <td>0.740366</td>\n",
       "      <td>0.746775</td>\n",
       "    </tr>\n",
       "  </tbody>\n",
       "</table>\n",
       "</div>"
      ],
      "text/plain": [
       "                Linear     SVM_L DecisionTree RandomForest\n",
       "Linear        0.820778 -0.181052     0.780289     0.769283\n",
       "SVM           0.818303 -0.179371     -0.36938     0.681221\n",
       "DecisionTree  0.826751 -0.179703     0.162068      0.70175\n",
       "RandomForest  0.821699 -0.179793     0.740366     0.746775"
      ]
     },
     "execution_count": 72,
     "metadata": {},
     "output_type": "execute_result"
    }
   ],
   "source": [
    "result  = rfe_regression(acclin,accsvml,accdt,accrf)\n",
    "result#8"
   ]
  },
  {
   "cell_type": "code",
   "execution_count": null,
   "id": "60fe87cb",
   "metadata": {},
   "outputs": [],
   "source": []
  }
 ],
 "metadata": {
  "kernelspec": {
   "display_name": "Python 3 (ipykernel)",
   "language": "python",
   "name": "python3"
  },
  "language_info": {
   "codemirror_mode": {
    "name": "ipython",
    "version": 3
   },
   "file_extension": ".py",
   "mimetype": "text/x-python",
   "name": "python",
   "nbconvert_exporter": "python",
   "pygments_lexer": "ipython3",
   "version": "3.11.5"
  }
 },
 "nbformat": 4,
 "nbformat_minor": 5
}
