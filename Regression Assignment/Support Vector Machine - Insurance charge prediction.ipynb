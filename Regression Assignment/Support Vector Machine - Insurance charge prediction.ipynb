{
 "cells": [
  {
   "cell_type": "code",
   "execution_count": 1,
   "id": "e62155e0",
   "metadata": {},
   "outputs": [],
   "source": [
    "#import libraries\n",
    "import pandas as pd"
   ]
  },
  {
   "cell_type": "code",
   "execution_count": 2,
   "id": "9261d5ea",
   "metadata": {},
   "outputs": [
    {
     "data": {
      "text/html": [
       "<div>\n",
       "<style scoped>\n",
       "    .dataframe tbody tr th:only-of-type {\n",
       "        vertical-align: middle;\n",
       "    }\n",
       "\n",
       "    .dataframe tbody tr th {\n",
       "        vertical-align: top;\n",
       "    }\n",
       "\n",
       "    .dataframe thead th {\n",
       "        text-align: right;\n",
       "    }\n",
       "</style>\n",
       "<table border=\"1\" class=\"dataframe\">\n",
       "  <thead>\n",
       "    <tr style=\"text-align: right;\">\n",
       "      <th></th>\n",
       "      <th>age</th>\n",
       "      <th>sex</th>\n",
       "      <th>bmi</th>\n",
       "      <th>children</th>\n",
       "      <th>smoker</th>\n",
       "      <th>charges</th>\n",
       "    </tr>\n",
       "  </thead>\n",
       "  <tbody>\n",
       "    <tr>\n",
       "      <th>0</th>\n",
       "      <td>19</td>\n",
       "      <td>female</td>\n",
       "      <td>27.900</td>\n",
       "      <td>0</td>\n",
       "      <td>yes</td>\n",
       "      <td>16884.92400</td>\n",
       "    </tr>\n",
       "    <tr>\n",
       "      <th>1</th>\n",
       "      <td>18</td>\n",
       "      <td>male</td>\n",
       "      <td>33.770</td>\n",
       "      <td>1</td>\n",
       "      <td>no</td>\n",
       "      <td>1725.55230</td>\n",
       "    </tr>\n",
       "    <tr>\n",
       "      <th>2</th>\n",
       "      <td>28</td>\n",
       "      <td>male</td>\n",
       "      <td>33.000</td>\n",
       "      <td>3</td>\n",
       "      <td>no</td>\n",
       "      <td>4449.46200</td>\n",
       "    </tr>\n",
       "    <tr>\n",
       "      <th>3</th>\n",
       "      <td>33</td>\n",
       "      <td>male</td>\n",
       "      <td>22.705</td>\n",
       "      <td>0</td>\n",
       "      <td>no</td>\n",
       "      <td>21984.47061</td>\n",
       "    </tr>\n",
       "    <tr>\n",
       "      <th>4</th>\n",
       "      <td>32</td>\n",
       "      <td>male</td>\n",
       "      <td>28.880</td>\n",
       "      <td>0</td>\n",
       "      <td>no</td>\n",
       "      <td>3866.85520</td>\n",
       "    </tr>\n",
       "    <tr>\n",
       "      <th>...</th>\n",
       "      <td>...</td>\n",
       "      <td>...</td>\n",
       "      <td>...</td>\n",
       "      <td>...</td>\n",
       "      <td>...</td>\n",
       "      <td>...</td>\n",
       "    </tr>\n",
       "    <tr>\n",
       "      <th>1333</th>\n",
       "      <td>50</td>\n",
       "      <td>male</td>\n",
       "      <td>30.970</td>\n",
       "      <td>3</td>\n",
       "      <td>no</td>\n",
       "      <td>10600.54830</td>\n",
       "    </tr>\n",
       "    <tr>\n",
       "      <th>1334</th>\n",
       "      <td>18</td>\n",
       "      <td>female</td>\n",
       "      <td>31.920</td>\n",
       "      <td>0</td>\n",
       "      <td>no</td>\n",
       "      <td>2205.98080</td>\n",
       "    </tr>\n",
       "    <tr>\n",
       "      <th>1335</th>\n",
       "      <td>18</td>\n",
       "      <td>female</td>\n",
       "      <td>36.850</td>\n",
       "      <td>0</td>\n",
       "      <td>no</td>\n",
       "      <td>1629.83350</td>\n",
       "    </tr>\n",
       "    <tr>\n",
       "      <th>1336</th>\n",
       "      <td>21</td>\n",
       "      <td>female</td>\n",
       "      <td>25.800</td>\n",
       "      <td>0</td>\n",
       "      <td>no</td>\n",
       "      <td>2007.94500</td>\n",
       "    </tr>\n",
       "    <tr>\n",
       "      <th>1337</th>\n",
       "      <td>61</td>\n",
       "      <td>female</td>\n",
       "      <td>29.070</td>\n",
       "      <td>0</td>\n",
       "      <td>yes</td>\n",
       "      <td>29141.36030</td>\n",
       "    </tr>\n",
       "  </tbody>\n",
       "</table>\n",
       "<p>1338 rows × 6 columns</p>\n",
       "</div>"
      ],
      "text/plain": [
       "      age     sex     bmi  children smoker      charges\n",
       "0      19  female  27.900         0    yes  16884.92400\n",
       "1      18    male  33.770         1     no   1725.55230\n",
       "2      28    male  33.000         3     no   4449.46200\n",
       "3      33    male  22.705         0     no  21984.47061\n",
       "4      32    male  28.880         0     no   3866.85520\n",
       "...   ...     ...     ...       ...    ...          ...\n",
       "1333   50    male  30.970         3     no  10600.54830\n",
       "1334   18  female  31.920         0     no   2205.98080\n",
       "1335   18  female  36.850         0     no   1629.83350\n",
       "1336   21  female  25.800         0     no   2007.94500\n",
       "1337   61  female  29.070         0    yes  29141.36030\n",
       "\n",
       "[1338 rows x 6 columns]"
      ]
     },
     "execution_count": 2,
     "metadata": {},
     "output_type": "execute_result"
    }
   ],
   "source": [
    "#load and read the dataset\n",
    "dataset = pd.read_csv(\"insurance_pre.csv\")\n",
    "dataset"
   ]
  },
  {
   "cell_type": "code",
   "execution_count": 3,
   "id": "31f5c7f8",
   "metadata": {},
   "outputs": [
    {
     "name": "stdout",
     "output_type": "stream",
     "text": [
      "Number of rows and columns: (1338, 6)\n"
     ]
    }
   ],
   "source": [
    "# to find number of rows and col's\n",
    "no_of_rows_and_col=dataset.shape\n",
    "print(\"Number of rows and columns:\",no_of_rows_and_col)\n",
    "# Here the number of rows = 1338 and the columns = 6"
   ]
  },
  {
   "cell_type": "code",
   "execution_count": 4,
   "id": "db3591c7",
   "metadata": {},
   "outputs": [
    {
     "data": {
      "text/plain": [
       "Index(['age', 'sex', 'bmi', 'children', 'smoker', 'charges'], dtype='object')"
      ]
     },
     "execution_count": 4,
     "metadata": {},
     "output_type": "execute_result"
    }
   ],
   "source": [
    "#to list the col names\n",
    "dataset.columns\n",
    "# here 'age', 'sex', 'bmi', 'children', 'smoker' - are input\n",
    "#'charges' - are output"
   ]
  },
  {
   "cell_type": "code",
   "execution_count": 5,
   "id": "d8c85baa",
   "metadata": {},
   "outputs": [
    {
     "name": "stderr",
     "output_type": "stream",
     "text": [
      "C:\\Users\\HP\\AppData\\Local\\Temp\\ipykernel_15308\\2871062414.py:3: SettingWithCopyWarning: \n",
      "A value is trying to be set on a copy of a slice from a DataFrame\n",
      "\n",
      "See the caveats in the documentation: https://pandas.pydata.org/pandas-docs/stable/user_guide/indexing.html#returning-a-view-versus-a-copy\n",
      "  dataset.sex[dataset.sex == 'male']=1\n",
      "C:\\Users\\HP\\AppData\\Local\\Temp\\ipykernel_15308\\2871062414.py:4: SettingWithCopyWarning: \n",
      "A value is trying to be set on a copy of a slice from a DataFrame\n",
      "\n",
      "See the caveats in the documentation: https://pandas.pydata.org/pandas-docs/stable/user_guide/indexing.html#returning-a-view-versus-a-copy\n",
      "  dataset.sex[dataset.sex == 'female']=2\n",
      "C:\\Users\\HP\\AppData\\Local\\Temp\\ipykernel_15308\\2871062414.py:6: SettingWithCopyWarning: \n",
      "A value is trying to be set on a copy of a slice from a DataFrame\n",
      "\n",
      "See the caveats in the documentation: https://pandas.pydata.org/pandas-docs/stable/user_guide/indexing.html#returning-a-view-versus-a-copy\n",
      "  dataset.smoker[dataset.smoker == 'yes']=1\n",
      "C:\\Users\\HP\\AppData\\Local\\Temp\\ipykernel_15308\\2871062414.py:7: SettingWithCopyWarning: \n",
      "A value is trying to be set on a copy of a slice from a DataFrame\n",
      "\n",
      "See the caveats in the documentation: https://pandas.pydata.org/pandas-docs/stable/user_guide/indexing.html#returning-a-view-versus-a-copy\n",
      "  dataset.smoker[dataset.smoker == 'no']=0\n"
     ]
    }
   ],
   "source": [
    "# preprocessing to convert categorical value to numerical \n",
    "\n",
    "dataset.sex[dataset.sex == 'male']=1\n",
    "dataset.sex[dataset.sex == 'female']=2\n",
    "\n",
    "dataset.smoker[dataset.smoker == 'yes']=1\n",
    "dataset.smoker[dataset.smoker == 'no']=0"
   ]
  },
  {
   "cell_type": "code",
   "execution_count": 6,
   "id": "e2b8220f",
   "metadata": {},
   "outputs": [
    {
     "data": {
      "text/html": [
       "<div>\n",
       "<style scoped>\n",
       "    .dataframe tbody tr th:only-of-type {\n",
       "        vertical-align: middle;\n",
       "    }\n",
       "\n",
       "    .dataframe tbody tr th {\n",
       "        vertical-align: top;\n",
       "    }\n",
       "\n",
       "    .dataframe thead th {\n",
       "        text-align: right;\n",
       "    }\n",
       "</style>\n",
       "<table border=\"1\" class=\"dataframe\">\n",
       "  <thead>\n",
       "    <tr style=\"text-align: right;\">\n",
       "      <th></th>\n",
       "      <th>age</th>\n",
       "      <th>sex</th>\n",
       "      <th>bmi</th>\n",
       "      <th>children</th>\n",
       "      <th>smoker</th>\n",
       "      <th>charges</th>\n",
       "    </tr>\n",
       "  </thead>\n",
       "  <tbody>\n",
       "    <tr>\n",
       "      <th>0</th>\n",
       "      <td>19</td>\n",
       "      <td>2</td>\n",
       "      <td>27.900</td>\n",
       "      <td>0</td>\n",
       "      <td>1</td>\n",
       "      <td>16884.92400</td>\n",
       "    </tr>\n",
       "    <tr>\n",
       "      <th>1</th>\n",
       "      <td>18</td>\n",
       "      <td>1</td>\n",
       "      <td>33.770</td>\n",
       "      <td>1</td>\n",
       "      <td>0</td>\n",
       "      <td>1725.55230</td>\n",
       "    </tr>\n",
       "    <tr>\n",
       "      <th>2</th>\n",
       "      <td>28</td>\n",
       "      <td>1</td>\n",
       "      <td>33.000</td>\n",
       "      <td>3</td>\n",
       "      <td>0</td>\n",
       "      <td>4449.46200</td>\n",
       "    </tr>\n",
       "    <tr>\n",
       "      <th>3</th>\n",
       "      <td>33</td>\n",
       "      <td>1</td>\n",
       "      <td>22.705</td>\n",
       "      <td>0</td>\n",
       "      <td>0</td>\n",
       "      <td>21984.47061</td>\n",
       "    </tr>\n",
       "    <tr>\n",
       "      <th>4</th>\n",
       "      <td>32</td>\n",
       "      <td>1</td>\n",
       "      <td>28.880</td>\n",
       "      <td>0</td>\n",
       "      <td>0</td>\n",
       "      <td>3866.85520</td>\n",
       "    </tr>\n",
       "    <tr>\n",
       "      <th>...</th>\n",
       "      <td>...</td>\n",
       "      <td>...</td>\n",
       "      <td>...</td>\n",
       "      <td>...</td>\n",
       "      <td>...</td>\n",
       "      <td>...</td>\n",
       "    </tr>\n",
       "    <tr>\n",
       "      <th>1333</th>\n",
       "      <td>50</td>\n",
       "      <td>1</td>\n",
       "      <td>30.970</td>\n",
       "      <td>3</td>\n",
       "      <td>0</td>\n",
       "      <td>10600.54830</td>\n",
       "    </tr>\n",
       "    <tr>\n",
       "      <th>1334</th>\n",
       "      <td>18</td>\n",
       "      <td>2</td>\n",
       "      <td>31.920</td>\n",
       "      <td>0</td>\n",
       "      <td>0</td>\n",
       "      <td>2205.98080</td>\n",
       "    </tr>\n",
       "    <tr>\n",
       "      <th>1335</th>\n",
       "      <td>18</td>\n",
       "      <td>2</td>\n",
       "      <td>36.850</td>\n",
       "      <td>0</td>\n",
       "      <td>0</td>\n",
       "      <td>1629.83350</td>\n",
       "    </tr>\n",
       "    <tr>\n",
       "      <th>1336</th>\n",
       "      <td>21</td>\n",
       "      <td>2</td>\n",
       "      <td>25.800</td>\n",
       "      <td>0</td>\n",
       "      <td>0</td>\n",
       "      <td>2007.94500</td>\n",
       "    </tr>\n",
       "    <tr>\n",
       "      <th>1337</th>\n",
       "      <td>61</td>\n",
       "      <td>2</td>\n",
       "      <td>29.070</td>\n",
       "      <td>0</td>\n",
       "      <td>1</td>\n",
       "      <td>29141.36030</td>\n",
       "    </tr>\n",
       "  </tbody>\n",
       "</table>\n",
       "<p>1338 rows × 6 columns</p>\n",
       "</div>"
      ],
      "text/plain": [
       "      age sex     bmi  children smoker      charges\n",
       "0      19   2  27.900         0      1  16884.92400\n",
       "1      18   1  33.770         1      0   1725.55230\n",
       "2      28   1  33.000         3      0   4449.46200\n",
       "3      33   1  22.705         0      0  21984.47061\n",
       "4      32   1  28.880         0      0   3866.85520\n",
       "...   ...  ..     ...       ...    ...          ...\n",
       "1333   50   1  30.970         3      0  10600.54830\n",
       "1334   18   2  31.920         0      0   2205.98080\n",
       "1335   18   2  36.850         0      0   1629.83350\n",
       "1336   21   2  25.800         0      0   2007.94500\n",
       "1337   61   2  29.070         0      1  29141.36030\n",
       "\n",
       "[1338 rows x 6 columns]"
      ]
     },
     "execution_count": 6,
     "metadata": {},
     "output_type": "execute_result"
    }
   ],
   "source": [
    "dataset"
   ]
  },
  {
   "cell_type": "code",
   "execution_count": 7,
   "id": "63514af0",
   "metadata": {},
   "outputs": [
    {
     "name": "stdout",
     "output_type": "stream",
     "text": [
      "      age sex     bmi  children smoker\n",
      "0      19   2  27.900         0      1\n",
      "1      18   1  33.770         1      0\n",
      "2      28   1  33.000         3      0\n",
      "3      33   1  22.705         0      0\n",
      "4      32   1  28.880         0      0\n",
      "...   ...  ..     ...       ...    ...\n",
      "1333   50   1  30.970         3      0\n",
      "1334   18   2  31.920         0      0\n",
      "1335   18   2  36.850         0      0\n",
      "1336   21   2  25.800         0      0\n",
      "1337   61   2  29.070         0      1\n",
      "\n",
      "[1338 rows x 5 columns]\n",
      "          charges\n",
      "0     16884.92400\n",
      "1      1725.55230\n",
      "2      4449.46200\n",
      "3     21984.47061\n",
      "4      3866.85520\n",
      "...           ...\n",
      "1333  10600.54830\n",
      "1334   2205.98080\n",
      "1335   1629.83350\n",
      "1336   2007.94500\n",
      "1337  29141.36030\n",
      "\n",
      "[1338 rows x 1 columns]\n"
     ]
    }
   ],
   "source": [
    "# assign input and output value\n",
    "independent = dataset[['age', 'sex', 'bmi', 'children', 'smoker']]\n",
    "print(independent)\n",
    "dependent = dataset[['charges']]\n",
    "print(dependent)"
   ]
  },
  {
   "cell_type": "code",
   "execution_count": 8,
   "id": "df17f7fc",
   "metadata": {},
   "outputs": [],
   "source": [
    "#Model creation\n",
    "from sklearn.model_selection import train_test_split\n",
    "X_train,X_test,Y_train,Y_test = train_test_split(independent,dependent,test_size=0.30,random_state=0)"
   ]
  },
  {
   "cell_type": "code",
   "execution_count": 9,
   "id": "74f87f3a",
   "metadata": {},
   "outputs": [],
   "source": [
    "# Standarization --> Min - Max value have large difference so accuracy is not good so need to perform standarization\n",
    "\n",
    "#x-Mu/sigma --> input - Mean/std dev\n",
    "\n",
    "from sklearn.preprocessing import StandardScaler\n",
    "standard = StandardScaler()\n",
    "X_train = standard.fit_transform(X_train) # fit.transform_ will perform the formula\n",
    "X_test=standard.transform(X_test)# here transform_ will perform the formula as we given above"
   ]
  },
  {
   "cell_type": "code",
   "execution_count": 10,
   "id": "a62580c1",
   "metadata": {},
   "outputs": [
    {
     "data": {
      "text/plain": [
       "array([[-1.5330973 ,  0.97676557, -0.40713453, -0.89833872, -0.50466988],\n",
       "       [-0.03364163,  0.97676557,  0.32855417, -0.89833872, -0.50466988],\n",
       "       [ 0.89459283,  0.97676557,  2.56690911,  3.25603402, -0.50466988],\n",
       "       ...,\n",
       "       [ 0.03776102, -1.02378711, -0.91016269, -0.89833872, -0.50466988],\n",
       "       [-1.46169465, -1.02378711,  0.76659782, -0.89833872, -0.50466988],\n",
       "       [-0.46205754,  0.97676557, -1.96596021, -0.06746417, -0.50466988]])"
      ]
     },
     "execution_count": 10,
     "metadata": {},
     "output_type": "execute_result"
    }
   ],
   "source": [
    "X_train"
   ]
  },
  {
   "cell_type": "code",
   "execution_count": 11,
   "id": "89a9235c",
   "metadata": {},
   "outputs": [
    {
     "data": {
      "text/plain": [
       "array([[ 0.89459283, -1.02378711, -0.08863026, -0.06746417, -0.50466988],\n",
       "       [ 0.53757957,  0.97676557, -0.22180837, -0.06746417, -0.50466988],\n",
       "       [ 0.60898222, -1.02378711,  1.57449152,  0.76341038,  1.98149332],\n",
       "       ...,\n",
       "       [ 1.10880078, -1.02378711,  1.20785059, -0.89833872, -0.50466988],\n",
       "       [ 1.75142463, -1.02378711,  1.34905148, -0.06746417, -0.50466988],\n",
       "       [ 1.60861933,  0.97676557, -0.92299913, -0.89833872, -0.50466988]])"
      ]
     },
     "execution_count": 11,
     "metadata": {},
     "output_type": "execute_result"
    }
   ],
   "source": [
    "X_test"
   ]
  },
  {
   "cell_type": "code",
   "execution_count": 159,
   "id": "b8174e32",
   "metadata": {},
   "outputs": [
    {
     "name": "stderr",
     "output_type": "stream",
     "text": [
      "C:\\Anaconda3\\Lib\\site-packages\\sklearn\\utils\\validation.py:1143: DataConversionWarning: A column-vector y was passed when a 1d array was expected. Please change the shape of y to (n_samples, ), for example using ravel().\n",
      "  y = column_or_1d(y, warn=True)\n"
     ]
    },
    {
     "data": {
      "text/html": [
       "<style>#sk-container-id-22 {color: black;background-color: white;}#sk-container-id-22 pre{padding: 0;}#sk-container-id-22 div.sk-toggleable {background-color: white;}#sk-container-id-22 label.sk-toggleable__label {cursor: pointer;display: block;width: 100%;margin-bottom: 0;padding: 0.3em;box-sizing: border-box;text-align: center;}#sk-container-id-22 label.sk-toggleable__label-arrow:before {content: \"▸\";float: left;margin-right: 0.25em;color: #696969;}#sk-container-id-22 label.sk-toggleable__label-arrow:hover:before {color: black;}#sk-container-id-22 div.sk-estimator:hover label.sk-toggleable__label-arrow:before {color: black;}#sk-container-id-22 div.sk-toggleable__content {max-height: 0;max-width: 0;overflow: hidden;text-align: left;background-color: #f0f8ff;}#sk-container-id-22 div.sk-toggleable__content pre {margin: 0.2em;color: black;border-radius: 0.25em;background-color: #f0f8ff;}#sk-container-id-22 input.sk-toggleable__control:checked~div.sk-toggleable__content {max-height: 200px;max-width: 100%;overflow: auto;}#sk-container-id-22 input.sk-toggleable__control:checked~label.sk-toggleable__label-arrow:before {content: \"▾\";}#sk-container-id-22 div.sk-estimator input.sk-toggleable__control:checked~label.sk-toggleable__label {background-color: #d4ebff;}#sk-container-id-22 div.sk-label input.sk-toggleable__control:checked~label.sk-toggleable__label {background-color: #d4ebff;}#sk-container-id-22 input.sk-hidden--visually {border: 0;clip: rect(1px 1px 1px 1px);clip: rect(1px, 1px, 1px, 1px);height: 1px;margin: -1px;overflow: hidden;padding: 0;position: absolute;width: 1px;}#sk-container-id-22 div.sk-estimator {font-family: monospace;background-color: #f0f8ff;border: 1px dotted black;border-radius: 0.25em;box-sizing: border-box;margin-bottom: 0.5em;}#sk-container-id-22 div.sk-estimator:hover {background-color: #d4ebff;}#sk-container-id-22 div.sk-parallel-item::after {content: \"\";width: 100%;border-bottom: 1px solid gray;flex-grow: 1;}#sk-container-id-22 div.sk-label:hover label.sk-toggleable__label {background-color: #d4ebff;}#sk-container-id-22 div.sk-serial::before {content: \"\";position: absolute;border-left: 1px solid gray;box-sizing: border-box;top: 0;bottom: 0;left: 50%;z-index: 0;}#sk-container-id-22 div.sk-serial {display: flex;flex-direction: column;align-items: center;background-color: white;padding-right: 0.2em;padding-left: 0.2em;position: relative;}#sk-container-id-22 div.sk-item {position: relative;z-index: 1;}#sk-container-id-22 div.sk-parallel {display: flex;align-items: stretch;justify-content: center;background-color: white;position: relative;}#sk-container-id-22 div.sk-item::before, #sk-container-id-22 div.sk-parallel-item::before {content: \"\";position: absolute;border-left: 1px solid gray;box-sizing: border-box;top: 0;bottom: 0;left: 50%;z-index: -1;}#sk-container-id-22 div.sk-parallel-item {display: flex;flex-direction: column;z-index: 1;position: relative;background-color: white;}#sk-container-id-22 div.sk-parallel-item:first-child::after {align-self: flex-end;width: 50%;}#sk-container-id-22 div.sk-parallel-item:last-child::after {align-self: flex-start;width: 50%;}#sk-container-id-22 div.sk-parallel-item:only-child::after {width: 0;}#sk-container-id-22 div.sk-dashed-wrapped {border: 1px dashed gray;margin: 0 0.4em 0.5em 0.4em;box-sizing: border-box;padding-bottom: 0.4em;background-color: white;}#sk-container-id-22 div.sk-label label {font-family: monospace;font-weight: bold;display: inline-block;line-height: 1.2em;}#sk-container-id-22 div.sk-label-container {text-align: center;}#sk-container-id-22 div.sk-container {/* jupyter's `normalize.less` sets `[hidden] { display: none; }` but bootstrap.min.css set `[hidden] { display: none !important; }` so we also need the `!important` here to be able to override the default hidden behavior on the sphinx rendered scikit-learn.org. See: https://github.com/scikit-learn/scikit-learn/issues/21755 */display: inline-block !important;position: relative;}#sk-container-id-22 div.sk-text-repr-fallback {display: none;}</style><div id=\"sk-container-id-22\" class=\"sk-top-container\"><div class=\"sk-text-repr-fallback\"><pre>SVR(C=3000)</pre><b>In a Jupyter environment, please rerun this cell to show the HTML representation or trust the notebook. <br />On GitHub, the HTML representation is unable to render, please try loading this page with nbviewer.org.</b></div><div class=\"sk-container\" hidden><div class=\"sk-item\"><div class=\"sk-estimator sk-toggleable\"><input class=\"sk-toggleable__control sk-hidden--visually\" id=\"sk-estimator-id-22\" type=\"checkbox\" checked><label for=\"sk-estimator-id-22\" class=\"sk-toggleable__label sk-toggleable__label-arrow\">SVR</label><div class=\"sk-toggleable__content\"><pre>SVR(C=3000)</pre></div></div></div></div></div>"
      ],
      "text/plain": [
       "SVR(C=3000)"
      ]
     },
     "execution_count": 159,
     "metadata": {},
     "output_type": "execute_result"
    }
   ],
   "source": [
    "# Model creation\n",
    "from sklearn.svm import SVR\n",
    "regressor =SVR(kernel='rbf',C=3000)  # c is to find which vector is nearer to hyperplane\n",
    "# kernel is to find linear/non linear(parabola/3d/cluster) form refer note and svm doc\n",
    "#rdf(default),linear,sigmoid,poly,precomputed\n",
    "regressor.fit(X_train,Y_train)"
   ]
  },
  {
   "cell_type": "code",
   "execution_count": 160,
   "id": "3e6b739c",
   "metadata": {},
   "outputs": [
    {
     "data": {
      "text/plain": [
       "array([16589.18908958])"
      ]
     },
     "execution_count": 160,
     "metadata": {},
     "output_type": "execute_result"
    }
   ],
   "source": [
    "regressor.intercept_ # to find the origin"
   ]
  },
  {
   "cell_type": "code",
   "execution_count": 161,
   "id": "4dc77003",
   "metadata": {},
   "outputs": [
    {
     "data": {
      "text/plain": [
       "array([936])"
      ]
     },
     "execution_count": 161,
     "metadata": {},
     "output_type": "execute_result"
    }
   ],
   "source": [
    "regressor.n_support_ # to find the no of vectors"
   ]
  },
  {
   "cell_type": "code",
   "execution_count": 162,
   "id": "a531f0c8",
   "metadata": {},
   "outputs": [
    {
     "data": {
      "text/plain": [
       "array([  0,   1,   2,   3,   4,   5,   6,   7,   8,   9,  10,  11,  12,\n",
       "        13,  14,  15,  16,  17,  18,  19,  20,  21,  22,  23,  24,  25,\n",
       "        26,  27,  28,  29,  30,  31,  32,  33,  34,  35,  36,  37,  38,\n",
       "        39,  40,  41,  42,  43,  44,  45,  46,  47,  48,  49,  50,  51,\n",
       "        52,  53,  54,  55,  56,  57,  58,  59,  60,  61,  62,  63,  64,\n",
       "        65,  66,  67,  68,  69,  70,  71,  72,  73,  74,  75,  76,  77,\n",
       "        78,  79,  80,  81,  82,  83,  84,  85,  86,  87,  88,  89,  90,\n",
       "        91,  92,  93,  94,  95,  96,  97,  98,  99, 100, 101, 102, 103,\n",
       "       104, 105, 106, 107, 108, 109, 110, 111, 112, 113, 114, 115, 116,\n",
       "       117, 118, 119, 120, 121, 122, 123, 124, 125, 126, 127, 128, 129,\n",
       "       130, 131, 132, 133, 134, 135, 136, 137, 138, 139, 140, 141, 142,\n",
       "       143, 144, 145, 146, 147, 148, 149, 150, 151, 152, 153, 154, 155,\n",
       "       156, 157, 158, 159, 160, 161, 162, 163, 164, 165, 166, 167, 168,\n",
       "       169, 170, 171, 172, 173, 174, 175, 176, 177, 178, 179, 180, 181,\n",
       "       182, 183, 184, 185, 186, 187, 188, 189, 190, 191, 192, 193, 194,\n",
       "       195, 196, 197, 198, 199, 200, 201, 202, 203, 204, 205, 206, 207,\n",
       "       208, 209, 210, 211, 212, 213, 214, 215, 216, 217, 218, 219, 220,\n",
       "       221, 222, 223, 224, 225, 226, 227, 228, 229, 230, 231, 232, 233,\n",
       "       234, 235, 236, 237, 238, 239, 240, 241, 242, 243, 244, 245, 246,\n",
       "       247, 248, 249, 250, 251, 252, 253, 254, 255, 256, 257, 258, 259,\n",
       "       260, 261, 262, 263, 264, 265, 266, 267, 268, 269, 270, 271, 272,\n",
       "       273, 274, 275, 276, 277, 278, 279, 280, 281, 282, 283, 284, 285,\n",
       "       286, 287, 288, 289, 290, 291, 292, 293, 294, 295, 296, 297, 298,\n",
       "       299, 300, 301, 302, 303, 304, 305, 306, 307, 308, 309, 310, 311,\n",
       "       312, 313, 314, 315, 316, 317, 318, 319, 320, 321, 322, 323, 324,\n",
       "       325, 326, 327, 328, 329, 330, 331, 332, 333, 334, 335, 336, 337,\n",
       "       338, 339, 340, 341, 342, 343, 344, 345, 346, 347, 348, 349, 350,\n",
       "       351, 352, 353, 354, 355, 356, 357, 358, 359, 360, 361, 362, 363,\n",
       "       364, 365, 366, 367, 368, 369, 370, 371, 372, 373, 374, 375, 376,\n",
       "       377, 378, 379, 380, 381, 382, 383, 384, 385, 386, 387, 388, 389,\n",
       "       390, 391, 392, 393, 394, 395, 396, 397, 398, 399, 400, 401, 402,\n",
       "       403, 404, 405, 406, 407, 408, 409, 410, 411, 412, 413, 414, 415,\n",
       "       416, 417, 418, 419, 420, 421, 422, 423, 424, 425, 426, 427, 428,\n",
       "       429, 430, 431, 432, 433, 434, 435, 436, 437, 438, 439, 440, 441,\n",
       "       442, 443, 444, 445, 446, 447, 448, 449, 450, 451, 452, 453, 454,\n",
       "       455, 456, 457, 458, 459, 460, 461, 462, 463, 464, 465, 466, 467,\n",
       "       468, 469, 470, 471, 472, 473, 474, 475, 476, 477, 478, 479, 480,\n",
       "       481, 482, 483, 484, 485, 486, 487, 488, 489, 490, 491, 492, 493,\n",
       "       494, 495, 496, 497, 498, 499, 500, 501, 502, 503, 504, 505, 506,\n",
       "       507, 508, 509, 510, 511, 512, 513, 514, 515, 516, 517, 518, 519,\n",
       "       520, 521, 522, 523, 524, 525, 526, 527, 528, 529, 530, 531, 532,\n",
       "       533, 534, 535, 536, 537, 538, 539, 540, 541, 542, 543, 544, 545,\n",
       "       546, 547, 548, 549, 550, 551, 552, 553, 554, 555, 556, 557, 558,\n",
       "       559, 560, 561, 562, 563, 564, 565, 566, 567, 568, 569, 570, 571,\n",
       "       572, 573, 574, 575, 576, 577, 578, 579, 580, 581, 582, 583, 584,\n",
       "       585, 586, 587, 588, 589, 590, 591, 592, 593, 594, 595, 596, 597,\n",
       "       598, 599, 600, 601, 602, 603, 604, 605, 606, 607, 608, 609, 610,\n",
       "       611, 612, 613, 614, 615, 616, 617, 618, 619, 620, 621, 622, 623,\n",
       "       624, 625, 626, 627, 628, 629, 630, 631, 632, 633, 634, 635, 636,\n",
       "       637, 638, 639, 640, 641, 642, 643, 644, 645, 646, 647, 648, 649,\n",
       "       650, 651, 652, 653, 654, 655, 656, 657, 658, 659, 660, 661, 662,\n",
       "       663, 664, 665, 666, 667, 668, 669, 670, 671, 672, 673, 674, 675,\n",
       "       676, 677, 678, 679, 680, 681, 682, 683, 684, 685, 686, 687, 688,\n",
       "       689, 690, 691, 692, 693, 694, 695, 696, 697, 698, 699, 700, 701,\n",
       "       702, 703, 704, 705, 706, 707, 708, 709, 710, 711, 712, 713, 714,\n",
       "       715, 716, 717, 718, 719, 720, 721, 722, 723, 724, 725, 726, 727,\n",
       "       728, 729, 730, 731, 732, 733, 734, 735, 736, 737, 738, 739, 740,\n",
       "       741, 742, 743, 744, 745, 746, 747, 748, 749, 750, 751, 752, 753,\n",
       "       754, 755, 756, 757, 758, 759, 760, 761, 762, 763, 764, 765, 766,\n",
       "       767, 768, 769, 770, 771, 772, 773, 774, 775, 776, 777, 778, 779,\n",
       "       780, 781, 782, 783, 784, 785, 786, 787, 788, 789, 790, 791, 792,\n",
       "       793, 794, 795, 796, 797, 798, 799, 800, 801, 802, 803, 804, 805,\n",
       "       806, 807, 808, 809, 810, 811, 812, 813, 814, 815, 816, 817, 818,\n",
       "       819, 820, 821, 822, 823, 824, 825, 826, 827, 828, 829, 830, 831,\n",
       "       832, 833, 834, 835, 836, 837, 838, 839, 840, 841, 842, 843, 844,\n",
       "       845, 846, 847, 848, 849, 850, 851, 852, 853, 854, 855, 856, 857,\n",
       "       858, 859, 860, 861, 862, 863, 864, 865, 866, 867, 868, 869, 870,\n",
       "       871, 872, 873, 874, 875, 876, 877, 878, 879, 880, 881, 882, 883,\n",
       "       884, 885, 886, 887, 888, 889, 890, 891, 892, 893, 894, 895, 896,\n",
       "       897, 898, 899, 900, 901, 902, 903, 904, 905, 906, 907, 908, 909,\n",
       "       910, 911, 912, 913, 914, 915, 916, 917, 918, 919, 920, 921, 922,\n",
       "       923, 924, 925, 926, 927, 928, 929, 930, 931, 932, 933, 934, 935])"
      ]
     },
     "execution_count": 162,
     "metadata": {},
     "output_type": "execute_result"
    }
   ],
   "source": [
    "regressor.support_ # to find the supoort points"
   ]
  },
  {
   "cell_type": "code",
   "execution_count": 163,
   "id": "17c3313c",
   "metadata": {},
   "outputs": [],
   "source": [
    "# testing\n",
    "test_pred= regressor.predict(X_test)"
   ]
  },
  {
   "cell_type": "code",
   "execution_count": 164,
   "id": "cdbda9c9",
   "metadata": {},
   "outputs": [
    {
     "data": {
      "text/plain": [
       "array([10084.09257621,  8624.7729507 , 46884.58646869, 12831.80286543,\n",
       "       10315.10041574,  4108.71756054,  2213.11004343, 11404.71458294,\n",
       "        7192.75687047,  5105.2156205 ,  7111.22139197, 10281.05240919,\n",
       "        7385.42516556,  4554.35877891, 22691.75241313, 11085.76935048,\n",
       "       12489.53874166,  3063.84179016,  6513.23030101, 25069.82560611,\n",
       "       24081.45525342, 12816.24712754, 10015.86849878, 28082.85079319,\n",
       "        1723.51143501,  4007.47526115,  3993.04628724,  7731.08173135,\n",
       "        4098.28682944,  8418.71974488,  7778.67124373, 44749.93885084,\n",
       "       13252.93156978, 10544.50608648, 14303.56627735,  3873.77342573,\n",
       "        8387.17497776, 39805.70975527, 36906.99909332,  2135.87142871,\n",
       "        5518.63305385,  3234.84606561, 22669.50544228, 44432.39103681,\n",
       "       33585.59932165,  3590.80892728, 11084.94356966,  6939.44898786,\n",
       "        4061.31728473, 12160.34334209,  2358.30942963,  4024.06127488,\n",
       "       28789.19162263, 39474.03096644, 12041.7718838 ,  2658.35234773,\n",
       "        2276.87718916,  8818.02677984,  9272.36378651, 13063.74837808,\n",
       "        1731.98743872, 33362.70557106, 14118.28479032,  9975.3930357 ,\n",
       "       10266.27353361, 10105.94407479, 23967.46086378, 34401.67779183,\n",
       "        3490.19017262,  7806.02347934, 13347.47697403, 11990.45615888,\n",
       "       18885.20873415, 13917.28170478, 13021.72672915, 12978.81769805,\n",
       "        7515.99956318,  8109.10414781, 21703.07050155, 43707.3674754 ,\n",
       "       11473.45152769, 38638.35719686,  1834.10530134,  7760.18592676,\n",
       "       41953.11681724, 19461.62475064,  3393.77318363,  2535.59554892,\n",
       "       12765.78806232, 36618.22090745,  5749.37872229, 10610.80540962,\n",
       "        2831.40629234,  8611.92060177,  4035.64248197,  4590.77617191,\n",
       "       34816.87089655, 32086.30667055,  5032.42002722, 10889.44565608,\n",
       "        1938.45383298,  5147.04002501,  4476.6213934 , 37040.68023461,\n",
       "       27025.32744317,  3300.84878178, 10990.94982838,  3175.07509525,\n",
       "       11738.11620282, 38001.62314486, 12493.48711974,  4507.33883976,\n",
       "        8947.32717919, 26457.06260844, 44658.24365839,  7668.8804322 ,\n",
       "        1989.07449004,  8818.02643673, 12667.58367202,  9457.03675167,\n",
       "       40053.25971661, 10601.77197194, 14090.60591538,  4863.29467289,\n",
       "        7641.18484105,  4839.27546031, 25535.47661579, 20022.76572531,\n",
       "       41636.00499138,  1571.19247118,  8319.26233531,  1953.54239809,\n",
       "        6019.27968413,  9185.28460243, 30428.05832345, 29493.31137445,\n",
       "       21124.89371127, 10306.84034177, 22714.67844999,  2676.36580639,\n",
       "        2209.55339894, 10614.3814259 ,  9444.16461721, 10206.71944443,\n",
       "        4821.10280109, 14292.20429231, 13207.10717175,  3663.88854841,\n",
       "        1609.31912811, 10838.49443724,  5976.16400337, 39232.32409444,\n",
       "        9672.64946206,  2101.23701273,  2473.81807549,  6535.28483336,\n",
       "        2482.3334122 ,  2113.88115962, 11085.64532673,  9991.86192107,\n",
       "        4370.19122768, 13137.68396512, 12995.14908655,  9470.58468222,\n",
       "        4434.77107734,  4533.47694205, 14140.12325121,  5529.76874134,\n",
       "        4196.88379491,  2163.59706744,  3982.99997416,  4215.21844803,\n",
       "        8026.36994288,  1936.18078135,  4331.33195447,  4625.8225369 ,\n",
       "        4077.8483469 ,  5997.3483591 , 32122.62187393,  1695.63889569,\n",
       "       11173.33978913,  6566.02514953, 11353.55801509,  2542.7996572 ,\n",
       "        5488.14523941, 29223.60985947,  1862.03276176,  2702.14582814,\n",
       "       14388.08735403, 10091.3796972 , 35990.50566169,  4171.14501518,\n",
       "        5463.8645577 , 22980.49687034,  2099.00156836,  2309.14930283,\n",
       "        6240.84214788,  5943.72484509,  4141.85838316,  4225.45129195,\n",
       "       11255.86330361, 38479.30408671, 12391.3237143 , 20248.48974667,\n",
       "        4395.97089109, 45851.16122652,  3581.60833782,  9448.13726826,\n",
       "        5863.93445573,  2616.23848287,  8635.6694702 , 13693.99101057,\n",
       "        4968.9190176 ,  2436.99324715,  6658.42387945,  2182.54637656,\n",
       "        6369.05649234,  4743.41380915, 14390.72506967,  7243.91768085,\n",
       "        6172.85842356,  7753.48996008,  8652.9784586 ,  2929.2179802 ,\n",
       "       12211.75910849, 13991.07213987, 12747.99833383, 12264.76868203,\n",
       "        7234.36448688,  2462.0791069 ,  1588.61473731,  7754.6423211 ,\n",
       "       12558.35493748,  4866.05386295,  4502.7216582 ,  7172.90654239,\n",
       "        8916.74083666, 26972.78559043,  5882.09532458, 11333.58295546,\n",
       "        5749.93136447, 31547.02759136,  7458.00436854,  7182.00040475,\n",
       "        8341.63912906, 10433.4233902 ,  3059.23126042,  7466.65222895,\n",
       "        2504.07818816,  6608.30044229, 24965.05998535, 36793.28000208,\n",
       "        4137.7227323 ,  3225.49618486,  2195.82532   ,  1594.51369801,\n",
       "        7622.31529362,  1945.92376544,  4158.7347196 ,  3461.86602877,\n",
       "        9453.12603238, 29043.40383653, 36764.32655567, 15113.73164618,\n",
       "        6664.35184601, 11259.33331625, 36817.03499326,  9490.58087623,\n",
       "       30868.45495081,  1327.96980429, 36722.77439803,  4810.58744263,\n",
       "       12840.04321546,  3970.75931436, 40522.13299245,  5020.62557748,\n",
       "        9848.93731395,  9955.44365963,  2186.52697721, 13513.92121689,\n",
       "       12233.82522466,  4001.03315781, 12560.92409597,  2167.61880227,\n",
       "        5478.82986468,  3879.16877554,  8924.56397346, 22989.51607749,\n",
       "        3923.91767262,  1681.70485174,  2896.32141703, 43695.78416549,\n",
       "        9083.87043025,  4353.10913805, 12409.03299807, 11648.82980511,\n",
       "       27894.23488887,  6500.81126817,  5094.4153182 ,  8715.85318782,\n",
       "        1628.22920947,  3127.09258486, 15416.50448529, 17773.13555298,\n",
       "       13708.20633464,  2479.26583513,  3240.40764218,  9074.84068433,\n",
       "        9458.28819791, 14032.49365887, 22408.89583449,  5989.25985052,\n",
       "       14605.27417143,  2206.2791717 ,  5812.49216313,  4055.74453601,\n",
       "        8440.9294164 ,  2764.95411244,  6623.34119831, 44455.91745238,\n",
       "        3649.52740578,  3571.28935494,  2228.12488174,  8650.89686086,\n",
       "        3339.27444757, 12331.04872008, 40059.22236007, 15772.59233617,\n",
       "        9001.76799578, 45697.12464649, 13224.08474528,  4381.46465667,\n",
       "        9728.70622993,  4088.49767448, 32164.3927275 ,  4597.80385229,\n",
       "       13414.45921242,  2044.52910593, 16165.74337295,  3100.49645481,\n",
       "       24976.45511634,  5929.93186218,  2197.45743426, 39305.48409827,\n",
       "        5338.66542732,  5262.12164131, 31180.58407305,  1640.9216039 ,\n",
       "        8445.50039618,  2950.02231264, 11756.02981481,  3352.36233944,\n",
       "        5038.61294315,  4896.89481105, 39827.78574758,  8847.66647796,\n",
       "       30235.34089722, 38846.8181688 ,  5881.08626294,  8606.98407099,\n",
       "        1757.0427205 ,  3282.13383214,  3461.15831976,  8489.25990795,\n",
       "       41708.18872015, 11350.99221095,  2246.33315903, 12114.94130943,\n",
       "        2113.38558271,  7680.12549849,  3795.97293795,  2512.48385817,\n",
       "        3204.02559017, 34714.97647275,  7207.97174551,  2231.10245726,\n",
       "       43608.0838551 , 11168.52202795, 41511.6461906 , 11725.39029179,\n",
       "        4205.27112617,  2090.51932736,  2328.28592461, 10412.21063231,\n",
       "        5131.58469587,  2090.55082391, 10440.25148628,  7224.8400964 ,\n",
       "        6348.55706077,  4165.15842765,  2665.96208734, 41800.1621246 ,\n",
       "        1774.86443219,  9382.25669224,  1998.65168152,  7087.64382471,\n",
       "       10898.45360005,  3184.39005822, 17660.18295866, 10536.85627238,\n",
       "       14540.87615575, 13735.21746266])"
      ]
     },
     "execution_count": 164,
     "metadata": {},
     "output_type": "execute_result"
    }
   ],
   "source": [
    "test_pred"
   ]
  },
  {
   "cell_type": "code",
   "execution_count": 165,
   "id": "78ab5e03",
   "metadata": {},
   "outputs": [
    {
     "data": {
      "text/plain": [
       "0.8663393953081687"
      ]
     },
     "execution_count": 165,
     "metadata": {},
     "output_type": "execute_result"
    }
   ],
   "source": [
    "#Evalution Metrics\n",
    "from sklearn.metrics import r2_score\n",
    "r2 = r2_score(Y_test,test_pred)\n",
    "r2"
   ]
  }
 ],
 "metadata": {
  "kernelspec": {
   "display_name": "Python 3 (ipykernel)",
   "language": "python",
   "name": "python3"
  },
  "language_info": {
   "codemirror_mode": {
    "name": "ipython",
    "version": 3
   },
   "file_extension": ".py",
   "mimetype": "text/x-python",
   "name": "python",
   "nbconvert_exporter": "python",
   "pygments_lexer": "ipython3",
   "version": "3.11.7"
  }
 },
 "nbformat": 4,
 "nbformat_minor": 5
}
