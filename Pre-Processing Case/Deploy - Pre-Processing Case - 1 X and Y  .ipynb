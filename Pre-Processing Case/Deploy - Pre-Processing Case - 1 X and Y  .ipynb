{
 "cells": [
  {
   "cell_type": "code",
   "execution_count": 1,
   "id": "85d14868",
   "metadata": {},
   "outputs": [],
   "source": [
    "import pandas as pd\n",
    "dataset=pd.read_csv(\"50_Startups.csv\")\n",
    "dataset=pd.get_dummies(dataset,drop_first=True)\n",
    "dataset = dataset.astype(int)\n",
    "independent = dataset[['R&D Spend', 'Administration', 'Marketing Spend', 'State_Florida', 'State_New York']]\n",
    "dependent=dataset[['Profit']]\n",
    "from sklearn.model_selection import train_test_split\n",
    "X_train,X_test,Y_train,Y_test = train_test_split(independent,dependent,test_size=0.30,random_state=0)\n",
    "from sklearn.preprocessing import StandardScaler\n",
    "stdX = StandardScaler()\n",
    "X_train = stdX.fit_transform(X_train) # fit.transform_ will perform the formula\n",
    "X_test=stdX.transform(X_test)# here transform_ will perform the formula as we given above bcoz already it found the value above\n",
    "stdY = StandardScaler()\n",
    "Y_train = stdY.fit_transform(Y_train) # fit.transform_ will perform the formula\n",
    "Y_test=stdY.transform(Y_test)# here transform_ will perform the formula as we given above bcoz already it found the value above"
   ]
  },
  {
   "cell_type": "code",
   "execution_count": 2,
   "id": "df04de17",
   "metadata": {},
   "outputs": [
    {
     "name": "stderr",
     "output_type": "stream",
     "text": [
      "C:\\Anaconda3\\Lib\\site-packages\\sklearn\\base.py:439: UserWarning: X does not have valid feature names, but StandardScaler was fitted with feature names\n",
      "  warnings.warn(\n"
     ]
    },
    {
     "data": {
      "text/plain": [
       "array([[63262.59208879]])"
      ]
     },
     "execution_count": 2,
     "metadata": {},
     "output_type": "execute_result"
    }
   ],
   "source": [
    "import pickle\n",
    "filename= \"SVMRegressor_profit.sav\"\n",
    "load_model=pickle.load(open(\"SVMRegressor_profit.sav\",'rb'))\n",
    "preinput = stdX.transform([[1200,15000,5000,0,1]])\n",
    "preinput\n",
    "result=load_model.predict(preinput)\n",
    "result\n",
    "preoutput = stdY.inverse_transform([result])\n",
    "preoutput"
   ]
  },
  {
   "cell_type": "code",
   "execution_count": null,
   "id": "d1e446fc",
   "metadata": {},
   "outputs": [],
   "source": []
  }
 ],
 "metadata": {
  "kernelspec": {
   "display_name": "Python 3 (ipykernel)",
   "language": "python",
   "name": "python3"
  },
  "language_info": {
   "codemirror_mode": {
    "name": "ipython",
    "version": 3
   },
   "file_extension": ".py",
   "mimetype": "text/x-python",
   "name": "python",
   "nbconvert_exporter": "python",
   "pygments_lexer": "ipython3",
   "version": "3.11.7"
  }
 },
 "nbformat": 4,
 "nbformat_minor": 5
}
